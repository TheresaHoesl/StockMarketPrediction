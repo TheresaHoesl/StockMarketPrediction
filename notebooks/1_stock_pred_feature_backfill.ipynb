{
 "cells": [
  {
   "cell_type": "markdown",
   "id": "f139ba67",
   "metadata": {},
   "source": [
    "<span style=\"font-width:bold; font-size: 3rem; color:#333;\">- Part 01: Feature Backfill for Stock Market Data</span>\n",
    "\n",
    "\n"
   ]
  },
  {
   "cell_type": "markdown",
   "id": "41d6a80c",
   "metadata": {},
   "source": [
    "## Imports"
   ]
  },
  {
   "cell_type": "code",
   "execution_count": 1,
   "id": "0f447120",
   "metadata": {},
   "outputs": [],
   "source": [
    "import datetime\n",
    "import requests\n",
    "import pandas as pd\n",
    "import hopsworks\n",
    "import datetime\n",
    "from pathlib import Path\n",
    "from functions import util\n",
    "import json\n",
    "import re\n",
    "import os\n",
    "import warnings\n",
    "warnings.filterwarnings(\"ignore\")"
   ]
  },
  {
   "cell_type": "markdown",
   "id": "0bb50142-06be-4003-9fd0-6b19c095b010",
   "metadata": {},
   "source": [
    "### TO WIPE OUT ALL OF FEATURES AND MODELS, run the cell below"
   ]
  },
  {
   "cell_type": "code",
   "execution_count": 2,
   "id": "014f3362-87f5-4abd-bb57-bebd28638bdb",
   "metadata": {},
   "outputs": [],
   "source": [
    "# If you haven't set the env variable 'HOPSWORKS_API_KEY', then uncomment the next line and enter your API key\n",
    "# os.environ[\"HOPSWORKS_API_KEY\"] = \"\"\n",
    "# proj = hopsworks.login()\n",
    "# util.purge_project(proj)"
   ]
  },
  {
   "cell_type": "markdown",
   "id": "50156f96",
   "metadata": {},
   "source": [
    "---"
   ]
  },
  {
   "cell_type": "markdown",
   "id": "e8288723",
   "metadata": {},
   "source": [
    "## Alphavantage API Key"
   ]
  },
  {
   "cell_type": "code",
   "execution_count": 3,
   "id": "6ea6ab4f-a2ab-4865-b215-78b1001265c7",
   "metadata": {},
   "outputs": [
    {
     "name": "stdout",
     "output_type": "stream",
     "text": [
      "File successfully found at the path: ../data/alphavantage-api-key.txt\n"
     ]
    }
   ],
   "source": [
    "api_key_file = '../data/alphavantage-api-key.txt'\n",
    "util.check_file_path(api_key_file)\n",
    "\n",
    "with open(api_key_file, 'r') as file:\n",
    "    ALPHAVANTAGE_API_KEY = file.read().rstrip()"
   ]
  },
  {
   "cell_type": "markdown",
   "id": "bd8b8d1a-62a5-4a1d-b805-6e83cafcd29f",
   "metadata": {},
   "source": [
    "## Hopsworks API Key\n"
   ]
  },
  {
   "cell_type": "code",
   "execution_count": 4,
   "id": "9f1a49d6-9cd2-4246-b0ca-1058672e4848",
   "metadata": {},
   "outputs": [
    {
     "name": "stdout",
     "output_type": "stream",
     "text": [
      "2025-01-05 17:12:32,020 INFO: Initializing external client\n",
      "2025-01-05 17:12:32,020 INFO: Base URL: https://c.app.hopsworks.ai:443\n",
      "2025-01-05 17:12:34,499 INFO: Python Engine initialized.\n",
      "\n",
      "Logged in to project, explore it here https://c.app.hopsworks.ai:443/p/1205424\n"
     ]
    },
    {
     "data": {
      "text/plain": [
       "Project('StockPrediction', 'theresa.hoesl@t-online.de', 'Default project')"
      ]
     },
     "execution_count": 4,
     "metadata": {},
     "output_type": "execute_result"
    }
   ],
   "source": [
    "with open('../data/hopsworks-api-key.txt', 'r') as file:\n",
    "    os.environ[\"HOPSWORKS_API_KEY\"] = file.read().rstrip()\n",
    "\n",
    "project = hopsworks.login(project = 'StockPrediction', api_key_value=os.environ[\"HOPSWORKS_API_KEY\"])\n",
    "\n",
    "project"
   ]
  },
  {
   "cell_type": "code",
   "execution_count": 5,
   "id": "e5096dbc",
   "metadata": {},
   "outputs": [
    {
     "data": {
      "text/plain": [
       "'StockPrediction'"
      ]
     },
     "execution_count": 5,
     "metadata": {},
     "output_type": "execute_result"
    }
   ],
   "source": [
    "project.name"
   ]
  },
  {
   "cell_type": "code",
   "execution_count": 6,
   "id": "7c9caee6",
   "metadata": {},
   "outputs": [],
   "source": [
    "secrets_api = hopsworks.get_secrets_api()\n",
    "try:\n",
    "    secrets_api.create_secret('AV_API_KEY', ALPHAVANTAGE_API_KEY)\n",
    "except hopsworks.RestAPIError:\n",
    "    ALPHAVANTAGE_API_KEY = secrets_api.get_secret(\"AV_API_KEY\").value"
   ]
  },
  {
   "cell_type": "markdown",
   "id": "1ba1c5eb-4a22-45d4-8934-f521e54a87c4",
   "metadata": {},
   "source": [
    "### Validate that ALPHAVANTAGE_API_KEY works"
   ]
  },
  {
   "cell_type": "code",
   "execution_count": 7,
   "id": "786127b0-c4e5-4a5f-a6fa-4cce903a9c77",
   "metadata": {},
   "outputs": [
    {
     "data": {
      "text/html": [
       "<div>\n",
       "<style scoped>\n",
       "    .dataframe tbody tr th:only-of-type {\n",
       "        vertical-align: middle;\n",
       "    }\n",
       "\n",
       "    .dataframe tbody tr th {\n",
       "        vertical-align: top;\n",
       "    }\n",
       "\n",
       "    .dataframe thead th {\n",
       "        text-align: right;\n",
       "    }\n",
       "</style>\n",
       "<table border=\"1\" class=\"dataframe\">\n",
       "  <thead>\n",
       "    <tr style=\"text-align: right;\">\n",
       "      <th></th>\n",
       "      <th>date</th>\n",
       "      <th>price</th>\n",
       "    </tr>\n",
       "  </thead>\n",
       "  <tbody>\n",
       "    <tr>\n",
       "      <th>0</th>\n",
       "      <td>2025-01-03</td>\n",
       "      <td>466.690002</td>\n",
       "    </tr>\n",
       "  </tbody>\n",
       "</table>\n",
       "</div>"
      ],
      "text/plain": [
       "        date       price\n",
       "0 2025-01-03  466.690002"
      ]
     },
     "execution_count": 7,
     "metadata": {},
     "output_type": "execute_result"
    }
   ],
   "source": [
    "try:\n",
    "    sp_SPOT_df = util.get_stock_price('SPOT', ALPHAVANTAGE_API_KEY)\n",
    "except hopsworks.RestAPIError:\n",
    "    print(\"It looks like the AQI_API_KEY doesn't work for your sensor. Is the API key correct? Is the sensor URL correct?\")\n",
    "\n",
    "sp_SPOT_df.head()"
   ]
  },
  {
   "cell_type": "markdown",
   "id": "c706e751",
   "metadata": {},
   "source": [
    "## Read CSV file into DataFrames"
   ]
  },
  {
   "cell_type": "code",
   "execution_count": 8,
   "id": "22d16cd1",
   "metadata": {},
   "outputs": [],
   "source": [
    "csv_file_SPOT=\"../data/daily_SPOT.csv\"\n",
    "csv_file_GOOGL=\"../data/daily_GOOGL.csv\"\n",
    "csv_file_BTC=\"../data/currency_daily_BTC_USD.csv\""
   ]
  },
  {
   "cell_type": "code",
   "execution_count": 9,
   "id": "bc3a1212",
   "metadata": {
    "tags": []
   },
   "outputs": [],
   "source": [
    "df_SPOT = pd.read_csv(csv_file_SPOT)\n",
    "df_GOOGL = pd.read_csv(csv_file_GOOGL)\n",
    "df_BTC = pd.read_csv(csv_file_BTC)"
   ]
  },
  {
   "cell_type": "markdown",
   "id": "8812eb37-04e3-4291-8d77-a69ef7a195bc",
   "metadata": {},
   "source": [
    "## Data cleaning"
   ]
  },
  {
   "cell_type": "code",
   "execution_count": 10,
   "id": "fd20c859-ef3c-4b54-bbcb-83898afefa79",
   "metadata": {},
   "outputs": [
    {
     "data": {
      "text/html": [
       "<div>\n",
       "<style scoped>\n",
       "    .dataframe tbody tr th:only-of-type {\n",
       "        vertical-align: middle;\n",
       "    }\n",
       "\n",
       "    .dataframe tbody tr th {\n",
       "        vertical-align: top;\n",
       "    }\n",
       "\n",
       "    .dataframe thead th {\n",
       "        text-align: right;\n",
       "    }\n",
       "</style>\n",
       "<table border=\"1\" class=\"dataframe\">\n",
       "  <thead>\n",
       "    <tr style=\"text-align: right;\">\n",
       "      <th></th>\n",
       "      <th>timestamp</th>\n",
       "      <th>price</th>\n",
       "    </tr>\n",
       "  </thead>\n",
       "  <tbody>\n",
       "    <tr>\n",
       "      <th>0</th>\n",
       "      <td>2024-12-16</td>\n",
       "      <td>484.90</td>\n",
       "    </tr>\n",
       "    <tr>\n",
       "      <th>1</th>\n",
       "      <td>2024-12-13</td>\n",
       "      <td>483.31</td>\n",
       "    </tr>\n",
       "    <tr>\n",
       "      <th>2</th>\n",
       "      <td>2024-12-12</td>\n",
       "      <td>480.11</td>\n",
       "    </tr>\n",
       "    <tr>\n",
       "      <th>3</th>\n",
       "      <td>2024-12-11</td>\n",
       "      <td>476.91</td>\n",
       "    </tr>\n",
       "    <tr>\n",
       "      <th>4</th>\n",
       "      <td>2024-12-10</td>\n",
       "      <td>471.58</td>\n",
       "    </tr>\n",
       "    <tr>\n",
       "      <th>...</th>\n",
       "      <td>...</td>\n",
       "      <td>...</td>\n",
       "    </tr>\n",
       "    <tr>\n",
       "      <th>1684</th>\n",
       "      <td>2018-04-09</td>\n",
       "      <td>150.00</td>\n",
       "    </tr>\n",
       "    <tr>\n",
       "      <th>1685</th>\n",
       "      <td>2018-04-06</td>\n",
       "      <td>147.92</td>\n",
       "    </tr>\n",
       "    <tr>\n",
       "      <th>1686</th>\n",
       "      <td>2018-04-05</td>\n",
       "      <td>143.99</td>\n",
       "    </tr>\n",
       "    <tr>\n",
       "      <th>1687</th>\n",
       "      <td>2018-04-04</td>\n",
       "      <td>144.22</td>\n",
       "    </tr>\n",
       "    <tr>\n",
       "      <th>1688</th>\n",
       "      <td>2018-04-03</td>\n",
       "      <td>149.01</td>\n",
       "    </tr>\n",
       "  </tbody>\n",
       "</table>\n",
       "<p>1689 rows × 2 columns</p>\n",
       "</div>"
      ],
      "text/plain": [
       "       timestamp   price\n",
       "0     2024-12-16  484.90\n",
       "1     2024-12-13  483.31\n",
       "2     2024-12-12  480.11\n",
       "3     2024-12-11  476.91\n",
       "4     2024-12-10  471.58\n",
       "...          ...     ...\n",
       "1684  2018-04-09  150.00\n",
       "1685  2018-04-06  147.92\n",
       "1686  2018-04-05  143.99\n",
       "1687  2018-04-04  144.22\n",
       "1688  2018-04-03  149.01\n",
       "\n",
       "[1689 rows x 2 columns]"
      ]
     },
     "execution_count": 10,
     "metadata": {},
     "output_type": "execute_result"
    }
   ],
   "source": [
    "# extract closing price\n",
    "df_SPOT.drop(columns=['open', 'high', 'low', 'volume'], inplace=True)\n",
    "df_GOOGL.drop(columns=['open', 'high', 'low', 'volume'], inplace=True)\n",
    "df_BTC.drop(columns=['open', 'high', 'low', 'volume'], inplace=True)\n",
    "\n",
    "df_SPOT.rename(columns={'close': 'price'}, inplace=True)\n",
    "df_GOOGL.rename(columns={'close': 'price'}, inplace=True)\n",
    "df_BTC.rename(columns={'close': 'price'}, inplace=True)\n",
    "\n",
    "df_SPOT['timestamp']=pd.to_datetime(df_SPOT['timestamp'])\n",
    "df_GOOGL['timestamp']=pd.to_datetime(df_GOOGL['timestamp'])\n",
    "df_BTC['timestamp']=pd.to_datetime(df_BTC['timestamp'])"
   ]
  },
  {
   "cell_type": "code",
   "execution_count": 11,
   "id": "37b0a762",
   "metadata": {},
   "outputs": [],
   "source": [
    "df_SPOT.dropna(inplace=True)\n",
    "df_GOOGL.dropna(inplace=True)\n",
    "df_BTC.dropna(inplace=True)"
   ]
  },
  {
   "cell_type": "markdown",
   "id": "8a9d5eeb",
   "metadata": {},
   "source": [
    "## Define Data Validation Rules \n"
   ]
  },
  {
   "cell_type": "code",
   "execution_count": 12,
   "id": "11bcdcad",
   "metadata": {},
   "outputs": [
    {
     "data": {
      "text/plain": [
       "{\"expectation_type\": \"expect_column_min_to_be_between\", \"kwargs\": {\"column\": \"price\", \"min_value\": 0.01}, \"meta\": {}}"
      ]
     },
     "execution_count": 12,
     "metadata": {},
     "output_type": "execute_result"
    }
   ],
   "source": [
    "import great_expectations as ge\n",
    "\n",
    "# Create an Expectation Suite\n",
    "sp_expectation_suite = ge.core.ExpectationSuite(\n",
    "    expectation_suite_name=\"sp_expectation_suite\"\n",
    ")\n",
    "\n",
    "# Add an expectation to check that all prices are >= 0\n",
    "sp_expectation_suite.add_expectation(\n",
    "    ge.core.ExpectationConfiguration(\n",
    "        expectation_type=\"expect_column_min_to_be_between\",\n",
    "        kwargs={\n",
    "            \"column\": \"price\",\n",
    "            \"min_value\": 0.01,  # Set minimum value to 0.01 to exclude 0 and negatives\n",
    "        }\n",
    "    )\n",
    ")\n"
   ]
  },
  {
   "cell_type": "markdown",
   "id": "6291a502",
   "metadata": {},
   "source": [
    "## Connect to Hopsworks"
   ]
  },
  {
   "cell_type": "code",
   "execution_count": 13,
   "id": "cd0cc05a",
   "metadata": {},
   "outputs": [
    {
     "data": {
      "text/plain": [
       "Project('StockPrediction', 'theresa.hoesl@t-online.de', 'Default project')"
      ]
     },
     "execution_count": 13,
     "metadata": {},
     "output_type": "execute_result"
    }
   ],
   "source": [
    "project"
   ]
  },
  {
   "cell_type": "code",
   "execution_count": 14,
   "id": "aeaf20ef",
   "metadata": {},
   "outputs": [],
   "source": [
    "fs = project.get_feature_store() "
   ]
  },
  {
   "cell_type": "markdown",
   "id": "27e79b3f",
   "metadata": {},
   "source": [
    "## Create the Feature Groups and insert the DataFrames in them"
   ]
  },
  {
   "cell_type": "code",
   "execution_count": 21,
   "id": "4d2bb403",
   "metadata": {
    "scrolled": true,
    "tags": []
   },
   "outputs": [],
   "source": [
    "SPOT_fg = fs.get_or_create_feature_group(\n",
    "    name='spot',\n",
    "    description='Spotify Stock Prices',\n",
    "    version=1,\n",
    "    primary_key=['price'],\n",
    "    event_time=\"timestamp\",\n",
    "    expectation_suite=sp_expectation_suite\n",
    ")\n",
    "\n",
    "GOOGL_fg = fs.get_or_create_feature_group(\n",
    "    name='googl',\n",
    "    description='Google Stock Prices',\n",
    "    version=1,\n",
    "    primary_key=['price'],\n",
    "    event_time=\"timestamp\",\n",
    "    expectation_suite=sp_expectation_suite\n",
    ")\n",
    "\n",
    "BTC_fg = fs.get_or_create_feature_group(\n",
    "    name='btc',\n",
    "    description='Bitcoin Prices',\n",
    "    version=1,\n",
    "    primary_key=['price'],\n",
    "    event_time=\"timestamp\",\n",
    "    expectation_suite=sp_expectation_suite\n",
    ")"
   ]
  },
  {
   "cell_type": "code",
   "execution_count": 22,
   "id": "0fb42574",
   "metadata": {},
   "outputs": [
    {
     "name": "stdout",
     "output_type": "stream",
     "text": [
      "Feature Group created successfully, explore it at \n",
      "https://c.app.hopsworks.ai:443/p/1205424/fs/1194062/fg/1394596\n",
      "2025-01-05 17:16:52,232 INFO: \t1 expectation(s) included in expectation_suite.\n",
      "Validation succeeded.\n",
      "Validation Report saved successfully, explore a summary at https://c.app.hopsworks.ai:443/p/1205424/fs/1194062/fg/1394596\n"
     ]
    },
    {
     "name": "stderr",
     "output_type": "stream",
     "text": [
      "Uploading Dataframe: 100.00% |██████████| Rows 1689/1689 | Elapsed Time: 00:01 | Remaining Time: 00:00\n"
     ]
    },
    {
     "name": "stdout",
     "output_type": "stream",
     "text": [
      "Launching job: spot_1_offline_fg_materialization\n",
      "Job started successfully, you can follow the progress at \n",
      "https://c.app.hopsworks.ai:443/p/1205424/jobs/named/spot_1_offline_fg_materialization/executions\n",
      "Feature Group created successfully, explore it at \n",
      "https://c.app.hopsworks.ai:443/p/1205424/fs/1194062/fg/1393570\n",
      "2025-01-05 17:17:08,194 INFO: \t1 expectation(s) included in expectation_suite.\n",
      "Validation succeeded.\n",
      "Validation Report saved successfully, explore a summary at https://c.app.hopsworks.ai:443/p/1205424/fs/1194062/fg/1393570\n"
     ]
    },
    {
     "name": "stderr",
     "output_type": "stream",
     "text": [
      "Uploading Dataframe: 100.00% |██████████| Rows 5117/5117 | Elapsed Time: 00:01 | Remaining Time: 00:00\n"
     ]
    },
    {
     "name": "stdout",
     "output_type": "stream",
     "text": [
      "Launching job: googl_1_offline_fg_materialization\n",
      "Job started successfully, you can follow the progress at \n",
      "https://c.app.hopsworks.ai:443/p/1205424/jobs/named/googl_1_offline_fg_materialization/executions\n",
      "Feature Group created successfully, explore it at \n",
      "https://c.app.hopsworks.ai:443/p/1205424/fs/1194062/fg/1394597\n",
      "2025-01-05 17:17:24,090 INFO: \t1 expectation(s) included in expectation_suite.\n",
      "Validation succeeded.\n",
      "Validation Report saved successfully, explore a summary at https://c.app.hopsworks.ai:443/p/1205424/fs/1194062/fg/1394597\n"
     ]
    },
    {
     "name": "stderr",
     "output_type": "stream",
     "text": [
      "Uploading Dataframe: 100.00% |██████████| Rows 350/350 | Elapsed Time: 00:01 | Remaining Time: 00:00\n"
     ]
    },
    {
     "name": "stdout",
     "output_type": "stream",
     "text": [
      "Launching job: btc_1_offline_fg_materialization\n",
      "Job started successfully, you can follow the progress at \n",
      "https://c.app.hopsworks.ai:443/p/1205424/jobs/named/btc_1_offline_fg_materialization/executions\n"
     ]
    },
    {
     "data": {
      "text/plain": [
       "(Job('btc_1_offline_fg_materialization', 'SPARK'),\n",
       " {\n",
       "   \"success\": true,\n",
       "   \"results\": [\n",
       "     {\n",
       "       \"success\": true,\n",
       "       \"expectation_config\": {\n",
       "         \"expectation_type\": \"expect_column_min_to_be_between\",\n",
       "         \"kwargs\": {\n",
       "           \"column\": \"price\",\n",
       "           \"min_value\": 0.01\n",
       "         },\n",
       "         \"meta\": {\n",
       "           \"expectationId\": 694459\n",
       "         }\n",
       "       },\n",
       "       \"result\": {\n",
       "         \"observed_value\": 39524.27,\n",
       "         \"element_count\": 350,\n",
       "         \"missing_count\": null,\n",
       "         \"missing_percent\": null\n",
       "       },\n",
       "       \"meta\": {\n",
       "         \"ingestionResult\": \"INGESTED\",\n",
       "         \"validationTime\": \"2025-01-05T04:17:24.000090Z\"\n",
       "       },\n",
       "       \"exception_info\": {\n",
       "         \"raised_exception\": false,\n",
       "         \"exception_message\": null,\n",
       "         \"exception_traceback\": null\n",
       "       }\n",
       "     }\n",
       "   ],\n",
       "   \"evaluation_parameters\": {},\n",
       "   \"statistics\": {\n",
       "     \"evaluated_expectations\": 1,\n",
       "     \"successful_expectations\": 1,\n",
       "     \"unsuccessful_expectations\": 0,\n",
       "     \"success_percent\": 100.0\n",
       "   },\n",
       "   \"meta\": {\n",
       "     \"great_expectations_version\": \"0.18.12\",\n",
       "     \"expectation_suite_name\": \"sp_expectation_suite\",\n",
       "     \"run_id\": {\n",
       "       \"run_name\": null,\n",
       "       \"run_time\": \"2025-01-05T17:17:24.090818+01:00\"\n",
       "     },\n",
       "     \"batch_kwargs\": {\n",
       "       \"ge_batch_id\": \"8c3e1d96-cb80-11ef-919a-f446376431c8\"\n",
       "     },\n",
       "     \"batch_markers\": {},\n",
       "     \"batch_parameters\": {},\n",
       "     \"validation_time\": \"20250105T161724.090818Z\",\n",
       "     \"expectation_suite_meta\": {\n",
       "       \"great_expectations_version\": \"0.18.12\"\n",
       "     }\n",
       "   }\n",
       " })"
      ]
     },
     "execution_count": 22,
     "metadata": {},
     "output_type": "execute_result"
    }
   ],
   "source": [
    "SPOT_fg.insert(df_SPOT)\n",
    "GOOGL_fg.insert(df_GOOGL)\n",
    "BTC_fg.insert(df_BTC)"
   ]
  },
  {
   "cell_type": "markdown",
   "id": "663a1606",
   "metadata": {},
   "source": [
    "#### Enter a description for each feature in the Feature Group"
   ]
  },
  {
   "cell_type": "code",
   "execution_count": 84,
   "id": "577effca",
   "metadata": {},
   "outputs": [
    {
     "data": {
      "text/plain": [
       "<hsfs.feature_group.FeatureGroup at 0x26cbe4e7250>"
      ]
     },
     "execution_count": 84,
     "metadata": {},
     "output_type": "execute_result"
    }
   ],
   "source": [
    "SPOT_fg.update_feature_description(\"timestamp\", \"Day of data\")\n",
    "SPOT_fg.update_feature_description(\"price\", \"closing price\")\n",
    "\n",
    "GOOGL_fg.update_feature_description(\"timestamp\", \"Day of data\")\n",
    "GOOGL_fg.update_feature_description(\"price\", \"closing price\")\n",
    "\n",
    "BTC_fg.update_feature_description(\"timestamp\", \"Day of data\")\n",
    "BTC_fg.update_feature_description(\"price\", \"closing price\")\n"
   ]
  },
  {
   "cell_type": "markdown",
   "id": "cedc16b5",
   "metadata": {},
   "source": [
    "## <span style=\"color:#ff5f27;\">⏭️ **Next:** Part 02: Daily Feature Pipeline \n",
    " </span> \n"
   ]
  },
  {
   "cell_type": "markdown",
   "id": "bb407899",
   "metadata": {},
   "source": [
    "---"
   ]
  }
 ],
 "metadata": {
  "kernelspec": {
   "display_name": "airquality",
   "language": "python",
   "name": "python3"
  },
  "language_info": {
   "codemirror_mode": {
    "name": "ipython",
    "version": 3
   },
   "file_extension": ".py",
   "mimetype": "text/x-python",
   "name": "python",
   "nbconvert_exporter": "python",
   "pygments_lexer": "ipython3",
   "version": "3.8.20"
  }
 },
 "nbformat": 4,
 "nbformat_minor": 5
}
