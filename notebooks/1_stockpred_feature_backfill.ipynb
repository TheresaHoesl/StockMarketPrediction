{
 "cells": [
  {
   "cell_type": "markdown",
   "id": "f139ba67",
   "metadata": {},
   "source": [
    "<span style=\"font-width:bold; font-size: 3rem; color:#333;\">- Part 01: Feature Backfill for Stock Market Data</span>\n",
    "\n",
    "\n"
   ]
  },
  {
   "cell_type": "markdown",
   "id": "41d6a80c",
   "metadata": {},
   "source": [
    "## Imports"
   ]
  },
  {
   "cell_type": "code",
   "execution_count": 8,
   "id": "0f447120",
   "metadata": {},
   "outputs": [],
   "source": [
    "import datetime\n",
    "import requests\n",
    "import pandas as pd\n",
    "import hopsworks\n",
    "import datetime\n",
    "from pathlib import Path\n",
    "from functions import util\n",
    "import json\n",
    "import re\n",
    "import os\n",
    "import warnings\n",
    "warnings.filterwarnings(\"ignore\")"
   ]
  },
  {
   "cell_type": "markdown",
   "id": "0bb50142-06be-4003-9fd0-6b19c095b010",
   "metadata": {},
   "source": [
    "### TO WIPE OUT ALL OF FEATURES AND MODELS, run the cell below"
   ]
  },
  {
   "cell_type": "code",
   "execution_count": 9,
   "id": "014f3362-87f5-4abd-bb57-bebd28638bdb",
   "metadata": {},
   "outputs": [],
   "source": [
    "# If you haven't set the env variable 'HOPSWORKS_API_KEY', then uncomment the next line and enter your API key\n",
    "# os.environ[\"HOPSWORKS_API_KEY\"] = \"\"\n",
    "# proj = hopsworks.login()\n",
    "# util.purge_project(proj)"
   ]
  },
  {
   "cell_type": "markdown",
   "id": "50156f96",
   "metadata": {},
   "source": [
    "---"
   ]
  },
  {
   "cell_type": "markdown",
   "id": "e8288723",
   "metadata": {},
   "source": [
    "## Alphavantage API Key"
   ]
  },
  {
   "cell_type": "code",
   "execution_count": 10,
   "id": "6ea6ab4f-a2ab-4865-b215-78b1001265c7",
   "metadata": {},
   "outputs": [
    {
     "name": "stdout",
     "output_type": "stream",
     "text": [
      "File successfully found at the path: ../data/alphavantage-api-key.txt\n"
     ]
    }
   ],
   "source": [
    "api_key_file = '../data/alphavantage-api-key.txt'\n",
    "util.check_file_path(api_key_file)\n",
    "\n",
    "with open(api_key_file, 'r') as file:\n",
    "    ALPHAVANTAGE_API_KEY = file.read().rstrip()"
   ]
  },
  {
   "cell_type": "markdown",
   "id": "bd8b8d1a-62a5-4a1d-b805-6e83cafcd29f",
   "metadata": {},
   "source": [
    "## Hopsworks API Key\n"
   ]
  },
  {
   "cell_type": "code",
   "execution_count": 11,
   "id": "9f1a49d6-9cd2-4246-b0ca-1058672e4848",
   "metadata": {},
   "outputs": [
    {
     "name": "stdout",
     "output_type": "stream",
     "text": [
      "2025-01-06 11:52:58,202 INFO: Closing external client and cleaning up certificates.\n",
      "Connection closed.\n",
      "2025-01-06 11:52:58,211 INFO: Initializing external client\n",
      "2025-01-06 11:52:58,214 INFO: Base URL: https://c.app.hopsworks.ai:443\n",
      "2025-01-06 11:53:00,744 INFO: Python Engine initialized.\n",
      "\n",
      "Logged in to project, explore it here https://c.app.hopsworks.ai:443/p/1205424\n"
     ]
    },
    {
     "data": {
      "text/plain": [
       "Project('StockPrediction', 'theresa.hoesl@t-online.de', 'Default project')"
      ]
     },
     "execution_count": 11,
     "metadata": {},
     "output_type": "execute_result"
    }
   ],
   "source": [
    "with open('../data/hopsworks-api-key.txt', 'r') as file:\n",
    "    os.environ[\"HOPSWORKS_API_KEY\"] = file.read().rstrip()\n",
    "\n",
    "project = hopsworks.login(project = 'StockPrediction', api_key_value=os.environ[\"HOPSWORKS_API_KEY\"])\n",
    "\n",
    "project"
   ]
  },
  {
   "cell_type": "code",
   "execution_count": 12,
   "id": "e5096dbc",
   "metadata": {},
   "outputs": [
    {
     "data": {
      "text/plain": [
       "'StockPrediction'"
      ]
     },
     "execution_count": 12,
     "metadata": {},
     "output_type": "execute_result"
    }
   ],
   "source": [
    "project.name"
   ]
  },
  {
   "cell_type": "code",
   "execution_count": 13,
   "id": "7c9caee6",
   "metadata": {},
   "outputs": [],
   "source": [
    "secrets_api = hopsworks.get_secrets_api()\n",
    "try:\n",
    "    secrets_api.create_secret('AV_API_KEY', ALPHAVANTAGE_API_KEY)\n",
    "except hopsworks.RestAPIError:\n",
    "    ALPHAVANTAGE_API_KEY = secrets_api.get_secret(\"AV_API_KEY\").value"
   ]
  },
  {
   "cell_type": "markdown",
   "id": "1ba1c5eb-4a22-45d4-8934-f521e54a87c4",
   "metadata": {},
   "source": [
    "### Validate that ALPHAVANTAGE_API_KEY works"
   ]
  },
  {
   "cell_type": "code",
   "execution_count": 15,
   "id": "786127b0-c4e5-4a5f-a6fa-4cce903a9c77",
   "metadata": {},
   "outputs": [
    {
     "data": {
      "text/html": [
       "<div>\n",
       "<style scoped>\n",
       "    .dataframe tbody tr th:only-of-type {\n",
       "        vertical-align: middle;\n",
       "    }\n",
       "\n",
       "    .dataframe tbody tr th {\n",
       "        vertical-align: top;\n",
       "    }\n",
       "\n",
       "    .dataframe thead th {\n",
       "        text-align: right;\n",
       "    }\n",
       "</style>\n",
       "<table border=\"1\" class=\"dataframe\">\n",
       "  <thead>\n",
       "    <tr style=\"text-align: right;\">\n",
       "      <th></th>\n",
       "      <th>timestamp</th>\n",
       "      <th>price</th>\n",
       "    </tr>\n",
       "  </thead>\n",
       "  <tbody>\n",
       "    <tr>\n",
       "      <th>0</th>\n",
       "      <td>2025-01-03</td>\n",
       "      <td>466.69</td>\n",
       "    </tr>\n",
       "  </tbody>\n",
       "</table>\n",
       "</div>"
      ],
      "text/plain": [
       "   timestamp   price\n",
       "0 2025-01-03  466.69"
      ]
     },
     "execution_count": 15,
     "metadata": {},
     "output_type": "execute_result"
    }
   ],
   "source": [
    "try:\n",
    "    sp_SPOT_df = util.get_stock_price('SPOT', ALPHAVANTAGE_API_KEY)\n",
    "except hopsworks.RestAPIError:\n",
    "    print(\"It looks like the AQI_API_KEY doesn't work for your sensor. Is the API key correct? Is the sensor URL correct?\")\n",
    "\n",
    "sp_SPOT_df.head()"
   ]
  },
  {
   "cell_type": "markdown",
   "id": "c706e751",
   "metadata": {},
   "source": [
    "## Read CSV file into DataFrames"
   ]
  },
  {
   "cell_type": "code",
   "execution_count": 16,
   "id": "22d16cd1",
   "metadata": {},
   "outputs": [],
   "source": [
    "csv_file_SPOT=\"../data/daily_SPOT.csv\"\n",
    "csv_file_GOOGL=\"../data/daily_GOOGL.csv\"\n",
    "csv_file_BTC=\"../data/currency_daily_BTC_USD.csv\"\n",
    "csv_file_SandP=\"../data/daily_IVV.csv\""
   ]
  },
  {
   "cell_type": "code",
   "execution_count": 17,
   "id": "bc3a1212",
   "metadata": {
    "tags": []
   },
   "outputs": [],
   "source": [
    "df_SPOT = pd.read_csv(csv_file_SPOT)\n",
    "df_GOOGL = pd.read_csv(csv_file_GOOGL)\n",
    "df_BTC = pd.read_csv(csv_file_BTC)\n",
    "df_SandP = pd.read_csv(csv_file_SandP)"
   ]
  },
  {
   "cell_type": "markdown",
   "id": "8812eb37-04e3-4291-8d77-a69ef7a195bc",
   "metadata": {},
   "source": [
    "## Data cleaning"
   ]
  },
  {
   "cell_type": "code",
   "execution_count": 18,
   "id": "fd20c859-ef3c-4b54-bbcb-83898afefa79",
   "metadata": {},
   "outputs": [],
   "source": [
    "# extract closing price\n",
    "df_SPOT.drop(columns=['open', 'high', 'low', 'volume'], inplace=True)\n",
    "df_GOOGL.drop(columns=['open', 'high', 'low', 'volume'], inplace=True)\n",
    "df_BTC.drop(columns=['open', 'high', 'low', 'volume'], inplace=True)\n",
    "df_SandP.drop(columns=['open', 'high', 'low', 'volume'], inplace=True)\n",
    "\n",
    "df_SPOT.rename(columns={'close': 'price'}, inplace=True)\n",
    "df_GOOGL.rename(columns={'close': 'price'}, inplace=True)\n",
    "df_BTC.rename(columns={'close': 'price'}, inplace=True)\n",
    "df_SandP.rename(columns={'close': 'price'}, inplace=True)\n",
    "\n",
    "df_SPOT['timestamp']=pd.to_datetime(df_SPOT['timestamp'])\n",
    "df_GOOGL['timestamp']=pd.to_datetime(df_GOOGL['timestamp'])\n",
    "df_BTC['timestamp']=pd.to_datetime(df_BTC['timestamp'])\n",
    "df_SandP['timestamp']=pd.to_datetime(df_SandP['timestamp'])"
   ]
  },
  {
   "cell_type": "code",
   "execution_count": 19,
   "id": "e31ace82",
   "metadata": {},
   "outputs": [
    {
     "data": {
      "text/plain": [
       "pandas._libs.tslibs.timestamps.Timestamp"
      ]
     },
     "execution_count": 19,
     "metadata": {},
     "output_type": "execute_result"
    }
   ],
   "source": [
    "type(df_SPOT['timestamp'][0])"
   ]
  },
  {
   "cell_type": "code",
   "execution_count": 20,
   "id": "37b0a762",
   "metadata": {},
   "outputs": [],
   "source": [
    "df_SPOT.dropna(inplace=True)\n",
    "df_GOOGL.dropna(inplace=True)\n",
    "df_BTC.dropna(inplace=True)\n",
    "df_SandP.dropna(inplace=True)"
   ]
  },
  {
   "cell_type": "markdown",
   "id": "8a9d5eeb",
   "metadata": {},
   "source": [
    "## Define Data Validation Rules \n"
   ]
  },
  {
   "cell_type": "code",
   "execution_count": 21,
   "id": "11bcdcad",
   "metadata": {},
   "outputs": [
    {
     "data": {
      "text/plain": [
       "{\"expectation_type\": \"expect_column_min_to_be_between\", \"kwargs\": {\"column\": \"price\", \"min_value\": 0.01}, \"meta\": {}}"
      ]
     },
     "execution_count": 21,
     "metadata": {},
     "output_type": "execute_result"
    }
   ],
   "source": [
    "import great_expectations as ge\n",
    "\n",
    "# Create an Expectation Suite\n",
    "sp_expectation_suite = ge.core.ExpectationSuite(\n",
    "    expectation_suite_name=\"sp_expectation_suite\"\n",
    ")\n",
    "\n",
    "# Add an expectation to check that all prices are >= 0\n",
    "sp_expectation_suite.add_expectation(\n",
    "    ge.core.ExpectationConfiguration(\n",
    "        expectation_type=\"expect_column_min_to_be_between\",\n",
    "        kwargs={\n",
    "            \"column\": \"price\",\n",
    "            \"min_value\": 0.01,  # Set minimum value to 0.01 to exclude 0 and negatives\n",
    "        }\n",
    "    )\n",
    ")\n"
   ]
  },
  {
   "cell_type": "markdown",
   "id": "6291a502",
   "metadata": {},
   "source": [
    "## Connect to Hopsworks"
   ]
  },
  {
   "cell_type": "code",
   "execution_count": 22,
   "id": "aeaf20ef",
   "metadata": {},
   "outputs": [],
   "source": [
    "fs = project.get_feature_store() "
   ]
  },
  {
   "cell_type": "markdown",
   "id": "27e79b3f",
   "metadata": {},
   "source": [
    "## Create the Feature Groups and insert the DataFrames in them"
   ]
  },
  {
   "cell_type": "code",
   "execution_count": 23,
   "id": "4d2bb403",
   "metadata": {
    "scrolled": true,
    "tags": []
   },
   "outputs": [],
   "source": [
    "SPOT_fg = fs.get_or_create_feature_group(\n",
    "    name='spot',\n",
    "    description='Spotify Stock Prices',\n",
    "    version=1,\n",
    "    primary_key=['timestamp'],\n",
    "    event_time=\"timestamp\",\n",
    "    expectation_suite=sp_expectation_suite\n",
    ")\n",
    "\n",
    "GOOGL_fg = fs.get_or_create_feature_group(\n",
    "    name='googl',\n",
    "    description='Google Stock Prices',\n",
    "    version=1,\n",
    "    primary_key=['timestamp'],\n",
    "    event_time=\"timestamp\",\n",
    "    expectation_suite=sp_expectation_suite\n",
    ")\n",
    "\n",
    "BTC_fg = fs.get_or_create_feature_group(\n",
    "    name='btc',\n",
    "    description='Bitcoin Prices',\n",
    "    version=1,\n",
    "    primary_key=['timestamp'],\n",
    "    event_time=\"timestamp\",\n",
    "    expectation_suite=sp_expectation_suite\n",
    ")\n",
    "\n",
    "SandP_fg = fs.get_or_create_feature_group(\n",
    "    name='sandp',\n",
    "    description='S&P 500 Index Prices',\n",
    "    version=1,\n",
    "    primary_key=['timestamp'],\n",
    "    event_time=\"timestamp\",\n",
    "    expectation_suite=sp_expectation_suite\n",
    ")"
   ]
  },
  {
   "cell_type": "code",
   "execution_count": 24,
   "id": "0fb42574",
   "metadata": {},
   "outputs": [
    {
     "name": "stdout",
     "output_type": "stream",
     "text": [
      "Feature Group created successfully, explore it at \n",
      "https://c.app.hopsworks.ai:443/p/1205424/fs/1194062/fg/1393604\n",
      "2025-01-06 11:53:08,717 INFO: \t1 expectation(s) included in expectation_suite.\n",
      "Validation succeeded.\n",
      "Validation Report saved successfully, explore a summary at https://c.app.hopsworks.ai:443/p/1205424/fs/1194062/fg/1393604\n"
     ]
    },
    {
     "name": "stderr",
     "output_type": "stream",
     "text": [
      "Uploading Dataframe: 100.00% |██████████| Rows 1689/1689 | Elapsed Time: 00:02 | Remaining Time: 00:00\n"
     ]
    },
    {
     "name": "stdout",
     "output_type": "stream",
     "text": [
      "Launching job: spot_1_offline_fg_materialization\n",
      "Job started successfully, you can follow the progress at \n",
      "https://c.app.hopsworks.ai:443/p/1205424/jobs/named/spot_1_offline_fg_materialization/executions\n",
      "Feature Group created successfully, explore it at \n",
      "https://c.app.hopsworks.ai:443/p/1205424/fs/1194062/fg/1394635\n",
      "2025-01-06 11:53:26,829 INFO: \t1 expectation(s) included in expectation_suite.\n",
      "Validation succeeded.\n",
      "Validation Report saved successfully, explore a summary at https://c.app.hopsworks.ai:443/p/1205424/fs/1194062/fg/1394635\n"
     ]
    },
    {
     "name": "stderr",
     "output_type": "stream",
     "text": [
      "Uploading Dataframe: 100.00% |██████████| Rows 5117/5117 | Elapsed Time: 00:02 | Remaining Time: 00:00\n"
     ]
    },
    {
     "name": "stdout",
     "output_type": "stream",
     "text": [
      "Launching job: googl_1_offline_fg_materialization\n",
      "Job started successfully, you can follow the progress at \n",
      "https://c.app.hopsworks.ai:443/p/1205424/jobs/named/googl_1_offline_fg_materialization/executions\n",
      "Feature Group created successfully, explore it at \n",
      "https://c.app.hopsworks.ai:443/p/1205424/fs/1194062/fg/1394636\n",
      "2025-01-06 11:53:46,084 INFO: \t1 expectation(s) included in expectation_suite.\n",
      "Validation succeeded.\n",
      "Validation Report saved successfully, explore a summary at https://c.app.hopsworks.ai:443/p/1205424/fs/1194062/fg/1394636\n"
     ]
    },
    {
     "name": "stderr",
     "output_type": "stream",
     "text": [
      "Uploading Dataframe: 100.00% |██████████| Rows 350/350 | Elapsed Time: 00:02 | Remaining Time: 00:00\n"
     ]
    },
    {
     "name": "stdout",
     "output_type": "stream",
     "text": [
      "Launching job: btc_1_offline_fg_materialization\n",
      "Job started successfully, you can follow the progress at \n",
      "https://c.app.hopsworks.ai:443/p/1205424/jobs/named/btc_1_offline_fg_materialization/executions\n",
      "Feature Group created successfully, explore it at \n",
      "https://c.app.hopsworks.ai:443/p/1205424/fs/1194062/fg/1393605\n",
      "2025-01-06 11:54:07,964 INFO: \t1 expectation(s) included in expectation_suite.\n",
      "Validation succeeded.\n",
      "Validation Report saved successfully, explore a summary at https://c.app.hopsworks.ai:443/p/1205424/fs/1194062/fg/1393605\n"
     ]
    },
    {
     "name": "stderr",
     "output_type": "stream",
     "text": [
      "Uploading Dataframe: 100.00% |██████████| Rows 6195/6195 | Elapsed Time: 00:02 | Remaining Time: 00:00\n"
     ]
    },
    {
     "name": "stdout",
     "output_type": "stream",
     "text": [
      "Launching job: sandp_1_offline_fg_materialization\n",
      "Job started successfully, you can follow the progress at \n",
      "https://c.app.hopsworks.ai:443/p/1205424/jobs/named/sandp_1_offline_fg_materialization/executions\n"
     ]
    },
    {
     "data": {
      "text/plain": [
       "(Job('sandp_1_offline_fg_materialization', 'SPARK'),\n",
       " {\n",
       "   \"success\": true,\n",
       "   \"results\": [\n",
       "     {\n",
       "       \"success\": true,\n",
       "       \"expectation_config\": {\n",
       "         \"expectation_type\": \"expect_column_min_to_be_between\",\n",
       "         \"kwargs\": {\n",
       "           \"column\": \"price\",\n",
       "           \"min_value\": 0.01\n",
       "         },\n",
       "         \"meta\": {\n",
       "           \"expectationId\": 696079\n",
       "         }\n",
       "       },\n",
       "       \"result\": {\n",
       "         \"observed_value\": 68.19,\n",
       "         \"element_count\": 6195,\n",
       "         \"missing_count\": null,\n",
       "         \"missing_percent\": null\n",
       "       },\n",
       "       \"meta\": {\n",
       "         \"ingestionResult\": \"INGESTED\",\n",
       "         \"validationTime\": \"2025-01-06T10:54:07.000964Z\"\n",
       "       },\n",
       "       \"exception_info\": {\n",
       "         \"raised_exception\": false,\n",
       "         \"exception_message\": null,\n",
       "         \"exception_traceback\": null\n",
       "       }\n",
       "     }\n",
       "   ],\n",
       "   \"evaluation_parameters\": {},\n",
       "   \"statistics\": {\n",
       "     \"evaluated_expectations\": 1,\n",
       "     \"successful_expectations\": 1,\n",
       "     \"unsuccessful_expectations\": 0,\n",
       "     \"success_percent\": 100.0\n",
       "   },\n",
       "   \"meta\": {\n",
       "     \"great_expectations_version\": \"0.18.12\",\n",
       "     \"expectation_suite_name\": \"sp_expectation_suite\",\n",
       "     \"run_id\": {\n",
       "       \"run_name\": null,\n",
       "       \"run_time\": \"2025-01-06T11:54:07.964861+01:00\"\n",
       "     },\n",
       "     \"batch_kwargs\": {\n",
       "       \"ge_batch_id\": \"8da9eb62-cc1c-11ef-8e49-f446376431c8\"\n",
       "     },\n",
       "     \"batch_markers\": {},\n",
       "     \"batch_parameters\": {},\n",
       "     \"validation_time\": \"20250106T105407.964861Z\",\n",
       "     \"expectation_suite_meta\": {\n",
       "       \"great_expectations_version\": \"0.18.12\"\n",
       "     }\n",
       "   }\n",
       " })"
      ]
     },
     "execution_count": 24,
     "metadata": {},
     "output_type": "execute_result"
    }
   ],
   "source": [
    "SPOT_fg.insert(df_SPOT)\n",
    "GOOGL_fg.insert(df_GOOGL)\n",
    "BTC_fg.insert(df_BTC)\n",
    "SandP_fg.insert(df_SandP)"
   ]
  },
  {
   "cell_type": "markdown",
   "id": "663a1606",
   "metadata": {},
   "source": [
    "#### Enter a description for each feature in the Feature Group"
   ]
  },
  {
   "cell_type": "code",
   "execution_count": 25,
   "id": "577effca",
   "metadata": {},
   "outputs": [
    {
     "data": {
      "text/plain": [
       "<hsfs.feature_group.FeatureGroup at 0x2cf1bba06d0>"
      ]
     },
     "execution_count": 25,
     "metadata": {},
     "output_type": "execute_result"
    }
   ],
   "source": [
    "SPOT_fg.update_feature_description(\"timestamp\", \"Day of data\")\n",
    "SPOT_fg.update_feature_description(\"price\", \"closing price\")\n",
    "\n",
    "GOOGL_fg.update_feature_description(\"timestamp\", \"Day of data\")\n",
    "GOOGL_fg.update_feature_description(\"price\", \"closing price\")\n",
    "\n",
    "BTC_fg.update_feature_description(\"timestamp\", \"Day of data\")\n",
    "BTC_fg.update_feature_description(\"price\", \"closing price\")\n",
    "\n",
    "SandP_fg.update_feature_description(\"timestamp\", \"Day of data\")\n",
    "SandP_fg.update_feature_description(\"price\", \"closing price\")"
   ]
  },
  {
   "cell_type": "markdown",
   "id": "931780a4",
   "metadata": {},
   "source": [
    "## Sentiment Backfill"
   ]
  },
  {
   "cell_type": "markdown",
   "id": "07881fd7",
   "metadata": {},
   "source": [
    "### Getting the Data from the API"
   ]
  },
  {
   "cell_type": "markdown",
   "id": "076585d4",
   "metadata": {},
   "source": [
    "**NOTE:** `\"sentiment_score_definition\": \"x <= -0.35: Bearish; -0.35 < x <= -0.15: Somewhat-Bearish; -0.15 < x < 0.15: Neutral; 0.15 <= x < 0.35: Somewhat_Bullish; x >= 0.35: Bullish\"`"
   ]
  },
  {
   "cell_type": "markdown",
   "id": "522a23ba",
   "metadata": {},
   "source": [
    "##### For Spotify"
   ]
  },
  {
   "cell_type": "code",
   "execution_count": 26,
   "id": "f682111a",
   "metadata": {},
   "outputs": [],
   "source": [
    "company_code = 'SPOT'\n",
    "\n",
    "sentiment_api_url = f\"https://www.alphavantage.co/query?function=NEWS_SENTIMENT&limit=1000&time_from=20180403T0000&tickers={company_code}&apikey={ALPHAVANTAGE_API_KEY}\"\n",
    "response = requests.get(sentiment_api_url)\n",
    "spot_sentim_data = response.json()"
   ]
  },
  {
   "cell_type": "code",
   "execution_count": 27,
   "id": "9dc47519",
   "metadata": {},
   "outputs": [],
   "source": [
    "spot_sentim_df = pd.read_json(json.dumps(spot_sentim_data))\n",
    "spot_sentim_df[\"time_published\"] = spot_sentim_df[\"feed\"].apply(lambda x: x.get(\"time_published\"))\n",
    "spot_sentim_df[\"overall_sentiment_score\"] = spot_sentim_df[\"feed\"].apply(lambda x: x.get(\"overall_sentiment_score\"))\n",
    "spot_sentim_df.drop(columns=['feed','items','sentiment_score_definition','relevance_score_definition'], inplace=True)\n",
    "spot_sentim_df[\"date_published\"] = pd.to_datetime(spot_sentim_df[\"time_published\"]).dt.date\n",
    "spot_sentim_df.drop(columns=['time_published'], inplace=True)"
   ]
  },
  {
   "cell_type": "code",
   "execution_count": 28,
   "id": "be222972",
   "metadata": {},
   "outputs": [],
   "source": [
    "# Convert the timestamp column in df_SPOT to date format\n",
    "df_SPOT['date'] = df_SPOT['timestamp'].dt.date\n",
    "\n",
    "# Merge the dataframes on the date columns\n",
    "merged_df = pd.merge(spot_sentim_df, df_SPOT, left_on='date_published', right_on='date')\n",
    "\n",
    "# Drop the extra date column\n",
    "merged_df.drop(columns=['date','price','date_published'], inplace=True)\n",
    "\n",
    "# Group by the timestamp and calculate the mean of sentiment scores\n",
    "merged_df = merged_df.groupby('timestamp').mean().reset_index()\n",
    "\n",
    "# Reindex merged_df to include all dates from df_SPOT\n",
    "all_dates = pd.DataFrame(df_SPOT['timestamp'])\n",
    "merged_df = all_dates.merge(merged_df, on='timestamp', how='left')\n",
    "\n",
    "# Fill NaN values with 0\n",
    "merged_df['overall_sentiment_score'].fillna(0, inplace=True)\n",
    "spot_sentim_df = merged_df\n"
   ]
  },
  {
   "cell_type": "markdown",
   "id": "06dec651",
   "metadata": {},
   "source": [
    "##### For Google"
   ]
  },
  {
   "cell_type": "code",
   "execution_count": 29,
   "id": "8755fe32",
   "metadata": {},
   "outputs": [],
   "source": [
    "company_code = 'GOOG'\n",
    "\n",
    "sentiment_api_url = f\"https://www.alphavantage.co/query?function=NEWS_SENTIMENT&limit=1000&time_from=20040819T0000&tickers={company_code}&apikey={ALPHAVANTAGE_API_KEY}\"\n",
    "response = requests.get(sentiment_api_url)\n",
    "googl_sentim_data = response.json()"
   ]
  },
  {
   "cell_type": "code",
   "execution_count": 30,
   "id": "ad197ae8",
   "metadata": {},
   "outputs": [],
   "source": [
    "googl_sentim_df = pd.read_json(json.dumps(googl_sentim_data))\n",
    "googl_sentim_df[\"time_published\"] = googl_sentim_df[\"feed\"].apply(lambda x: x.get(\"time_published\"))\n",
    "googl_sentim_df[\"overall_sentiment_score\"] = googl_sentim_df[\"feed\"].apply(lambda x: x.get(\"overall_sentiment_score\"))\n",
    "googl_sentim_df.drop(columns=['feed','items','sentiment_score_definition','relevance_score_definition'], inplace=True)\n",
    "googl_sentim_df[\"date_published\"] = pd.to_datetime(googl_sentim_df[\"time_published\"]).dt.date\n",
    "googl_sentim_df.drop(columns=['time_published'], inplace=True)"
   ]
  },
  {
   "cell_type": "code",
   "execution_count": 31,
   "id": "2319c0f3",
   "metadata": {},
   "outputs": [],
   "source": [
    "# Convert the timestamp column in df_SPOT to date format\n",
    "df_GOOGL['date'] = df_GOOGL['timestamp'].dt.date\n",
    "\n",
    "# Merge the dataframes on the date columns\n",
    "merged_df = pd.merge(googl_sentim_df, df_GOOGL, left_on='date_published', right_on='date')\n",
    "\n",
    "# Drop the extra date column\n",
    "merged_df.drop(columns=['date','price','date_published'], inplace=True)\n",
    "\n",
    "# Group by the timestamp and calculate the mean of sentiment scores\n",
    "merged_df = merged_df.groupby('timestamp').mean().reset_index()\n",
    "\n",
    "# Reindex merged_df to include all dates from df_SPOT\n",
    "all_dates = pd.DataFrame(df_GOOGL['timestamp'])\n",
    "merged_df = all_dates.merge(merged_df, on='timestamp', how='left')\n",
    "\n",
    "# Fill NaN values with 0\n",
    "merged_df['overall_sentiment_score'].fillna(0, inplace=True)\n",
    "googl_sentim_df = merged_df\n"
   ]
  },
  {
   "cell_type": "markdown",
   "id": "a048e789",
   "metadata": {},
   "source": [
    "##### For BTC"
   ]
  },
  {
   "cell_type": "code",
   "execution_count": 32,
   "id": "83722b93",
   "metadata": {},
   "outputs": [],
   "source": [
    "company_code = 'CRYPTO:BTC'\n",
    "\n",
    "sentiment_api_url = f\"https://www.alphavantage.co/query?function=NEWS_SENTIMENT&limit=1000&time_from=20240103T0000&tickers={company_code}&apikey={ALPHAVANTAGE_API_KEY}\"\n",
    "response = requests.get(sentiment_api_url)\n",
    "btc_sentim_data = response.json()"
   ]
  },
  {
   "cell_type": "code",
   "execution_count": 33,
   "id": "80c9cb6e",
   "metadata": {},
   "outputs": [],
   "source": [
    "btc_sentim_df = pd.read_json(json.dumps(btc_sentim_data))\n",
    "btc_sentim_df[\"time_published\"] = btc_sentim_df[\"feed\"].apply(lambda x: x.get(\"time_published\"))\n",
    "btc_sentim_df[\"overall_sentiment_score\"] = btc_sentim_df[\"feed\"].apply(lambda x: x.get(\"overall_sentiment_score\"))\n",
    "btc_sentim_df.drop(columns=['feed','items','sentiment_score_definition','relevance_score_definition'], inplace=True)\n",
    "btc_sentim_df[\"date_published\"] = pd.to_datetime(btc_sentim_df[\"time_published\"]).dt.date\n",
    "btc_sentim_df.drop(columns=['time_published'], inplace=True)"
   ]
  },
  {
   "cell_type": "code",
   "execution_count": 34,
   "id": "41d6382a",
   "metadata": {},
   "outputs": [],
   "source": [
    "# Convert the timestamp column in df_SPOT to date format\n",
    "df_BTC['date'] = df_BTC['timestamp'].dt.date\n",
    "\n",
    "# Merge the dataframes on the date columns\n",
    "merged_df = pd.merge(btc_sentim_df, df_BTC, left_on='date_published', right_on='date')\n",
    "\n",
    "# Drop the extra date column\n",
    "merged_df.drop(columns=['date','price','date_published'], inplace=True)\n",
    "\n",
    "# Group by the timestamp and calculate the mean of sentiment scores\n",
    "merged_df = merged_df.groupby('timestamp').mean().reset_index()\n",
    "\n",
    "# Reindex merged_df to include all dates from df_SPOT\n",
    "all_dates = pd.DataFrame(df_BTC['timestamp'])\n",
    "merged_df = all_dates.merge(merged_df, on='timestamp', how='left')\n",
    "\n",
    "# Fill NaN values with 0\n",
    "merged_df['overall_sentiment_score'].fillna(0, inplace=True)\n",
    "btc_sentim_df = merged_df"
   ]
  },
  {
   "cell_type": "markdown",
   "id": "d044f93c",
   "metadata": {},
   "source": [
    "### Creating an Expectation Suite"
   ]
  },
  {
   "cell_type": "code",
   "execution_count": 35,
   "id": "b9d6b70f",
   "metadata": {},
   "outputs": [
    {
     "data": {
      "text/plain": [
       "{\"expectation_type\": \"expect_column_values_to_be_between\", \"kwargs\": {\"column\": \"overall_sentiment_score\", \"min_value\": -3.5, \"max_value\": 3.5}, \"meta\": {}}"
      ]
     },
     "execution_count": 35,
     "metadata": {},
     "output_type": "execute_result"
    }
   ],
   "source": [
    "sentim_expectation_suite = ge.core.ExpectationSuite(\n",
    "    expectation_suite_name=\"sentim_expectation_suite\"\n",
    ")\n",
    "\n",
    "# Add an expectation to check that all sentiment scores are between -3.5 to +3.5\n",
    "sentim_expectation_suite.add_expectation(\n",
    "    ge.core.ExpectationConfiguration(\n",
    "        expectation_type=\"expect_column_values_to_be_between\",\n",
    "        kwargs={\n",
    "            \"column\": \"overall_sentiment_score\",\n",
    "            \"min_value\": -3.5,\n",
    "            \"max_value\": 3.5\n",
    "        }\n",
    "    )\n",
    ")"
   ]
  },
  {
   "cell_type": "markdown",
   "id": "77eefb88",
   "metadata": {},
   "source": [
    "### Creating Feature Groups and Inserting the Dataframes in them"
   ]
  },
  {
   "cell_type": "code",
   "execution_count": 36,
   "id": "728300b5",
   "metadata": {},
   "outputs": [],
   "source": [
    "spot_sentim_fg = fs.get_or_create_feature_group(\n",
    "    name='spotify_sentiment',\n",
    "    description='Spotify Sentiment Scores',\n",
    "    version=1,\n",
    "    primary_key=['timestamp'],\n",
    "    event_time=\"timestamp\",\n",
    "    expectation_suite=sentim_expectation_suite\n",
    ")\n",
    "\n",
    "googl_sentim_fg = fs.get_or_create_feature_group(\n",
    "    name='google_sentiment',\n",
    "    description='Google Sentiment Scores',\n",
    "    version=1,\n",
    "    primary_key=['timestamp'],\n",
    "    event_time=\"timestamp\",\n",
    "    expectation_suite=sentim_expectation_suite\n",
    ")\n",
    "\n",
    "btc_sentim_fg = fs.get_or_create_feature_group(\n",
    "    name='bitcoin_sentiment',\n",
    "    description='Bitcoin Sentiment Scores',\n",
    "    version=1,\n",
    "    primary_key=['timestamp'],\n",
    "    event_time=\"timestamp\",\n",
    "    expectation_suite=sentim_expectation_suite\n",
    ")"
   ]
  },
  {
   "cell_type": "code",
   "execution_count": 38,
   "metadata": {},
   "outputs": [
    {
     "name": "stdout",
     "output_type": "stream",
     "text": [
      "2025-01-06 11:56:09,866 INFO: \t1 expectation(s) included in expectation_suite.\n",
      "Validation succeeded.\n",
      "Validation Report saved successfully, explore a summary at https://c.app.hopsworks.ai:443/p/1205424/fs/1194062/fg/1393606\n"
     ]
    },
    {
     "name": "stderr",
     "output_type": "stream",
     "text": [
      "Uploading Dataframe: 100.00% |██████████| Rows 1689/1689 | Elapsed Time: 00:02 | Remaining Time: 00:00\n"
     ]
    },
    {
     "name": "stdout",
     "output_type": "stream",
     "text": [
      "2025-01-06 11:56:22,462 INFO: \t1 expectation(s) included in expectation_suite.\n",
      "Validation succeeded.\n",
      "Validation Report saved successfully, explore a summary at https://c.app.hopsworks.ai:443/p/1205424/fs/1194062/fg/1393607\n"
     ]
    },
    {
     "name": "stderr",
     "output_type": "stream",
     "text": [
      "Uploading Dataframe: 100.00% |██████████| Rows 5117/5117 | Elapsed Time: 00:03 | Remaining Time: 00:00\n"
     ]
    },
    {
     "name": "stdout",
     "output_type": "stream",
     "text": [
      "Launching job: google_sentiment_1_offline_fg_materialization\n",
      "Job started successfully, you can follow the progress at \n",
      "https://c.app.hopsworks.ai:443/p/1205424/jobs/named/google_sentiment_1_offline_fg_materialization/executions\n",
      "Feature Group created successfully, explore it at \n",
      "https://c.app.hopsworks.ai:443/p/1205424/fs/1194062/fg/1393608\n",
      "2025-01-06 11:56:43,843 INFO: \t1 expectation(s) included in expectation_suite.\n",
      "Validation succeeded.\n",
      "Validation Report saved successfully, explore a summary at https://c.app.hopsworks.ai:443/p/1205424/fs/1194062/fg/1393608\n"
     ]
    },
    {
     "name": "stderr",
     "output_type": "stream",
     "text": [
      "Uploading Dataframe: 100.00% |██████████| Rows 350/350 | Elapsed Time: 00:02 | Remaining Time: 00:00\n"
     ]
    },
    {
     "name": "stdout",
     "output_type": "stream",
     "text": [
      "Launching job: bitcoin_sentiment_1_offline_fg_materialization\n",
      "Job started successfully, you can follow the progress at \n",
      "https://c.app.hopsworks.ai:443/p/1205424/jobs/named/bitcoin_sentiment_1_offline_fg_materialization/executions\n"
     ]
    },
    {
     "data": {
      "text/plain": [
       "(Job('bitcoin_sentiment_1_offline_fg_materialization', 'SPARK'),\n",
       " {\n",
       "   \"success\": true,\n",
       "   \"results\": [\n",
       "     {\n",
       "       \"success\": true,\n",
       "       \"expectation_config\": {\n",
       "         \"expectation_type\": \"expect_column_values_to_be_between\",\n",
       "         \"kwargs\": {\n",
       "           \"column\": \"overall_sentiment_score\",\n",
       "           \"min_value\": -3.5,\n",
       "           \"max_value\": 3.5\n",
       "         },\n",
       "         \"meta\": {\n",
       "           \"expectationId\": 696082\n",
       "         }\n",
       "       },\n",
       "       \"result\": {\n",
       "         \"element_count\": 350,\n",
       "         \"missing_count\": 0,\n",
       "         \"missing_percent\": 0.0,\n",
       "         \"unexpected_count\": 0,\n",
       "         \"unexpected_percent\": 0.0,\n",
       "         \"unexpected_percent_total\": 0.0,\n",
       "         \"unexpected_percent_nonmissing\": 0.0,\n",
       "         \"partial_unexpected_list\": []\n",
       "       },\n",
       "       \"meta\": {\n",
       "         \"ingestionResult\": \"INGESTED\",\n",
       "         \"validationTime\": \"2025-01-06T10:56:43.000843Z\"\n",
       "       },\n",
       "       \"exception_info\": {\n",
       "         \"raised_exception\": false,\n",
       "         \"exception_message\": null,\n",
       "         \"exception_traceback\": null\n",
       "       }\n",
       "     }\n",
       "   ],\n",
       "   \"evaluation_parameters\": {},\n",
       "   \"statistics\": {\n",
       "     \"evaluated_expectations\": 1,\n",
       "     \"successful_expectations\": 1,\n",
       "     \"unsuccessful_expectations\": 0,\n",
       "     \"success_percent\": 100.0\n",
       "   },\n",
       "   \"meta\": {\n",
       "     \"great_expectations_version\": \"0.18.12\",\n",
       "     \"expectation_suite_name\": \"sentim_expectation_suite\",\n",
       "     \"run_id\": {\n",
       "       \"run_name\": null,\n",
       "       \"run_time\": \"2025-01-06T11:56:43.843383+01:00\"\n",
       "     },\n",
       "     \"batch_kwargs\": {\n",
       "       \"ge_batch_id\": \"ea93182e-cc1c-11ef-af67-f446376431c8\"\n",
       "     },\n",
       "     \"batch_markers\": {},\n",
       "     \"batch_parameters\": {},\n",
       "     \"validation_time\": \"20250106T105643.843383Z\",\n",
       "     \"expectation_suite_meta\": {\n",
       "       \"great_expectations_version\": \"0.18.12\"\n",
       "     }\n",
       "   }\n",
       " })"
      ]
     },
     "execution_count": 38,
     "metadata": {},
     "output_type": "execute_result"
    }
   ],
   "source": [
    "spot_sentim_fg.insert(spot_sentim_df)\n",
    "googl_sentim_fg.insert(googl_sentim_df)\n",
    "btc_sentim_fg.insert(btc_sentim_df)"
   ]
  },
  {
   "cell_type": "markdown",
   "id": "24c0d6a9",
   "metadata": {},
   "source": [
    "#### Adding Description of Column Values"
   ]
  },
  {
   "cell_type": "code",
   "execution_count": 39,
   "id": "fe4b3994",
   "metadata": {},
   "outputs": [
    {
     "data": {
      "text/plain": [
       "<hsfs.feature_group.FeatureGroup at 0x2cf1bbf7610>"
      ]
     },
     "execution_count": 39,
     "metadata": {},
     "output_type": "execute_result"
    }
   ],
   "source": [
    "spot_sentim_fg.update_feature_description(\"timestamp\", \"Day of News Articles\")\n",
    "spot_sentim_fg.update_feature_description(\"overall_sentiment_score\", \"Average of News Sentiment Scores\")\n",
    "\n",
    "googl_sentim_fg.update_feature_description(\"timestamp\", \"Day of News Articles\")\n",
    "googl_sentim_fg.update_feature_description(\"overall_sentiment_score\", \"Average of News Sentiment Scores\")\n",
    "\n",
    "btc_sentim_fg.update_feature_description(\"timestamp\", \"Day of News Articles\")\n",
    "btc_sentim_fg.update_feature_description(\"overall_sentiment_score\", \"Average of News Sentiment Scores\")"
   ]
  }
 ],
 "metadata": {
  "kernelspec": {
   "display_name": "airquality",
   "language": "python",
   "name": "python3"
  },
  "language_info": {
   "codemirror_mode": {
    "name": "ipython",
    "version": 3
   },
   "file_extension": ".py",
   "mimetype": "text/x-python",
   "name": "python",
   "nbconvert_exporter": "python",
   "pygments_lexer": "ipython3",
   "version": "3.8.20"
  }
 },
 "nbformat": 4,
 "nbformat_minor": 5
}
