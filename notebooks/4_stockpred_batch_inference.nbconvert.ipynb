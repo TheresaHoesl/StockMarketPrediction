{
 "cells": [
  {
   "cell_type": "markdown",
   "id": "f16b7819",
   "metadata": {},
   "source": [
    "# <span style=\"font-width:bold; font-size: 3rem; color:#1EB182;\"> **Tradable Forecasting** </span> - Part 04: Batch Inference"
   ]
  },
  {
   "cell_type": "code",
   "execution_count": 1,
   "id": "1f430c88",
   "metadata": {
    "execution": {
     "iopub.execute_input": "2025-01-12T17:16:03.510799Z",
     "iopub.status.busy": "2025-01-12T17:16:03.510611Z",
     "iopub.status.idle": "2025-01-12T17:16:06.210486Z",
     "shell.execute_reply": "2025-01-12T17:16:06.209790Z"
    }
   },
   "outputs": [],
   "source": [
    "import datetime\n",
    "import pandas as pd\n",
    "from xgboost import XGBRegressor\n",
    "import hopsworks\n",
    "import json\n",
    "from functions import util\n",
    "import os\n",
    "import numpy as np\n",
    "import json\n",
    "from sklearn.preprocessing import MinMaxScaler"
   ]
  },
  {
   "cell_type": "code",
   "execution_count": 2,
   "id": "bcfd27c1",
   "metadata": {
    "execution": {
     "iopub.execute_input": "2025-01-12T17:16:06.213058Z",
     "iopub.status.busy": "2025-01-12T17:16:06.212651Z",
     "iopub.status.idle": "2025-01-12T17:16:06.220389Z",
     "shell.execute_reply": "2025-01-12T17:16:06.219831Z"
    }
   },
   "outputs": [
    {
     "data": {
      "text/plain": [
       "datetime.datetime(2025, 1, 12, 17, 16, 6, 214417)"
      ]
     },
     "execution_count": 2,
     "metadata": {},
     "output_type": "execute_result"
    }
   ],
   "source": [
    "today = datetime.datetime.now() - datetime.timedelta(0)\n",
    "yesterday = today - datetime.timedelta(days = 1)\n",
    "five_days_ago = today - datetime.timedelta(days = 5)\n",
    "sixty_days_ago = today - datetime.timedelta(days = 60)\n",
    "today"
   ]
  },
  {
   "cell_type": "markdown",
   "id": "4e91e99d",
   "metadata": {},
   "source": [
    "### Connect to Hopsworks Feature Store"
   ]
  },
  {
   "cell_type": "code",
   "execution_count": 3,
   "id": "74a2c243",
   "metadata": {
    "execution": {
     "iopub.execute_input": "2025-01-12T17:16:06.222558Z",
     "iopub.status.busy": "2025-01-12T17:16:06.222241Z",
     "iopub.status.idle": "2025-01-12T17:16:07.341480Z",
     "shell.execute_reply": "2025-01-12T17:16:07.340760Z"
    }
   },
   "outputs": [
    {
     "name": "stdout",
     "output_type": "stream",
     "text": [
      "2025-01-12 17:16:06,224 INFO: Initializing external client\n"
     ]
    },
    {
     "name": "stdout",
     "output_type": "stream",
     "text": [
      "2025-01-12 17:16:06,224 INFO: Base URL: https://c.app.hopsworks.ai:443\n"
     ]
    },
    {
     "name": "stdout",
     "output_type": "stream",
     "text": [
      "2025-01-12 17:16:06,848 INFO: Python Engine initialized.\n"
     ]
    },
    {
     "name": "stdout",
     "output_type": "stream",
     "text": [
      "\n",
      "Logged in to project, explore it here https://c.app.hopsworks.ai:443/p/1205424\n"
     ]
    }
   ],
   "source": [
    "# If you haven't set the env variable 'HOPSWORKS_API_KEY', then uncomment the next line and enter your API key\n",
    "# with open('../data/hopsworks-api-key.txt', 'r') as file:\n",
    "#     os.environ[\"HOPSWORKS_API_KEY\"] = file.read().rstrip()\n",
    "\n",
    "project = hopsworks.login(project = 'StockPrediction', api_key_value=os.environ[\"HOPSWORKS_API_KEY\"])\n",
    "fs = project.get_feature_store()\n",
    "\n",
    "# api_key_file = '../data/alphavantage-api-key.txt'\n",
    "# util.check_file_path(api_key_file)\n",
    "\n",
    "# with open(api_key_file, 'r') as file:\n",
    "#     ALPHAVANTAGE_API_KEY = file.read().rstrip()\n",
    "\n",
    "secrets_api = hopsworks.get_secrets_api()\n",
    "ALPHAVANTAGE_API_KEY = secrets_api.get_secret(\"AV_API_KEY\").value"
   ]
  },
  {
   "cell_type": "markdown",
   "id": "4f138859",
   "metadata": {},
   "source": [
    "### Feature View Retrieval\n"
   ]
  },
  {
   "cell_type": "code",
   "execution_count": 4,
   "id": "114b8e87",
   "metadata": {
    "execution": {
     "iopub.execute_input": "2025-01-12T17:16:07.343621Z",
     "iopub.status.busy": "2025-01-12T17:16:07.343299Z",
     "iopub.status.idle": "2025-01-12T17:16:13.627038Z",
     "shell.execute_reply": "2025-01-12T17:16:13.626312Z"
    }
   },
   "outputs": [],
   "source": [
    "fv_spot = fs.get_feature_view(\n",
    "    name='spotify_feature_view',\n",
    "    version=1,\n",
    ")\n",
    "\n",
    "fv_googl = fs.get_feature_view(\n",
    "    name='google_feature_view',\n",
    "    version=1,\n",
    ")\n",
    "\n",
    "fv_btc = fs.get_feature_view(\n",
    "    name='btc_feature_view',\n",
    "    version=1,\n",
    ")"
   ]
  },
  {
   "cell_type": "markdown",
   "id": "4cead441",
   "metadata": {},
   "source": [
    "### Download the model from Model Registry"
   ]
  },
  {
   "cell_type": "code",
   "execution_count": 5,
   "id": "c6d70a2f",
   "metadata": {
    "execution": {
     "iopub.execute_input": "2025-01-12T17:16:13.629635Z",
     "iopub.status.busy": "2025-01-12T17:16:13.629262Z",
     "iopub.status.idle": "2025-01-12T17:16:15.785386Z",
     "shell.execute_reply": "2025-01-12T17:16:15.784693Z"
    }
   },
   "outputs": [
    {
     "name": "stdout",
     "output_type": "stream",
     "text": [
      "Downloading model artifact (0 dirs, 1 files)... \r",
      "Downloading model artifact (0 dirs, 1 files)... DONE\r"
     ]
    },
    {
     "name": "stdout",
     "output_type": "stream",
     "text": [
      "Downloading model artifact (0 dirs, 1 files)... \r",
      "Downloading model artifact (0 dirs, 1 files)... DONE\r"
     ]
    },
    {
     "name": "stdout",
     "output_type": "stream",
     "text": [
      "Downloading model artifact (0 dirs, 1 files)... \r",
      "Downloading model artifact (0 dirs, 1 files)... DONE\r"
     ]
    }
   ],
   "source": [
    "mr = project.get_model_registry()\n",
    "\n",
    "spot_model = mr.get_model(\n",
    "    name=\"spotify_xgboost_model\",\n",
    "    version=1,\n",
    ")\n",
    "\n",
    "googl_model = mr.get_model(\n",
    "    name=\"google_xgboost_model\",\n",
    "    version=1,\n",
    ")\n",
    "\n",
    "btc_model = mr.get_model(\n",
    "    name=\"bitcoin_xgboost_model\",\n",
    "    version=1,\n",
    ")\n",
    "\n",
    "# Download the saved models artifacts to a local directory\n",
    "spot_model_dir = spot_model.download()\n",
    "googl_model_dir = googl_model.download()\n",
    "btc_model_dir = btc_model.download()"
   ]
  },
  {
   "cell_type": "code",
   "execution_count": 6,
   "id": "a6cf6c06",
   "metadata": {
    "execution": {
     "iopub.execute_input": "2025-01-12T17:16:15.787621Z",
     "iopub.status.busy": "2025-01-12T17:16:15.787248Z",
     "iopub.status.idle": "2025-01-12T17:16:15.816734Z",
     "shell.execute_reply": "2025-01-12T17:16:15.816152Z"
    }
   },
   "outputs": [],
   "source": [
    "# Loading the XGBoost regressor model and label encoder from the saved model directory\n",
    "# retrieved_xgboost_model = joblib.load(saved_model_dir + \"/xgboost_regressor.pkl\")\n",
    "retrieved_spot_model = XGBRegressor()\n",
    "retrieved_spot_model.load_model(spot_model_dir + \"/spotify_model.json\")\n",
    "\n",
    "retrieved_googl_model = XGBRegressor()\n",
    "retrieved_googl_model.load_model(googl_model_dir + \"/google_model.json\")\n",
    "\n",
    "retrieved_btc_model = XGBRegressor()\n",
    "retrieved_btc_model.load_model(btc_model_dir + \"/bitcoin_model.json\")"
   ]
  },
  {
   "cell_type": "markdown",
   "id": "43ad941a",
   "metadata": {},
   "source": [
    "## Get Stock Price Forecast Features with Feature View\n",
    "\n"
   ]
  },
  {
   "cell_type": "code",
   "execution_count": 7,
   "id": "11907974",
   "metadata": {
    "execution": {
     "iopub.execute_input": "2025-01-12T17:16:15.819651Z",
     "iopub.status.busy": "2025-01-12T17:16:15.819428Z",
     "iopub.status.idle": "2025-01-12T17:16:15.825852Z",
     "shell.execute_reply": "2025-01-12T17:16:15.825344Z"
    }
   },
   "outputs": [],
   "source": [
    "import json\n",
    "\n",
    "# Define the file path\n",
    "file_path = '../data/minmax.json'\n",
    "\n",
    "# Read the JSON file\n",
    "with open(file_path, 'r') as file:\n",
    "    minmax_data = json.load(file)\n",
    "\n",
    "spotify_min_sp = minmax_data['spotify']['min_sp']\n",
    "spotify_max_sp = minmax_data['spotify']['max_sp']\n",
    "spotify_min_snp = minmax_data['spotify']['min_snp']\n",
    "spotify_max_snp = minmax_data['spotify']['max_snp']\n",
    "\n",
    "google_min_sp = minmax_data['google']['min_sp']\n",
    "google_max_sp = minmax_data['google']['max_sp']\n",
    "google_min_snp = minmax_data['google']['min_snp']\n",
    "google_max_snp = minmax_data['google']['max_snp']\n",
    "\n",
    "bitcoin_min_sp = minmax_data['bitcoin']['min_sp']\n",
    "bitcoin_max_sp = minmax_data['bitcoin']['max_sp']\n",
    "bitcoin_min_snp = minmax_data['bitcoin']['min_snp']\n",
    "bitcoin_max_snp = minmax_data['bitcoin']['max_snp']\n"
   ]
  },
  {
   "cell_type": "markdown",
   "id": "56b7a5e1",
   "metadata": {},
   "source": [
    "### Spotify"
   ]
  },
  {
   "cell_type": "markdown",
   "id": "a008cba3",
   "metadata": {},
   "source": [
    "Get sentiment score and S&P 500"
   ]
  },
  {
   "cell_type": "code",
   "execution_count": 8,
   "id": "aaacae3c",
   "metadata": {
    "execution": {
     "iopub.execute_input": "2025-01-12T17:16:15.828007Z",
     "iopub.status.busy": "2025-01-12T17:16:15.827790Z",
     "iopub.status.idle": "2025-01-12T17:16:18.351506Z",
     "shell.execute_reply": "2025-01-12T17:16:18.350888Z"
    }
   },
   "outputs": [
    {
     "name": "stdout",
     "output_type": "stream",
     "text": [
      "Reading data from Hopsworks, using Hopsworks Feature Query Service.   \r"
     ]
    },
    {
     "name": "stdout",
     "output_type": "stream",
     "text": [
      "Reading data from Hopsworks, using Hopsworks Feature Query Service..   \r"
     ]
    },
    {
     "name": "stdout",
     "output_type": "stream",
     "text": [
      "\r",
      "Finished: Reading data from Hopsworks, using Hopsworks Feature Query Service (0.70s) \n"
     ]
    },
    {
     "name": "stdout",
     "output_type": "stream",
     "text": [
      "Reading data from Hopsworks, using Hopsworks Feature Query Service.   \r"
     ]
    },
    {
     "name": "stdout",
     "output_type": "stream",
     "text": [
      "\r",
      "Finished: Reading data from Hopsworks, using Hopsworks Feature Query Service (0.33s) \n"
     ]
    },
    {
     "data": {
      "text/plain": [
       "583.33"
      ]
     },
     "execution_count": 8,
     "metadata": {},
     "output_type": "execute_result"
    }
   ],
   "source": [
    "spot_sentim_fg = fs.get_feature_group(\n",
    "    name='spotify_sentiment',\n",
    "    version=1,\n",
    ")\n",
    "\n",
    "spot_sentim_df = spot_sentim_fg.filter(spot_sentim_fg.timestamp >= yesterday).read()\n",
    "\n",
    "if spot_sentim_df.empty:\n",
    "    spot_sentim_df['timestamp'] = [pd.to_datetime(yesterday).date()]\n",
    "    spot_sentim_df['overall_sentiment_score'] = [0]\n",
    "    \n",
    "    \n",
    "SandP_fg = fs.get_feature_group(\n",
    "    name='sandp',\n",
    "    version=1,\n",
    ")\n",
    "\n",
    "SandP_df = SandP_fg.filter(SandP_fg.timestamp >= five_days_ago).read()\n",
    "SandP_df = SandP_df.sort_values(by=['timestamp'], ascending=False)\n",
    "\n",
    "SandP_df.iloc[0]['price']"
   ]
  },
  {
   "cell_type": "markdown",
   "id": "e403aa77",
   "metadata": {},
   "source": [
    "Scaling"
   ]
  },
  {
   "cell_type": "code",
   "execution_count": 9,
   "id": "ef286498",
   "metadata": {
    "execution": {
     "iopub.execute_input": "2025-01-12T17:16:18.353696Z",
     "iopub.status.busy": "2025-01-12T17:16:18.353308Z",
     "iopub.status.idle": "2025-01-12T17:16:18.357737Z",
     "shell.execute_reply": "2025-01-12T17:16:18.357237Z"
    }
   },
   "outputs": [
    {
     "data": {
      "text/plain": [
       "0.9287896835672484"
      ]
     },
     "execution_count": 9,
     "metadata": {},
     "output_type": "execute_result"
    }
   ],
   "source": [
    "spot_scale = spotify_max_snp - spotify_min_snp\n",
    "SandP_scaled = (SandP_df.iloc[0]['price'] - spotify_min_snp) / spot_scale\n",
    "SandP_scaled"
   ]
  },
  {
   "cell_type": "markdown",
   "id": "17cf13d3",
   "metadata": {},
   "source": [
    "Predicting"
   ]
  },
  {
   "cell_type": "code",
   "execution_count": 10,
   "id": "aa23edb7",
   "metadata": {
    "execution": {
     "iopub.execute_input": "2025-01-12T17:16:18.359832Z",
     "iopub.status.busy": "2025-01-12T17:16:18.359393Z",
     "iopub.status.idle": "2025-01-12T17:16:18.365764Z",
     "shell.execute_reply": "2025-01-12T17:16:18.365142Z"
    }
   },
   "outputs": [
    {
     "data": {
      "text/plain": [
       "376.0625"
      ]
     },
     "execution_count": 10,
     "metadata": {},
     "output_type": "execute_result"
    }
   ],
   "source": [
    "spot_scale = spotify_max_sp - spotify_min_sp\n",
    "spot_X = [spot_sentim_df['overall_sentiment_score'][0], SandP_scaled]\n",
    "spot_pred = retrieved_spot_model.predict(np.array(spot_X).reshape(1, -1)) * spot_scale + spotify_min_sp\n",
    "spot_pred[0]"
   ]
  },
  {
   "cell_type": "markdown",
   "id": "980f2195",
   "metadata": {},
   "source": [
    "### Google"
   ]
  },
  {
   "cell_type": "code",
   "execution_count": 11,
   "id": "5530df2e",
   "metadata": {
    "execution": {
     "iopub.execute_input": "2025-01-12T17:16:18.368354Z",
     "iopub.status.busy": "2025-01-12T17:16:18.368140Z",
     "iopub.status.idle": "2025-01-12T17:16:19.256106Z",
     "shell.execute_reply": "2025-01-12T17:16:19.255396Z"
    }
   },
   "outputs": [
    {
     "name": "stdout",
     "output_type": "stream",
     "text": [
      "Reading data from Hopsworks, using Hopsworks Feature Query Service.   \r"
     ]
    },
    {
     "name": "stdout",
     "output_type": "stream",
     "text": [
      "\r",
      "Finished: Reading data from Hopsworks, using Hopsworks Feature Query Service (0.36s) \n"
     ]
    }
   ],
   "source": [
    "googl_sentim_fg = fs.get_feature_group(\n",
    "    name='google_sentiment',\n",
    "    version=1,\n",
    ")\n",
    "\n",
    "googl_sentim_df = googl_sentim_fg.filter(googl_sentim_fg.timestamp >= yesterday).read()\n",
    "\n",
    "if googl_sentim_df.empty:\n",
    "    googl_sentim_df['timestamp'] = [pd.to_datetime(yesterday).date()]\n",
    "    googl_sentim_df['overall_sentiment_score'] = [0]"
   ]
  },
  {
   "cell_type": "code",
   "execution_count": 12,
   "id": "9e1f4483",
   "metadata": {
    "execution": {
     "iopub.execute_input": "2025-01-12T17:16:19.258496Z",
     "iopub.status.busy": "2025-01-12T17:16:19.258114Z",
     "iopub.status.idle": "2025-01-12T17:16:19.263160Z",
     "shell.execute_reply": "2025-01-12T17:16:19.262600Z"
    }
   },
   "outputs": [
    {
     "data": {
      "text/plain": [
       "0.9493218339967566"
      ]
     },
     "execution_count": 12,
     "metadata": {},
     "output_type": "execute_result"
    }
   ],
   "source": [
    "googl_scale = google_max_snp - google_min_snp\n",
    "SandP_scaled = (SandP_df.iloc[0]['price'] - google_min_snp) / googl_scale\n",
    "SandP_scaled"
   ]
  },
  {
   "cell_type": "code",
   "execution_count": 13,
   "id": "ed95e413",
   "metadata": {
    "execution": {
     "iopub.execute_input": "2025-01-12T17:16:19.265037Z",
     "iopub.status.busy": "2025-01-12T17:16:19.264826Z",
     "iopub.status.idle": "2025-01-12T17:16:19.271061Z",
     "shell.execute_reply": "2025-01-12T17:16:19.270526Z"
    }
   },
   "outputs": [
    {
     "data": {
      "text/plain": [
       "171.62769"
      ]
     },
     "execution_count": 13,
     "metadata": {},
     "output_type": "execute_result"
    }
   ],
   "source": [
    "googl_scale = google_max_sp - google_min_sp\n",
    "googl_X = [googl_sentim_df['overall_sentiment_score'][0], SandP_scaled]\n",
    "googl_pred = retrieved_googl_model.predict(np.array(googl_X).reshape(1, -1)) * googl_scale + google_min_sp\n",
    "googl_pred[0]"
   ]
  },
  {
   "cell_type": "markdown",
   "id": "511c9bb6",
   "metadata": {},
   "source": [
    "Bitcoin"
   ]
  },
  {
   "cell_type": "code",
   "execution_count": 14,
   "id": "317e034f",
   "metadata": {
    "execution": {
     "iopub.execute_input": "2025-01-12T17:16:19.273742Z",
     "iopub.status.busy": "2025-01-12T17:16:19.273527Z",
     "iopub.status.idle": "2025-01-12T17:16:20.387864Z",
     "shell.execute_reply": "2025-01-12T17:16:20.387187Z"
    }
   },
   "outputs": [
    {
     "name": "stdout",
     "output_type": "stream",
     "text": [
      "Reading data from Hopsworks, using Hopsworks Feature Query Service.   \r"
     ]
    },
    {
     "name": "stdout",
     "output_type": "stream",
     "text": [
      "\r",
      "Finished: Reading data from Hopsworks, using Hopsworks Feature Query Service (0.44s) \n"
     ]
    }
   ],
   "source": [
    "btc_sentim_fg = fs.get_feature_group(\n",
    "    name='bitcoin_sentiment',\n",
    "    version=1,\n",
    ")\n",
    "\n",
    "btc_sentim_df = btc_sentim_fg.filter(btc_sentim_fg.timestamp >= yesterday).read()\n",
    "\n",
    "if btc_sentim_df.empty:\n",
    "    btc_sentim_df['timestamp'] = [pd.to_datetime(yesterday).date()]\n",
    "    btc_sentim_df['overall_sentiment_score'] = [0]\n"
   ]
  },
  {
   "cell_type": "code",
   "execution_count": 15,
   "id": "c6abdc80",
   "metadata": {
    "execution": {
     "iopub.execute_input": "2025-01-12T17:16:20.390222Z",
     "iopub.status.busy": "2025-01-12T17:16:20.389735Z",
     "iopub.status.idle": "2025-01-12T17:16:20.394581Z",
     "shell.execute_reply": "2025-01-12T17:16:20.393958Z"
    }
   },
   "outputs": [
    {
     "data": {
      "text/plain": [
       "0.8053372973738232"
      ]
     },
     "execution_count": 15,
     "metadata": {},
     "output_type": "execute_result"
    }
   ],
   "source": [
    "btc_scale = bitcoin_max_snp - bitcoin_min_snp\n",
    "SandP_scaled = (SandP_df.iloc[0]['price'] - bitcoin_min_snp) / btc_scale\n",
    "SandP_scaled"
   ]
  },
  {
   "cell_type": "code",
   "execution_count": 16,
   "id": "43dfa29a",
   "metadata": {
    "execution": {
     "iopub.execute_input": "2025-01-12T17:16:20.396564Z",
     "iopub.status.busy": "2025-01-12T17:16:20.396259Z",
     "iopub.status.idle": "2025-01-12T17:16:20.402792Z",
     "shell.execute_reply": "2025-01-12T17:16:20.402235Z"
    }
   },
   "outputs": [
    {
     "data": {
      "text/plain": [
       "71693.35"
      ]
     },
     "execution_count": 16,
     "metadata": {},
     "output_type": "execute_result"
    }
   ],
   "source": [
    "btc_scale = bitcoin_max_sp - bitcoin_min_sp\n",
    "btc_X = [btc_sentim_df['overall_sentiment_score'][0], SandP_scaled]\n",
    "btc_pred = retrieved_btc_model.predict(np.array(btc_X).reshape(1, -1)) * btc_scale + bitcoin_min_sp\n",
    "btc_pred[0]"
   ]
  },
  {
   "cell_type": "markdown",
   "id": "d20e783d",
   "metadata": {},
   "source": [
    "### Save Predictions in Feature Groups"
   ]
  },
  {
   "cell_type": "code",
   "execution_count": 17,
   "id": "431f9388",
   "metadata": {
    "execution": {
     "iopub.execute_input": "2025-01-12T17:16:20.405379Z",
     "iopub.status.busy": "2025-01-12T17:16:20.405165Z",
     "iopub.status.idle": "2025-01-12T17:16:21.063760Z",
     "shell.execute_reply": "2025-01-12T17:16:21.063040Z"
    }
   },
   "outputs": [],
   "source": [
    "spot_pred_fg = fs.get_or_create_feature_group(\n",
    "    name='spotify_pred',\n",
    "    description='Spotify Stock Price Prediction',\n",
    "    version=1,\n",
    "    primary_key=['timestamp'],\n",
    "    event_time=\"timestamp\",\n",
    ")\n",
    "\n",
    "googl_pred_fg = fs.get_or_create_feature_group(\n",
    "    name='google_pred',\n",
    "    description='Google Stock Price Prediction',\n",
    "    version=1,\n",
    "    primary_key=['timestamp'],\n",
    "    event_time=\"timestamp\",\n",
    ")\n",
    "\n",
    "btc_pred_fg = fs.get_or_create_feature_group(\n",
    "    name='bitcoin_pred',\n",
    "    description='Bitcoin Price Prediction',\n",
    "    version=1,\n",
    "    primary_key=['timestamp'],\n",
    "    event_time=\"timestamp\",\n",
    ")"
   ]
  },
  {
   "cell_type": "code",
   "execution_count": 18,
   "id": "5ff878f4",
   "metadata": {
    "execution": {
     "iopub.execute_input": "2025-01-12T17:16:21.066273Z",
     "iopub.status.busy": "2025-01-12T17:16:21.066033Z",
     "iopub.status.idle": "2025-01-12T17:16:21.072160Z",
     "shell.execute_reply": "2025-01-12T17:16:21.071438Z"
    }
   },
   "outputs": [],
   "source": [
    "spot_pred_df = pd.DataFrame({\n",
    "    'timestamp': [pd.Timestamp(pd.to_datetime(today).date())],\n",
    "    'predicted_price': [spot_pred[0]]\n",
    "})\n",
    "\n",
    "googl_pred_df = pd.DataFrame({\n",
    "    'timestamp': [pd.Timestamp(pd.to_datetime(today).date())],\n",
    "    'predicted_price': [googl_pred[0]]\n",
    "})\n",
    "\n",
    "btc_pred_df = pd.DataFrame({\n",
    "    'timestamp': [pd.Timestamp(pd.to_datetime(today).date())],\n",
    "    'predicted_price': [btc_pred[0]]\n",
    "})"
   ]
  },
  {
   "cell_type": "code",
   "execution_count": 19,
   "id": "97013a57",
   "metadata": {
    "execution": {
     "iopub.execute_input": "2025-01-12T17:16:21.074407Z",
     "iopub.status.busy": "2025-01-12T17:16:21.074024Z",
     "iopub.status.idle": "2025-01-12T17:16:44.295759Z",
     "shell.execute_reply": "2025-01-12T17:16:44.295082Z"
    }
   },
   "outputs": [
    {
     "name": "stderr",
     "output_type": "stream",
     "text": [
      "\r",
      "Uploading Dataframe: 0.00% |          | Rows 0/1 | Elapsed Time: 00:00 | Remaining Time: ?"
     ]
    },
    {
     "name": "stderr",
     "output_type": "stream",
     "text": [
      "\r",
      "Uploading Dataframe: 100.00% |██████████| Rows 1/1 | Elapsed Time: 00:01 | Remaining Time: 00:00"
     ]
    },
    {
     "name": "stderr",
     "output_type": "stream",
     "text": [
      "\r",
      "Uploading Dataframe: 100.00% |██████████| Rows 1/1 | Elapsed Time: 00:01 | Remaining Time: 00:00"
     ]
    },
    {
     "name": "stderr",
     "output_type": "stream",
     "text": [
      "\n"
     ]
    },
    {
     "name": "stdout",
     "output_type": "stream",
     "text": [
      "Launching job: spotify_pred_1_offline_fg_materialization\n"
     ]
    },
    {
     "name": "stdout",
     "output_type": "stream",
     "text": [
      "Job started successfully, you can follow the progress at \n",
      "https://c.app.hopsworks.ai:443/p/1205424/jobs/named/spotify_pred_1_offline_fg_materialization/executions\n"
     ]
    },
    {
     "name": "stderr",
     "output_type": "stream",
     "text": [
      "\r",
      "Uploading Dataframe: 0.00% |          | Rows 0/1 | Elapsed Time: 00:00 | Remaining Time: ?"
     ]
    },
    {
     "name": "stderr",
     "output_type": "stream",
     "text": [
      "\r",
      "Uploading Dataframe: 100.00% |██████████| Rows 1/1 | Elapsed Time: 00:01 | Remaining Time: 00:00"
     ]
    },
    {
     "name": "stderr",
     "output_type": "stream",
     "text": [
      "\r",
      "Uploading Dataframe: 100.00% |██████████| Rows 1/1 | Elapsed Time: 00:01 | Remaining Time: 00:00"
     ]
    },
    {
     "name": "stderr",
     "output_type": "stream",
     "text": [
      "\n"
     ]
    },
    {
     "name": "stdout",
     "output_type": "stream",
     "text": [
      "Launching job: google_pred_1_offline_fg_materialization\n"
     ]
    },
    {
     "name": "stdout",
     "output_type": "stream",
     "text": [
      "Job started successfully, you can follow the progress at \n",
      "https://c.app.hopsworks.ai:443/p/1205424/jobs/named/google_pred_1_offline_fg_materialization/executions\n"
     ]
    },
    {
     "name": "stderr",
     "output_type": "stream",
     "text": [
      "\r",
      "Uploading Dataframe: 0.00% |          | Rows 0/1 | Elapsed Time: 00:00 | Remaining Time: ?"
     ]
    },
    {
     "name": "stderr",
     "output_type": "stream",
     "text": [
      "\r",
      "Uploading Dataframe: 100.00% |██████████| Rows 1/1 | Elapsed Time: 00:01 | Remaining Time: 00:00"
     ]
    },
    {
     "name": "stderr",
     "output_type": "stream",
     "text": [
      "\r",
      "Uploading Dataframe: 100.00% |██████████| Rows 1/1 | Elapsed Time: 00:01 | Remaining Time: 00:00"
     ]
    },
    {
     "name": "stderr",
     "output_type": "stream",
     "text": [
      "\n"
     ]
    },
    {
     "name": "stdout",
     "output_type": "stream",
     "text": [
      "Launching job: bitcoin_pred_1_offline_fg_materialization\n"
     ]
    },
    {
     "name": "stdout",
     "output_type": "stream",
     "text": [
      "Job started successfully, you can follow the progress at \n",
      "https://c.app.hopsworks.ai:443/p/1205424/jobs/named/bitcoin_pred_1_offline_fg_materialization/executions\n"
     ]
    },
    {
     "data": {
      "text/plain": [
       "(Job('bitcoin_pred_1_offline_fg_materialization', 'SPARK'), None)"
      ]
     },
     "execution_count": 19,
     "metadata": {},
     "output_type": "execute_result"
    }
   ],
   "source": [
    "spot_pred_fg.insert(spot_pred_df)\n",
    "googl_pred_fg.insert(googl_pred_df)\n",
    "btc_pred_fg.insert(btc_pred_df)"
   ]
  },
  {
   "cell_type": "code",
   "execution_count": 20,
   "id": "4f0b05e0",
   "metadata": {
    "execution": {
     "iopub.execute_input": "2025-01-12T17:16:44.298129Z",
     "iopub.status.busy": "2025-01-12T17:16:44.297649Z",
     "iopub.status.idle": "2025-01-12T17:16:44.938378Z",
     "shell.execute_reply": "2025-01-12T17:16:44.937626Z"
    }
   },
   "outputs": [],
   "source": [
    "SPOT_fg = fs.get_feature_group(\n",
    "    name='spot',\n",
    "    version=1,\n",
    ")\n",
    "\n",
    "GOOGL_fg = fs.get_feature_group(\n",
    "    name='googl',\n",
    "    version=1,\n",
    ")\n",
    "\n",
    "BTC_fg = fs.get_feature_group(\n",
    "    name='btc',\n",
    "    version=1,\n",
    ")"
   ]
  },
  {
   "cell_type": "code",
   "execution_count": 21,
   "id": "18b51105",
   "metadata": {
    "execution": {
     "iopub.execute_input": "2025-01-12T17:16:44.940662Z",
     "iopub.status.busy": "2025-01-12T17:16:44.940455Z",
     "iopub.status.idle": "2025-01-12T17:16:45.761084Z",
     "shell.execute_reply": "2025-01-12T17:16:45.760436Z"
    }
   },
   "outputs": [
    {
     "name": "stdout",
     "output_type": "stream",
     "text": [
      "Reading data from Hopsworks, using Hopsworks Feature Query Service.   \r"
     ]
    },
    {
     "name": "stdout",
     "output_type": "stream",
     "text": [
      "\r",
      "Finished: Reading data from Hopsworks, using Hopsworks Feature Query Service (0.37s) \n"
     ]
    },
    {
     "data": {
      "text/html": [
       "<div>\n",
       "<style scoped>\n",
       "    .dataframe tbody tr th:only-of-type {\n",
       "        vertical-align: middle;\n",
       "    }\n",
       "\n",
       "    .dataframe tbody tr th {\n",
       "        vertical-align: top;\n",
       "    }\n",
       "\n",
       "    .dataframe thead th {\n",
       "        text-align: right;\n",
       "    }\n",
       "</style>\n",
       "<table border=\"1\" class=\"dataframe\">\n",
       "  <thead>\n",
       "    <tr style=\"text-align: right;\">\n",
       "      <th></th>\n",
       "      <th>predicted_price</th>\n",
       "      <th>date</th>\n",
       "    </tr>\n",
       "  </thead>\n",
       "  <tbody>\n",
       "    <tr>\n",
       "      <th>1694</th>\n",
       "      <td>376.0625</td>\n",
       "      <td>2025-01-12</td>\n",
       "    </tr>\n",
       "    <tr>\n",
       "      <th>1693</th>\n",
       "      <td>459.5300</td>\n",
       "      <td>2025-01-10</td>\n",
       "    </tr>\n",
       "    <tr>\n",
       "      <th>1692</th>\n",
       "      <td>479.7300</td>\n",
       "      <td>2025-01-08</td>\n",
       "    </tr>\n",
       "    <tr>\n",
       "      <th>1691</th>\n",
       "      <td>463.9300</td>\n",
       "      <td>2025-01-07</td>\n",
       "    </tr>\n",
       "    <tr>\n",
       "      <th>1690</th>\n",
       "      <td>468.9300</td>\n",
       "      <td>2025-01-06</td>\n",
       "    </tr>\n",
       "    <tr>\n",
       "      <th>1689</th>\n",
       "      <td>466.6900</td>\n",
       "      <td>2025-01-03</td>\n",
       "    </tr>\n",
       "    <tr>\n",
       "      <th>1369</th>\n",
       "      <td>484.9000</td>\n",
       "      <td>2024-12-16</td>\n",
       "    </tr>\n",
       "    <tr>\n",
       "      <th>958</th>\n",
       "      <td>483.3100</td>\n",
       "      <td>2024-12-13</td>\n",
       "    </tr>\n",
       "    <tr>\n",
       "      <th>627</th>\n",
       "      <td>480.1100</td>\n",
       "      <td>2024-12-12</td>\n",
       "    </tr>\n",
       "    <tr>\n",
       "      <th>795</th>\n",
       "      <td>476.9100</td>\n",
       "      <td>2024-12-11</td>\n",
       "    </tr>\n",
       "    <tr>\n",
       "      <th>1078</th>\n",
       "      <td>471.5800</td>\n",
       "      <td>2024-12-10</td>\n",
       "    </tr>\n",
       "    <tr>\n",
       "      <th>1598</th>\n",
       "      <td>482.5200</td>\n",
       "      <td>2024-12-09</td>\n",
       "    </tr>\n",
       "    <tr>\n",
       "      <th>738</th>\n",
       "      <td>498.6300</td>\n",
       "      <td>2024-12-06</td>\n",
       "    </tr>\n",
       "    <tr>\n",
       "      <th>868</th>\n",
       "      <td>493.5100</td>\n",
       "      <td>2024-12-05</td>\n",
       "    </tr>\n",
       "    <tr>\n",
       "      <th>1551</th>\n",
       "      <td>502.3800</td>\n",
       "      <td>2024-12-04</td>\n",
       "    </tr>\n",
       "    <tr>\n",
       "      <th>1630</th>\n",
       "      <td>493.3200</td>\n",
       "      <td>2024-12-03</td>\n",
       "    </tr>\n",
       "    <tr>\n",
       "      <th>66</th>\n",
       "      <td>480.2700</td>\n",
       "      <td>2024-12-02</td>\n",
       "    </tr>\n",
       "    <tr>\n",
       "      <th>423</th>\n",
       "      <td>476.9600</td>\n",
       "      <td>2024-11-29</td>\n",
       "    </tr>\n",
       "    <tr>\n",
       "      <th>1090</th>\n",
       "      <td>475.2400</td>\n",
       "      <td>2024-11-27</td>\n",
       "    </tr>\n",
       "    <tr>\n",
       "      <th>1508</th>\n",
       "      <td>476.6100</td>\n",
       "      <td>2024-11-26</td>\n",
       "    </tr>\n",
       "    <tr>\n",
       "      <th>32</th>\n",
       "      <td>481.3800</td>\n",
       "      <td>2024-11-25</td>\n",
       "    </tr>\n",
       "    <tr>\n",
       "      <th>796</th>\n",
       "      <td>475.0400</td>\n",
       "      <td>2024-11-22</td>\n",
       "    </tr>\n",
       "    <tr>\n",
       "      <th>1248</th>\n",
       "      <td>470.7000</td>\n",
       "      <td>2024-11-21</td>\n",
       "    </tr>\n",
       "    <tr>\n",
       "      <th>1612</th>\n",
       "      <td>470.0100</td>\n",
       "      <td>2024-11-20</td>\n",
       "    </tr>\n",
       "    <tr>\n",
       "      <th>1603</th>\n",
       "      <td>463.8300</td>\n",
       "      <td>2024-11-19</td>\n",
       "    </tr>\n",
       "    <tr>\n",
       "      <th>1358</th>\n",
       "      <td>454.3600</td>\n",
       "      <td>2024-11-18</td>\n",
       "    </tr>\n",
       "    <tr>\n",
       "      <th>925</th>\n",
       "      <td>458.3200</td>\n",
       "      <td>2024-11-15</td>\n",
       "    </tr>\n",
       "    <tr>\n",
       "      <th>1137</th>\n",
       "      <td>477.5000</td>\n",
       "      <td>2024-11-14</td>\n",
       "    </tr>\n",
       "    <tr>\n",
       "      <th>1370</th>\n",
       "      <td>467.3700</td>\n",
       "      <td>2024-11-13</td>\n",
       "    </tr>\n",
       "    <tr>\n",
       "      <th>1510</th>\n",
       "      <td>419.3900</td>\n",
       "      <td>2024-11-12</td>\n",
       "    </tr>\n",
       "    <tr>\n",
       "      <th>636</th>\n",
       "      <td>410.1900</td>\n",
       "      <td>2024-11-11</td>\n",
       "    </tr>\n",
       "    <tr>\n",
       "      <th>1256</th>\n",
       "      <td>400.6800</td>\n",
       "      <td>2024-11-08</td>\n",
       "    </tr>\n",
       "    <tr>\n",
       "      <th>917</th>\n",
       "      <td>399.8400</td>\n",
       "      <td>2024-11-07</td>\n",
       "    </tr>\n",
       "    <tr>\n",
       "      <th>1504</th>\n",
       "      <td>391.1600</td>\n",
       "      <td>2024-11-06</td>\n",
       "    </tr>\n",
       "    <tr>\n",
       "      <th>1558</th>\n",
       "      <td>382.6300</td>\n",
       "      <td>2024-11-05</td>\n",
       "    </tr>\n",
       "    <tr>\n",
       "      <th>103</th>\n",
       "      <td>377.7300</td>\n",
       "      <td>2024-11-04</td>\n",
       "    </tr>\n",
       "    <tr>\n",
       "      <th>1208</th>\n",
       "      <td>384.5000</td>\n",
       "      <td>2024-11-01</td>\n",
       "    </tr>\n",
       "    <tr>\n",
       "      <th>1374</th>\n",
       "      <td>385.1000</td>\n",
       "      <td>2024-10-31</td>\n",
       "    </tr>\n",
       "    <tr>\n",
       "      <th>290</th>\n",
       "      <td>394.0200</td>\n",
       "      <td>2024-10-30</td>\n",
       "    </tr>\n",
       "    <tr>\n",
       "      <th>464</th>\n",
       "      <td>391.2300</td>\n",
       "      <td>2024-10-29</td>\n",
       "    </tr>\n",
       "    <tr>\n",
       "      <th>586</th>\n",
       "      <td>384.3600</td>\n",
       "      <td>2024-10-28</td>\n",
       "    </tr>\n",
       "    <tr>\n",
       "      <th>1224</th>\n",
       "      <td>379.1600</td>\n",
       "      <td>2024-10-25</td>\n",
       "    </tr>\n",
       "    <tr>\n",
       "      <th>1176</th>\n",
       "      <td>376.8700</td>\n",
       "      <td>2024-10-24</td>\n",
       "    </tr>\n",
       "    <tr>\n",
       "      <th>242</th>\n",
       "      <td>379.8400</td>\n",
       "      <td>2024-10-23</td>\n",
       "    </tr>\n",
       "    <tr>\n",
       "      <th>117</th>\n",
       "      <td>387.6300</td>\n",
       "      <td>2024-10-22</td>\n",
       "    </tr>\n",
       "    <tr>\n",
       "      <th>329</th>\n",
       "      <td>381.9700</td>\n",
       "      <td>2024-10-21</td>\n",
       "    </tr>\n",
       "    <tr>\n",
       "      <th>1052</th>\n",
       "      <td>378.8800</td>\n",
       "      <td>2024-10-18</td>\n",
       "    </tr>\n",
       "    <tr>\n",
       "      <th>233</th>\n",
       "      <td>366.7500</td>\n",
       "      <td>2024-10-17</td>\n",
       "    </tr>\n",
       "    <tr>\n",
       "      <th>84</th>\n",
       "      <td>371.6900</td>\n",
       "      <td>2024-10-16</td>\n",
       "    </tr>\n",
       "    <tr>\n",
       "      <th>101</th>\n",
       "      <td>372.6000</td>\n",
       "      <td>2024-10-15</td>\n",
       "    </tr>\n",
       "    <tr>\n",
       "      <th>369</th>\n",
       "      <td>372.5000</td>\n",
       "      <td>2024-10-14</td>\n",
       "    </tr>\n",
       "    <tr>\n",
       "      <th>1319</th>\n",
       "      <td>373.7000</td>\n",
       "      <td>2024-10-11</td>\n",
       "    </tr>\n",
       "    <tr>\n",
       "      <th>1616</th>\n",
       "      <td>378.0000</td>\n",
       "      <td>2024-10-10</td>\n",
       "    </tr>\n",
       "    <tr>\n",
       "      <th>647</th>\n",
       "      <td>373.9800</td>\n",
       "      <td>2024-10-09</td>\n",
       "    </tr>\n",
       "    <tr>\n",
       "      <th>547</th>\n",
       "      <td>370.3800</td>\n",
       "      <td>2024-10-08</td>\n",
       "    </tr>\n",
       "    <tr>\n",
       "      <th>784</th>\n",
       "      <td>362.9500</td>\n",
       "      <td>2024-10-07</td>\n",
       "    </tr>\n",
       "    <tr>\n",
       "      <th>318</th>\n",
       "      <td>371.4500</td>\n",
       "      <td>2024-10-04</td>\n",
       "    </tr>\n",
       "    <tr>\n",
       "      <th>1606</th>\n",
       "      <td>372.6000</td>\n",
       "      <td>2024-10-03</td>\n",
       "    </tr>\n",
       "    <tr>\n",
       "      <th>187</th>\n",
       "      <td>374.7500</td>\n",
       "      <td>2024-10-02</td>\n",
       "    </tr>\n",
       "    <tr>\n",
       "      <th>603</th>\n",
       "      <td>375.4000</td>\n",
       "      <td>2024-10-01</td>\n",
       "    </tr>\n",
       "  </tbody>\n",
       "</table>\n",
       "</div>"
      ],
      "text/plain": [
       "      predicted_price       date\n",
       "1694         376.0625 2025-01-12\n",
       "1693         459.5300 2025-01-10\n",
       "1692         479.7300 2025-01-08\n",
       "1691         463.9300 2025-01-07\n",
       "1690         468.9300 2025-01-06\n",
       "1689         466.6900 2025-01-03\n",
       "1369         484.9000 2024-12-16\n",
       "958          483.3100 2024-12-13\n",
       "627          480.1100 2024-12-12\n",
       "795          476.9100 2024-12-11\n",
       "1078         471.5800 2024-12-10\n",
       "1598         482.5200 2024-12-09\n",
       "738          498.6300 2024-12-06\n",
       "868          493.5100 2024-12-05\n",
       "1551         502.3800 2024-12-04\n",
       "1630         493.3200 2024-12-03\n",
       "66           480.2700 2024-12-02\n",
       "423          476.9600 2024-11-29\n",
       "1090         475.2400 2024-11-27\n",
       "1508         476.6100 2024-11-26\n",
       "32           481.3800 2024-11-25\n",
       "796          475.0400 2024-11-22\n",
       "1248         470.7000 2024-11-21\n",
       "1612         470.0100 2024-11-20\n",
       "1603         463.8300 2024-11-19\n",
       "1358         454.3600 2024-11-18\n",
       "925          458.3200 2024-11-15\n",
       "1137         477.5000 2024-11-14\n",
       "1370         467.3700 2024-11-13\n",
       "1510         419.3900 2024-11-12\n",
       "636          410.1900 2024-11-11\n",
       "1256         400.6800 2024-11-08\n",
       "917          399.8400 2024-11-07\n",
       "1504         391.1600 2024-11-06\n",
       "1558         382.6300 2024-11-05\n",
       "103          377.7300 2024-11-04\n",
       "1208         384.5000 2024-11-01\n",
       "1374         385.1000 2024-10-31\n",
       "290          394.0200 2024-10-30\n",
       "464          391.2300 2024-10-29\n",
       "586          384.3600 2024-10-28\n",
       "1224         379.1600 2024-10-25\n",
       "1176         376.8700 2024-10-24\n",
       "242          379.8400 2024-10-23\n",
       "117          387.6300 2024-10-22\n",
       "329          381.9700 2024-10-21\n",
       "1052         378.8800 2024-10-18\n",
       "233          366.7500 2024-10-17\n",
       "84           371.6900 2024-10-16\n",
       "101          372.6000 2024-10-15\n",
       "369          372.5000 2024-10-14\n",
       "1319         373.7000 2024-10-11\n",
       "1616         378.0000 2024-10-10\n",
       "647          373.9800 2024-10-09\n",
       "547          370.3800 2024-10-08\n",
       "784          362.9500 2024-10-07\n",
       "318          371.4500 2024-10-04\n",
       "1606         372.6000 2024-10-03\n",
       "187          374.7500 2024-10-02\n",
       "603          375.4000 2024-10-01"
      ]
     },
     "execution_count": 21,
     "metadata": {},
     "output_type": "execute_result"
    }
   ],
   "source": [
    "spot_df = SPOT_fg.read()\n",
    "spot_df['timestamp'] = pd.to_datetime(spot_df['timestamp'].dt.date)\n",
    "# spot_df['timestamp'] = spot_df['timestamp'].dt.tz_localize(None)\n",
    "\n",
    "spot_plotting_df = pd.DataFrame()\n",
    "spot_plotting_df['predicted_price'] = spot_df['price']\n",
    "spot_plotting_df['timestamp'] = spot_df['timestamp']\n",
    "spot_plotting_df = pd.concat([spot_plotting_df, spot_pred_df], ignore_index=True)\n",
    "spot_plotting_df['date'] = spot_plotting_df['timestamp'].copy()\n",
    "spot_plotting_df.drop('timestamp', axis=1, inplace=True)\n",
    "spot_plotting_df = spot_plotting_df.sort_values(by=['date'], ascending=False)\n",
    "spot_plotting_df.head(60)"
   ]
  },
  {
   "cell_type": "code",
   "execution_count": 22,
   "id": "9bb0f844",
   "metadata": {
    "execution": {
     "iopub.execute_input": "2025-01-12T17:16:45.763046Z",
     "iopub.status.busy": "2025-01-12T17:16:45.762826Z",
     "iopub.status.idle": "2025-01-12T17:16:46.176087Z",
     "shell.execute_reply": "2025-01-12T17:16:46.175337Z"
    }
   },
   "outputs": [
    {
     "name": "stdout",
     "output_type": "stream",
     "text": [
      "2025-01-12 17:16:45,768 WARNING: DeprecationWarning: backend2gui is deprecated since IPython 8.24, backends are managed in matplotlib and can be externally registered.\n",
      "\n"
     ]
    },
    {
     "data": {
      "image/png": "[encoded data removed]",
      "text/plain": [
       "<Figure size 1000x600 with 1 Axes>"
      ]
     },
     "metadata": {},
     "output_type": "display_data"
    }
   ],
   "source": [
    "file_path = \"../docs/img/spot_forecast.png\"\n",
    "if os.path.exists(os.path.dirname(file_path)):\n",
    "    plt = util.plot_stock_price_forecast(df=spot_plotting_df.head(60), file_path=file_path, name=\"Spotify\", hindcast=False) \n",
    "else:\n",
    "    os.makedirs(os.path.dirname(file_path), exist_ok=True)\n",
    "    plt = util.plot_stock_price_forecast(df=spot_plotting_df.head(60), file_path=file_path, name=\"Spotify\", hindcast=False) \n",
    "\n",
    "plt.show()"
   ]
  },
  {
   "cell_type": "code",
   "execution_count": 23,
   "id": "8ef44bbc",
   "metadata": {
    "execution": {
     "iopub.execute_input": "2025-01-12T17:16:46.178546Z",
     "iopub.status.busy": "2025-01-12T17:16:46.178144Z",
     "iopub.status.idle": "2025-01-12T17:16:48.079986Z",
     "shell.execute_reply": "2025-01-12T17:16:48.079288Z"
    }
   },
   "outputs": [
    {
     "name": "stdout",
     "output_type": "stream",
     "text": [
      "Reading data from Hopsworks, using Hopsworks Feature Query Service.   \r"
     ]
    },
    {
     "name": "stdout",
     "output_type": "stream",
     "text": [
      "Reading data from Hopsworks, using Hopsworks Feature Query Service..   \r"
     ]
    },
    {
     "name": "stdout",
     "output_type": "stream",
     "text": [
      "Reading data from Hopsworks, using Hopsworks Feature Query Service...   \r"
     ]
    },
    {
     "name": "stdout",
     "output_type": "stream",
     "text": [
      "\r",
      "Finished: Reading data from Hopsworks, using Hopsworks Feature Query Service (1.22s) \n"
     ]
    }
   ],
   "source": [
    "googl_df = GOOGL_fg.read()\n",
    "googl_df['timestamp'] = pd.to_datetime(googl_df['timestamp'].dt.date)\n",
    "\n",
    "googl_plotting_df = pd.DataFrame()\n",
    "googl_plotting_df['predicted_price'] = googl_df['price']\n",
    "googl_plotting_df['timestamp'] = googl_df['timestamp']\n",
    "googl_plotting_df = pd.concat([googl_plotting_df, googl_pred_df], ignore_index=True)\n",
    "googl_plotting_df['date'] = googl_plotting_df['timestamp'].copy()\n",
    "googl_plotting_df.drop('timestamp', axis=1, inplace=True)\n",
    "googl_plotting_df = googl_plotting_df.sort_values(by=['date'], ascending=False)"
   ]
  },
  {
   "cell_type": "code",
   "execution_count": 24,
   "id": "6b77a5e2",
   "metadata": {
    "execution": {
     "iopub.execute_input": "2025-01-12T17:16:48.082380Z",
     "iopub.status.busy": "2025-01-12T17:16:48.081989Z",
     "iopub.status.idle": "2025-01-12T17:16:48.469087Z",
     "shell.execute_reply": "2025-01-12T17:16:48.468399Z"
    }
   },
   "outputs": [
    {
     "data": {
      "image/png": "[encoded data removed]",
      "text/plain": [
       "<Figure size 1000x600 with 1 Axes>"
      ]
     },
     "metadata": {},
     "output_type": "display_data"
    }
   ],
   "source": [
    "file_path = \"../docs/img/googl_forecast.png\"\n",
    "if os.path.exists(os.path.dirname(file_path)):\n",
    "    plt = util.plot_stock_price_forecast(df=googl_plotting_df.head(60), file_path=file_path, name=\"Google\", hindcast=False) \n",
    "else:\n",
    "    os.makedirs(os.path.dirname(file_path), exist_ok=True)\n",
    "    plt = util.plot_stock_price_forecast(df=googl_plotting_df.head(60), file_path=file_path, name=\"Google\", hindcast=False) \n",
    "\n",
    "plt.show()"
   ]
  },
  {
   "cell_type": "code",
   "execution_count": 25,
   "id": "4cc89601",
   "metadata": {
    "execution": {
     "iopub.execute_input": "2025-01-12T17:16:48.471376Z",
     "iopub.status.busy": "2025-01-12T17:16:48.470994Z",
     "iopub.status.idle": "2025-01-12T17:16:49.184587Z",
     "shell.execute_reply": "2025-01-12T17:16:49.183876Z"
    }
   },
   "outputs": [
    {
     "name": "stdout",
     "output_type": "stream",
     "text": [
      "Reading data from Hopsworks, using Hopsworks Feature Query Service.   \r"
     ]
    },
    {
     "name": "stdout",
     "output_type": "stream",
     "text": [
      "\r",
      "Finished: Reading data from Hopsworks, using Hopsworks Feature Query Service (0.36s) \n"
     ]
    }
   ],
   "source": [
    "btc_df = BTC_fg.read()\n",
    "btc_df['timestamp'] = pd.to_datetime(btc_df['timestamp'].dt.date)\n",
    "\n",
    "btc_plotting_df = pd.DataFrame()\n",
    "btc_plotting_df['predicted_price'] = btc_df['price']\n",
    "btc_plotting_df['timestamp'] = btc_df['timestamp']\n",
    "btc_plotting_df = pd.concat([btc_plotting_df, btc_pred_df], ignore_index=True)\n",
    "btc_plotting_df['date'] = btc_plotting_df['timestamp'].copy()\n",
    "btc_plotting_df.drop('timestamp', axis=1, inplace=True)\n",
    "btc_plotting_df = btc_plotting_df.sort_values(by=['date'], ascending=False)"
   ]
  },
  {
   "cell_type": "code",
   "execution_count": 26,
   "id": "86d05229",
   "metadata": {
    "execution": {
     "iopub.execute_input": "2025-01-12T17:16:49.187127Z",
     "iopub.status.busy": "2025-01-12T17:16:49.186548Z",
     "iopub.status.idle": "2025-01-12T17:16:49.510365Z",
     "shell.execute_reply": "2025-01-12T17:16:49.509625Z"
    }
   },
   "outputs": [
    {
     "data": {
      "image/png": "[encoded data removed]",
      "text/plain": [
       "<Figure size 1000x600 with 1 Axes>"
      ]
     },
     "metadata": {},
     "output_type": "display_data"
    }
   ],
   "source": [
    "file_path = \"../docs/img/btc_forecast.png\"\n",
    "if os.path.exists(os.path.dirname(file_path)):\n",
    "    plt = util.plot_stock_price_forecast(df=btc_plotting_df.head(60), file_path=file_path, name=\"Bitcoin\", hindcast=False) \n",
    "else:\n",
    "    os.makedirs(os.path.dirname(file_path), exist_ok=True)\n",
    "    plt = util.plot_stock_price_forecast(df=btc_plotting_df.head(60), file_path=file_path, name=\"Bitcoin\", hindcast=False) \n",
    "\n",
    "plt.show()"
   ]
  },
  {
   "cell_type": "markdown",
   "id": "9edb1552",
   "metadata": {},
   "source": [
    "### Plot the Hindcast comparing predicted with forecasted values (1-day prior forecast)\n",
    "\n",
    "__This graph will be empty to begin with - this is normal.__\n",
    "\n",
    "After a few days of predictions and observations, you will get data points in this graph."
   ]
  },
  {
   "cell_type": "code",
   "execution_count": 27,
   "id": "d3e08e43",
   "metadata": {
    "execution": {
     "iopub.execute_input": "2025-01-12T17:16:49.512664Z",
     "iopub.status.busy": "2025-01-12T17:16:49.512254Z",
     "iopub.status.idle": "2025-01-12T17:16:50.218053Z",
     "shell.execute_reply": "2025-01-12T17:16:50.217407Z"
    }
   },
   "outputs": [
    {
     "name": "stdout",
     "output_type": "stream",
     "text": [
      "Reading data from Hopsworks, using Hopsworks Feature Query Service.   \r"
     ]
    },
    {
     "name": "stdout",
     "output_type": "stream",
     "text": [
      "\r",
      "Finished: Reading data from Hopsworks, using Hopsworks Feature Query Service (0.44s) \n"
     ]
    },
    {
     "data": {
      "text/html": [
       "<div>\n",
       "<style scoped>\n",
       "    .dataframe tbody tr th:only-of-type {\n",
       "        vertical-align: middle;\n",
       "    }\n",
       "\n",
       "    .dataframe tbody tr th {\n",
       "        vertical-align: top;\n",
       "    }\n",
       "\n",
       "    .dataframe thead th {\n",
       "        text-align: right;\n",
       "    }\n",
       "</style>\n",
       "<table border=\"1\" class=\"dataframe\">\n",
       "  <thead>\n",
       "    <tr style=\"text-align: right;\">\n",
       "      <th></th>\n",
       "      <th>predicted_price</th>\n",
       "      <th>price</th>\n",
       "      <th>date</th>\n",
       "    </tr>\n",
       "  </thead>\n",
       "  <tbody>\n",
       "    <tr>\n",
       "      <th>0</th>\n",
       "      <td>423.199097</td>\n",
       "      <td>468.93</td>\n",
       "      <td>2025-01-06</td>\n",
       "    </tr>\n",
       "    <tr>\n",
       "      <th>1</th>\n",
       "      <td>423.199097</td>\n",
       "      <td>463.93</td>\n",
       "      <td>2025-01-07</td>\n",
       "    </tr>\n",
       "    <tr>\n",
       "      <th>2</th>\n",
       "      <td>412.000061</td>\n",
       "      <td>479.73</td>\n",
       "      <td>2025-01-08</td>\n",
       "    </tr>\n",
       "  </tbody>\n",
       "</table>\n",
       "</div>"
      ],
      "text/plain": [
       "   predicted_price   price       date\n",
       "0       423.199097  468.93 2025-01-06\n",
       "1       423.199097  463.93 2025-01-07\n",
       "2       412.000061  479.73 2025-01-08"
      ]
     },
     "execution_count": 27,
     "metadata": {},
     "output_type": "execute_result"
    }
   ],
   "source": [
    "SPOT_pred_df = spot_pred_fg.read()\n",
    "# Convert timestamps to datetime and set timezone to UTC\n",
    "SPOT_pred_df['timestamp'] = SPOT_pred_df['timestamp'].dt.tz_localize(None)\n",
    "spot_df['timestamp'] = spot_df['timestamp'].dt.tz_localize(None)\n",
    "merged_SPOT_df = pd.merge(SPOT_pred_df, spot_df, on='timestamp', how='inner')\n",
    "merged_SPOT_df['date'] = merged_SPOT_df['timestamp'].copy()\n",
    "merged_SPOT_df.drop('timestamp', axis=1, inplace=True)\n",
    "merged_SPOT_df"
   ]
  },
  {
   "cell_type": "code",
   "execution_count": 28,
   "id": "31e62393",
   "metadata": {
    "execution": {
     "iopub.execute_input": "2025-01-12T17:16:50.220204Z",
     "iopub.status.busy": "2025-01-12T17:16:50.219995Z",
     "iopub.status.idle": "2025-01-12T17:16:50.604703Z",
     "shell.execute_reply": "2025-01-12T17:16:50.604091Z"
    }
   },
   "outputs": [
    {
     "data": {
      "image/png": "[encoded data removed]",
      "text/plain": [
       "<Figure size 1000x600 with 1 Axes>"
      ]
     },
     "metadata": {},
     "output_type": "display_data"
    }
   ],
   "source": [
    "file_path = \"../docs/img/spot_hindcast.png\"\n",
    "if os.path.exists(os.path.dirname(file_path)):\n",
    "    plt = util.plot_stock_price_forecast(df=merged_SPOT_df, file_path=file_path, name=\"Spotify\", hindcast=True)\n",
    "else:\n",
    "    os.makedirs(os.path.dirname(file_path), exist_ok=True)\n",
    "    plt = util.plot_stock_price_forecast(df=merged_SPOT_df, file_path=file_path, name=\"Spotify\", hindcast=True)\n",
    "\n",
    "plt.show()"
   ]
  },
  {
   "cell_type": "code",
   "execution_count": 29,
   "id": "bfea5734",
   "metadata": {
    "execution": {
     "iopub.execute_input": "2025-01-12T17:16:50.607149Z",
     "iopub.status.busy": "2025-01-12T17:16:50.606650Z",
     "iopub.status.idle": "2025-01-12T17:16:52.067888Z",
     "shell.execute_reply": "2025-01-12T17:16:52.067303Z"
    }
   },
   "outputs": [
    {
     "name": "stdout",
     "output_type": "stream",
     "text": [
      "Reading data from Hopsworks, using Hopsworks Feature Query Service.   \r"
     ]
    },
    {
     "name": "stdout",
     "output_type": "stream",
     "text": [
      "Reading data from Hopsworks, using Hopsworks Feature Query Service..   \r"
     ]
    },
    {
     "name": "stdout",
     "output_type": "stream",
     "text": [
      "\r",
      "Finished: Reading data from Hopsworks, using Hopsworks Feature Query Service (0.50s) \n"
     ]
    },
    {
     "data": {
      "text/html": [
       "<div>\n",
       "<style scoped>\n",
       "    .dataframe tbody tr th:only-of-type {\n",
       "        vertical-align: middle;\n",
       "    }\n",
       "\n",
       "    .dataframe tbody tr th {\n",
       "        vertical-align: top;\n",
       "    }\n",
       "\n",
       "    .dataframe thead th {\n",
       "        text-align: right;\n",
       "    }\n",
       "</style>\n",
       "<table border=\"1\" class=\"dataframe\">\n",
       "  <thead>\n",
       "    <tr style=\"text-align: right;\">\n",
       "      <th></th>\n",
       "      <th>predicted_price</th>\n",
       "      <th>price</th>\n",
       "      <th>date</th>\n",
       "    </tr>\n",
       "  </thead>\n",
       "  <tbody>\n",
       "    <tr>\n",
       "      <th>0</th>\n",
       "      <td>171.627686</td>\n",
       "      <td>196.87</td>\n",
       "      <td>2025-01-06</td>\n",
       "    </tr>\n",
       "    <tr>\n",
       "      <th>1</th>\n",
       "      <td>171.627686</td>\n",
       "      <td>195.49</td>\n",
       "      <td>2025-01-07</td>\n",
       "    </tr>\n",
       "    <tr>\n",
       "      <th>2</th>\n",
       "      <td>171.627686</td>\n",
       "      <td>193.95</td>\n",
       "      <td>2025-01-08</td>\n",
       "    </tr>\n",
       "  </tbody>\n",
       "</table>\n",
       "</div>"
      ],
      "text/plain": [
       "   predicted_price   price       date\n",
       "0       171.627686  196.87 2025-01-06\n",
       "1       171.627686  195.49 2025-01-07\n",
       "2       171.627686  193.95 2025-01-08"
      ]
     },
     "execution_count": 29,
     "metadata": {},
     "output_type": "execute_result"
    }
   ],
   "source": [
    "GOOGL_pred_df = googl_pred_fg.read()\n",
    "# Convert timestamps to datetime and set timezone to UTC\n",
    "GOOGL_pred_df['timestamp'] = GOOGL_pred_df['timestamp'].dt.tz_localize(None)\n",
    "googl_df['timestamp'] = googl_df['timestamp'].dt.tz_localize(None)\n",
    "merged_GOOGL_df = pd.merge(GOOGL_pred_df, googl_df, on='timestamp', how='inner')\n",
    "merged_GOOGL_df['date'] = merged_GOOGL_df['timestamp'].copy()\n",
    "merged_GOOGL_df.drop('timestamp', axis=1, inplace=True)\n",
    "merged_GOOGL_df"
   ]
  },
  {
   "cell_type": "code",
   "execution_count": 30,
   "id": "5d8d3166",
   "metadata": {
    "execution": {
     "iopub.execute_input": "2025-01-12T17:16:52.070175Z",
     "iopub.status.busy": "2025-01-12T17:16:52.069702Z",
     "iopub.status.idle": "2025-01-12T17:16:52.467652Z",
     "shell.execute_reply": "2025-01-12T17:16:52.466957Z"
    }
   },
   "outputs": [
    {
     "data": {
      "image/png": "[encoded data removed]",
      "text/plain": [
       "<Figure size 1000x600 with 1 Axes>"
      ]
     },
     "metadata": {},
     "output_type": "display_data"
    }
   ],
   "source": [
    "file_path = \"../docs/img/googl_hindcast.png\"\n",
    "if os.path.exists(os.path.dirname(file_path)):\n",
    "    plt = util.plot_stock_price_forecast(df=merged_GOOGL_df, file_path=file_path, name=\"Google\", hindcast=True)\n",
    "else:\n",
    "    os.makedirs(os.path.dirname(file_path), exist_ok=True)\n",
    "    plt = util.plot_stock_price_forecast(df=merged_GOOGL_df, file_path=file_path, name=\"Google\", hindcast=True)\n",
    "\n",
    "plt.show()"
   ]
  },
  {
   "cell_type": "code",
   "execution_count": 31,
   "id": "f6604613",
   "metadata": {
    "execution": {
     "iopub.execute_input": "2025-01-12T17:16:52.469943Z",
     "iopub.status.busy": "2025-01-12T17:16:52.469539Z",
     "iopub.status.idle": "2025-01-12T17:16:53.834207Z",
     "shell.execute_reply": "2025-01-12T17:16:53.833518Z"
    }
   },
   "outputs": [
    {
     "name": "stdout",
     "output_type": "stream",
     "text": [
      "Reading data from Hopsworks, using Hopsworks Feature Query Service.   \r"
     ]
    },
    {
     "name": "stdout",
     "output_type": "stream",
     "text": [
      "Reading data from Hopsworks, using Hopsworks Feature Query Service..   \r"
     ]
    },
    {
     "name": "stdout",
     "output_type": "stream",
     "text": [
      "\r",
      "Finished: Reading data from Hopsworks, using Hopsworks Feature Query Service (0.54s) \n"
     ]
    },
    {
     "data": {
      "text/html": [
       "<div>\n",
       "<style scoped>\n",
       "    .dataframe tbody tr th:only-of-type {\n",
       "        vertical-align: middle;\n",
       "    }\n",
       "\n",
       "    .dataframe tbody tr th {\n",
       "        vertical-align: top;\n",
       "    }\n",
       "\n",
       "    .dataframe thead th {\n",
       "        text-align: right;\n",
       "    }\n",
       "</style>\n",
       "<table border=\"1\" class=\"dataframe\">\n",
       "  <thead>\n",
       "    <tr style=\"text-align: right;\">\n",
       "      <th></th>\n",
       "      <th>predicted_price</th>\n",
       "      <th>price</th>\n",
       "      <th>date</th>\n",
       "    </tr>\n",
       "  </thead>\n",
       "  <tbody>\n",
       "    <tr>\n",
       "      <th>0</th>\n",
       "      <td>93871.054688</td>\n",
       "      <td>98130.00</td>\n",
       "      <td>2025-01-06</td>\n",
       "    </tr>\n",
       "    <tr>\n",
       "      <th>1</th>\n",
       "      <td>98411.734375</td>\n",
       "      <td>101784.17</td>\n",
       "      <td>2025-01-07</td>\n",
       "    </tr>\n",
       "    <tr>\n",
       "      <th>2</th>\n",
       "      <td>91121.781250</td>\n",
       "      <td>96980.69</td>\n",
       "      <td>2025-01-08</td>\n",
       "    </tr>\n",
       "    <tr>\n",
       "      <th>3</th>\n",
       "      <td>91121.781250</td>\n",
       "      <td>95225.61</td>\n",
       "      <td>2025-01-09</td>\n",
       "    </tr>\n",
       "  </tbody>\n",
       "</table>\n",
       "</div>"
      ],
      "text/plain": [
       "   predicted_price      price       date\n",
       "0     93871.054688   98130.00 2025-01-06\n",
       "1     98411.734375  101784.17 2025-01-07\n",
       "2     91121.781250   96980.69 2025-01-08\n",
       "3     91121.781250   95225.61 2025-01-09"
      ]
     },
     "execution_count": 31,
     "metadata": {},
     "output_type": "execute_result"
    }
   ],
   "source": [
    "BTC_pred_df =btc_pred_fg.read()\n",
    "# Convert timestamps to datetime and set timezone to UTC\n",
    "BTC_pred_df['timestamp'] = BTC_pred_df['timestamp'].dt.tz_localize(None)\n",
    "btc_df['timestamp'] = btc_df['timestamp'].dt.tz_localize(None)\n",
    "merged_BTC_df = pd.merge(BTC_pred_df, btc_df, on='timestamp', how='inner')\n",
    "merged_BTC_df['date'] = merged_BTC_df['timestamp'].copy()\n",
    "merged_BTC_df.drop('timestamp', axis=1, inplace=True)\n",
    "merged_BTC_df"
   ]
  },
  {
   "cell_type": "code",
   "execution_count": 32,
   "id": "92e49cfa",
   "metadata": {
    "execution": {
     "iopub.execute_input": "2025-01-12T17:16:53.836388Z",
     "iopub.status.busy": "2025-01-12T17:16:53.836009Z",
     "iopub.status.idle": "2025-01-12T17:16:54.190444Z",
     "shell.execute_reply": "2025-01-12T17:16:54.189735Z"
    }
   },
   "outputs": [
    {
     "data": {
      "image/png": "[encoded data removed]",
      "text/plain": [
       "<Figure size 1000x600 with 1 Axes>"
      ]
     },
     "metadata": {},
     "output_type": "display_data"
    }
   ],
   "source": [
    "file_path = \"../docs/img/btc_hindcast.png\"\n",
    "if os.path.exists(os.path.dirname(file_path)):\n",
    "    plt = util.plot_stock_price_forecast(df=merged_BTC_df, file_path=file_path, name=\"BTC\", hindcast=True)\n",
    "else:\n",
    "    os.makedirs(os.path.dirname(file_path), exist_ok=True)\n",
    "    plt = util.plot_stock_price_forecast(df=merged_BTC_df, file_path=file_path, name=\"BTC\", hindcast=True)\n",
    "\n",
    "plt.show()"
   ]
  }
 ],
 "metadata": {
  "kernelspec": {
   "display_name": "airquality",
   "language": "python",
   "name": "python3"
  },
  "language_info": {
   "codemirror_mode": {
    "name": "ipython",
    "version": 3
   },
   "file_extension": ".py",
   "mimetype": "text/x-python",
   "name": "python",
   "nbconvert_exporter": "python",
   "pygments_lexer": "ipython3",
   "version": "3.10.16"
  }
 },
 "nbformat": 4,
 "nbformat_minor": 5
}
