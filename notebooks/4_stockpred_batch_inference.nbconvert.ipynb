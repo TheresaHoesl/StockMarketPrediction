{
 "cells": [
  {
   "cell_type": "markdown",
   "id": "f16b7819",
   "metadata": {},
   "source": [
    "# <span style=\"font-width:bold; font-size: 3rem; color:#1EB182;\"> **Tradable Forecasting** </span> - Part 04: Batch Inference"
   ]
  },
  {
   "cell_type": "code",
   "execution_count": 1,
   "id": "1f430c88",
   "metadata": {
    "execution": {
     "iopub.execute_input": "2025-01-08T01:53:54.652373Z",
     "iopub.status.busy": "2025-01-08T01:53:54.652172Z",
     "iopub.status.idle": "2025-01-08T01:53:57.469861Z",
     "shell.execute_reply": "2025-01-08T01:53:57.469168Z"
    }
   },
   "outputs": [],
   "source": [
    "import datetime\n",
    "import pandas as pd\n",
    "from xgboost import XGBRegressor\n",
    "import hopsworks\n",
    "import json\n",
    "from functions import util\n",
    "import os\n",
    "import numpy as np\n",
    "import json\n",
    "from sklearn.preprocessing import MinMaxScaler"
   ]
  },
  {
   "cell_type": "code",
   "execution_count": 2,
   "id": "bcfd27c1",
   "metadata": {
    "execution": {
     "iopub.execute_input": "2025-01-08T01:53:57.472425Z",
     "iopub.status.busy": "2025-01-08T01:53:57.472043Z",
     "iopub.status.idle": "2025-01-08T01:53:57.479501Z",
     "shell.execute_reply": "2025-01-08T01:53:57.478924Z"
    }
   },
   "outputs": [
    {
     "data": {
      "text/plain": [
       "datetime.datetime(2025, 1, 8, 1, 53, 57, 473752)"
      ]
     },
     "execution_count": 2,
     "metadata": {},
     "output_type": "execute_result"
    }
   ],
   "source": [
    "today = datetime.datetime.now() - datetime.timedelta(0)\n",
    "yesterday = today - datetime.timedelta(days = 1)\n",
    "five_days_ago = today - datetime.timedelta(days = 5)\n",
    "sixty_days_ago = today - datetime.timedelta(days = 60)\n",
    "today"
   ]
  },
  {
   "cell_type": "markdown",
   "id": "4e91e99d",
   "metadata": {},
   "source": [
    "### Connect to Hopsworks Feature Store"
   ]
  },
  {
   "cell_type": "code",
   "execution_count": 3,
   "id": "74a2c243",
   "metadata": {
    "execution": {
     "iopub.execute_input": "2025-01-08T01:53:57.481717Z",
     "iopub.status.busy": "2025-01-08T01:53:57.481310Z",
     "iopub.status.idle": "2025-01-08T01:53:58.605432Z",
     "shell.execute_reply": "2025-01-08T01:53:58.604812Z"
    }
   },
   "outputs": [
    {
     "name": "stdout",
     "output_type": "stream",
     "text": [
      "2025-01-08 01:53:57,483 INFO: Initializing external client\n"
     ]
    },
    {
     "name": "stdout",
     "output_type": "stream",
     "text": [
      "2025-01-08 01:53:57,483 INFO: Base URL: https://c.app.hopsworks.ai:443\n"
     ]
    },
    {
     "name": "stdout",
     "output_type": "stream",
     "text": [
      "2025-01-08 01:53:58,114 INFO: Python Engine initialized.\n"
     ]
    },
    {
     "name": "stdout",
     "output_type": "stream",
     "text": [
      "\n",
      "Logged in to project, explore it here https://c.app.hopsworks.ai:443/p/1205424\n"
     ]
    }
   ],
   "source": [
    "# If you haven't set the env variable 'HOPSWORKS_API_KEY', then uncomment the next line and enter your API key\n",
    "# with open('../data/hopsworks-api-key.txt', 'r') as file:\n",
    "#     os.environ[\"HOPSWORKS_API_KEY\"] = file.read().rstrip()\n",
    "\n",
    "project = hopsworks.login(project = 'StockPrediction', api_key_value=os.environ[\"HOPSWORKS_API_KEY\"])\n",
    "fs = project.get_feature_store()\n",
    "\n",
    "# api_key_file = '../data/alphavantage-api-key.txt'\n",
    "# util.check_file_path(api_key_file)\n",
    "\n",
    "# with open(api_key_file, 'r') as file:\n",
    "#     ALPHAVANTAGE_API_KEY = file.read().rstrip()\n",
    "\n",
    "secrets_api = hopsworks.get_secrets_api()\n",
    "ALPHAVANTAGE_API_KEY = secrets_api.get_secret(\"AV_API_KEY\").value"
   ]
  },
  {
   "cell_type": "markdown",
   "id": "4f138859",
   "metadata": {},
   "source": [
    "### Feature View Retrieval\n"
   ]
  },
  {
   "cell_type": "code",
   "execution_count": 4,
   "id": "114b8e87",
   "metadata": {
    "execution": {
     "iopub.execute_input": "2025-01-08T01:53:58.607650Z",
     "iopub.status.busy": "2025-01-08T01:53:58.607311Z",
     "iopub.status.idle": "2025-01-08T01:54:04.063798Z",
     "shell.execute_reply": "2025-01-08T01:54:04.063190Z"
    }
   },
   "outputs": [],
   "source": [
    "fv_spot = fs.get_feature_view(\n",
    "    name='spotify_feature_view',\n",
    "    version=1,\n",
    ")\n",
    "\n",
    "fv_googl = fs.get_feature_view(\n",
    "    name='google_feature_view',\n",
    "    version=1,\n",
    ")\n",
    "\n",
    "fv_btc = fs.get_feature_view(\n",
    "    name='btc_feature_view',\n",
    "    version=1,\n",
    ")"
   ]
  },
  {
   "cell_type": "markdown",
   "id": "4cead441",
   "metadata": {},
   "source": [
    "### Download the model from Model Registry"
   ]
  },
  {
   "cell_type": "code",
   "execution_count": 5,
   "id": "c6d70a2f",
   "metadata": {
    "execution": {
     "iopub.execute_input": "2025-01-08T01:54:04.066079Z",
     "iopub.status.busy": "2025-01-08T01:54:04.065878Z",
     "iopub.status.idle": "2025-01-08T01:54:06.230687Z",
     "shell.execute_reply": "2025-01-08T01:54:06.229977Z"
    }
   },
   "outputs": [
    {
     "name": "stdout",
     "output_type": "stream",
     "text": [
      "Downloading model artifact (0 dirs, 1 files)... \r",
      "Downloading model artifact (0 dirs, 1 files)... DONE\r"
     ]
    },
    {
     "name": "stdout",
     "output_type": "stream",
     "text": [
      "Downloading model artifact (0 dirs, 1 files)... \r",
      "Downloading model artifact (0 dirs, 1 files)... DONE\r"
     ]
    },
    {
     "name": "stdout",
     "output_type": "stream",
     "text": [
      "Downloading model artifact (0 dirs, 1 files)... \r",
      "Downloading model artifact (0 dirs, 1 files)... DONE\r"
     ]
    }
   ],
   "source": [
    "mr = project.get_model_registry()\n",
    "\n",
    "spot_model = mr.get_model(\n",
    "    name=\"spotify_xgboost_model\",\n",
    "    version=1,\n",
    ")\n",
    "\n",
    "googl_model = mr.get_model(\n",
    "    name=\"google_xgboost_model\",\n",
    "    version=1,\n",
    ")\n",
    "\n",
    "btc_model = mr.get_model(\n",
    "    name=\"bitcoin_xgboost_model\",\n",
    "    version=1,\n",
    ")\n",
    "\n",
    "# Download the saved models artifacts to a local directory\n",
    "spot_model_dir = spot_model.download()\n",
    "googl_model_dir = googl_model.download()\n",
    "btc_model_dir = btc_model.download()"
   ]
  },
  {
   "cell_type": "code",
   "execution_count": 6,
   "id": "a6cf6c06",
   "metadata": {
    "execution": {
     "iopub.execute_input": "2025-01-08T01:54:06.232790Z",
     "iopub.status.busy": "2025-01-08T01:54:06.232584Z",
     "iopub.status.idle": "2025-01-08T01:54:06.263665Z",
     "shell.execute_reply": "2025-01-08T01:54:06.263147Z"
    }
   },
   "outputs": [],
   "source": [
    "# Loading the XGBoost regressor model and label encoder from the saved model directory\n",
    "# retrieved_xgboost_model = joblib.load(saved_model_dir + \"/xgboost_regressor.pkl\")\n",
    "retrieved_spot_model = XGBRegressor()\n",
    "retrieved_spot_model.load_model(spot_model_dir + \"/spotify_model.json\")\n",
    "\n",
    "retrieved_googl_model = XGBRegressor()\n",
    "retrieved_googl_model.load_model(googl_model_dir + \"/google_model.json\")\n",
    "\n",
    "retrieved_btc_model = XGBRegressor()\n",
    "retrieved_btc_model.load_model(btc_model_dir + \"/bitcoin_model.json\")"
   ]
  },
  {
   "cell_type": "markdown",
   "id": "43ad941a",
   "metadata": {},
   "source": [
    "## Get Stock Price Forecast Features with Feature View\n",
    "\n"
   ]
  },
  {
   "cell_type": "code",
   "execution_count": 7,
   "id": "11907974",
   "metadata": {
    "execution": {
     "iopub.execute_input": "2025-01-08T01:54:06.266572Z",
     "iopub.status.busy": "2025-01-08T01:54:06.266334Z",
     "iopub.status.idle": "2025-01-08T01:54:06.271927Z",
     "shell.execute_reply": "2025-01-08T01:54:06.271399Z"
    }
   },
   "outputs": [],
   "source": [
    "import json\n",
    "\n",
    "# Define the file path\n",
    "file_path = '../data/minmax.json'\n",
    "\n",
    "# Read the JSON file\n",
    "with open(file_path, 'r') as file:\n",
    "    minmax_data = json.load(file)\n",
    "\n",
    "spotify_min_sp = minmax_data['spotify']['min_sp']\n",
    "spotify_max_sp = minmax_data['spotify']['max_sp']\n",
    "spotify_min_snp = minmax_data['spotify']['min_snp']\n",
    "spotify_max_snp = minmax_data['spotify']['max_snp']\n",
    "\n",
    "google_min_sp = minmax_data['google']['min_sp']\n",
    "google_max_sp = minmax_data['google']['max_sp']\n",
    "google_min_snp = minmax_data['google']['min_snp']\n",
    "google_max_snp = minmax_data['google']['max_snp']\n",
    "\n",
    "bitcoin_min_sp = minmax_data['bitcoin']['min_sp']\n",
    "bitcoin_max_sp = minmax_data['bitcoin']['max_sp']\n",
    "bitcoin_min_snp = minmax_data['bitcoin']['min_snp']\n",
    "bitcoin_max_snp = minmax_data['bitcoin']['max_snp']\n"
   ]
  },
  {
   "cell_type": "markdown",
   "id": "56b7a5e1",
   "metadata": {},
   "source": [
    "### Spotify"
   ]
  },
  {
   "cell_type": "markdown",
   "id": "a008cba3",
   "metadata": {},
   "source": [
    "Get sentiment score and S&P 500"
   ]
  },
  {
   "cell_type": "code",
   "execution_count": 8,
   "id": "aaacae3c",
   "metadata": {
    "execution": {
     "iopub.execute_input": "2025-01-08T01:54:06.273866Z",
     "iopub.status.busy": "2025-01-08T01:54:06.273668Z",
     "iopub.status.idle": "2025-01-08T01:54:08.300327Z",
     "shell.execute_reply": "2025-01-08T01:54:08.299740Z"
    }
   },
   "outputs": [
    {
     "name": "stdout",
     "output_type": "stream",
     "text": [
      "Reading data from Hopsworks, using Hopsworks Feature Query Service.   \r"
     ]
    },
    {
     "name": "stdout",
     "output_type": "stream",
     "text": [
      "\r",
      "Finished: Reading data from Hopsworks, using Hopsworks Feature Query Service (0.36s) \n"
     ]
    },
    {
     "name": "stdout",
     "output_type": "stream",
     "text": [
      "Reading data from Hopsworks, using Hopsworks Feature Query Service.   \r"
     ]
    },
    {
     "name": "stdout",
     "output_type": "stream",
     "text": [
      "\r",
      "Finished: Reading data from Hopsworks, using Hopsworks Feature Query Service (0.33s) \n"
     ]
    },
    {
     "data": {
      "text/plain": [
       "591.57"
      ]
     },
     "execution_count": 8,
     "metadata": {},
     "output_type": "execute_result"
    }
   ],
   "source": [
    "spot_sentim_fg = fs.get_feature_group(\n",
    "    name='spotify_sentiment',\n",
    "    version=1,\n",
    ")\n",
    "\n",
    "spot_sentim_df = spot_sentim_fg.filter(spot_sentim_fg.timestamp >= yesterday).read()\n",
    "\n",
    "if spot_sentim_df.empty:\n",
    "    spot_sentim_df['timestamp'] = [pd.to_datetime(yesterday).date()]\n",
    "    spot_sentim_df['overall_sentiment_score'] = [0]\n",
    "    \n",
    "    \n",
    "SandP_fg = fs.get_feature_group(\n",
    "    name='sandp',\n",
    "    version=1,\n",
    ")\n",
    "\n",
    "SandP_df = SandP_fg.filter(SandP_fg.timestamp >= five_days_ago).read()\n",
    "SandP_df = SandP_df.sort_values(by=['timestamp'], ascending=False)\n",
    "\n",
    "SandP_df.iloc[0]['price']"
   ]
  },
  {
   "cell_type": "markdown",
   "id": "e403aa77",
   "metadata": {},
   "source": [
    "Scaling"
   ]
  },
  {
   "cell_type": "code",
   "execution_count": 9,
   "id": "ef286498",
   "metadata": {
    "execution": {
     "iopub.execute_input": "2025-01-08T01:54:08.302489Z",
     "iopub.status.busy": "2025-01-08T01:54:08.302279Z",
     "iopub.status.idle": "2025-01-08T01:54:08.307396Z",
     "shell.execute_reply": "2025-01-08T01:54:08.306734Z"
    }
   },
   "outputs": [
    {
     "data": {
      "text/plain": [
       "0.950126883836553"
      ]
     },
     "execution_count": 9,
     "metadata": {},
     "output_type": "execute_result"
    }
   ],
   "source": [
    "spot_scale = spotify_max_snp - spotify_min_snp\n",
    "SandP_scaled = (SandP_df.iloc[0]['price'] - spotify_min_snp) / spot_scale\n",
    "SandP_scaled"
   ]
  },
  {
   "cell_type": "markdown",
   "id": "17cf13d3",
   "metadata": {},
   "source": [
    "Predicting"
   ]
  },
  {
   "cell_type": "code",
   "execution_count": 10,
   "id": "aa23edb7",
   "metadata": {
    "execution": {
     "iopub.execute_input": "2025-01-08T01:54:08.309642Z",
     "iopub.status.busy": "2025-01-08T01:54:08.309306Z",
     "iopub.status.idle": "2025-01-08T01:54:08.316117Z",
     "shell.execute_reply": "2025-01-08T01:54:08.315081Z"
    }
   },
   "outputs": [
    {
     "data": {
      "text/plain": [
       "412.00006"
      ]
     },
     "execution_count": 10,
     "metadata": {},
     "output_type": "execute_result"
    }
   ],
   "source": [
    "spot_scale = spotify_max_sp - spotify_min_sp\n",
    "spot_X = [spot_sentim_df['overall_sentiment_score'][0], SandP_scaled]\n",
    "spot_pred = retrieved_spot_model.predict(np.array(spot_X).reshape(1, -1)) * spot_scale + spotify_min_sp\n",
    "spot_pred[0]"
   ]
  },
  {
   "cell_type": "markdown",
   "id": "980f2195",
   "metadata": {},
   "source": [
    "### Google"
   ]
  },
  {
   "cell_type": "code",
   "execution_count": 11,
   "id": "5530df2e",
   "metadata": {
    "execution": {
     "iopub.execute_input": "2025-01-08T01:54:08.318693Z",
     "iopub.status.busy": "2025-01-08T01:54:08.318456Z",
     "iopub.status.idle": "2025-01-08T01:54:09.224598Z",
     "shell.execute_reply": "2025-01-08T01:54:09.223961Z"
    }
   },
   "outputs": [
    {
     "name": "stdout",
     "output_type": "stream",
     "text": [
      "Reading data from Hopsworks, using Hopsworks Feature Query Service.   \r"
     ]
    },
    {
     "name": "stdout",
     "output_type": "stream",
     "text": [
      "\r",
      "Finished: Reading data from Hopsworks, using Hopsworks Feature Query Service (0.38s) \n"
     ]
    }
   ],
   "source": [
    "googl_sentim_fg = fs.get_feature_group(\n",
    "    name='google_sentiment',\n",
    "    version=1,\n",
    ")\n",
    "\n",
    "googl_sentim_df = googl_sentim_fg.filter(googl_sentim_fg.timestamp >= yesterday).read()\n",
    "\n",
    "if googl_sentim_df.empty:\n",
    "    googl_sentim_df['timestamp'] = [pd.to_datetime(yesterday).date()]\n",
    "    googl_sentim_df['overall_sentiment_score'] = [0]"
   ]
  },
  {
   "cell_type": "code",
   "execution_count": 12,
   "id": "9e1f4483",
   "metadata": {
    "execution": {
     "iopub.execute_input": "2025-01-08T01:54:09.226948Z",
     "iopub.status.busy": "2025-01-08T01:54:09.226558Z",
     "iopub.status.idle": "2025-01-08T01:54:09.231724Z",
     "shell.execute_reply": "2025-01-08T01:54:09.231153Z"
    }
   },
   "outputs": [
    {
     "data": {
      "text/plain": [
       "0.9645068553737285"
      ]
     },
     "execution_count": 12,
     "metadata": {},
     "output_type": "execute_result"
    }
   ],
   "source": [
    "googl_scale = google_max_snp - google_min_snp\n",
    "SandP_scaled = (SandP_df.iloc[0]['price'] - google_min_snp) / googl_scale\n",
    "SandP_scaled"
   ]
  },
  {
   "cell_type": "code",
   "execution_count": 13,
   "id": "ed95e413",
   "metadata": {
    "execution": {
     "iopub.execute_input": "2025-01-08T01:54:09.233936Z",
     "iopub.status.busy": "2025-01-08T01:54:09.233524Z",
     "iopub.status.idle": "2025-01-08T01:54:09.240214Z",
     "shell.execute_reply": "2025-01-08T01:54:09.239608Z"
    }
   },
   "outputs": [
    {
     "data": {
      "text/plain": [
       "171.62769"
      ]
     },
     "execution_count": 13,
     "metadata": {},
     "output_type": "execute_result"
    }
   ],
   "source": [
    "googl_scale = google_max_sp - google_min_sp\n",
    "googl_X = [googl_sentim_df['overall_sentiment_score'][0], SandP_scaled]\n",
    "googl_pred = retrieved_googl_model.predict(np.array(googl_X).reshape(1, -1)) * googl_scale + google_min_sp\n",
    "googl_pred[0]"
   ]
  },
  {
   "cell_type": "markdown",
   "id": "511c9bb6",
   "metadata": {},
   "source": [
    "Bitcoin"
   ]
  },
  {
   "cell_type": "code",
   "execution_count": 14,
   "id": "317e034f",
   "metadata": {
    "execution": {
     "iopub.execute_input": "2025-01-08T01:54:09.242911Z",
     "iopub.status.busy": "2025-01-08T01:54:09.242684Z",
     "iopub.status.idle": "2025-01-08T01:54:10.146920Z",
     "shell.execute_reply": "2025-01-08T01:54:10.146237Z"
    }
   },
   "outputs": [
    {
     "name": "stdout",
     "output_type": "stream",
     "text": [
      "Reading data from Hopsworks, using Hopsworks Feature Query Service.   \r"
     ]
    },
    {
     "name": "stdout",
     "output_type": "stream",
     "text": [
      "\r",
      "Finished: Reading data from Hopsworks, using Hopsworks Feature Query Service (0.39s) \n"
     ]
    }
   ],
   "source": [
    "btc_sentim_fg = fs.get_feature_group(\n",
    "    name='bitcoin_sentiment',\n",
    "    version=1,\n",
    ")\n",
    "\n",
    "btc_sentim_df = btc_sentim_fg.filter(btc_sentim_fg.timestamp >= yesterday).read()\n",
    "\n",
    "if btc_sentim_df.empty:\n",
    "    btc_sentim_df['timestamp'] = [pd.to_datetime(yesterday).date()]\n",
    "    btc_sentim_df['overall_sentiment_score'] = [0]\n"
   ]
  },
  {
   "cell_type": "code",
   "execution_count": 15,
   "id": "c6abdc80",
   "metadata": {
    "execution": {
     "iopub.execute_input": "2025-01-08T01:54:10.149079Z",
     "iopub.status.busy": "2025-01-08T01:54:10.148706Z",
     "iopub.status.idle": "2025-01-08T01:54:10.153813Z",
     "shell.execute_reply": "2025-01-08T01:54:10.153259Z"
    }
   },
   "outputs": [
    {
     "data": {
      "text/plain": [
       "0.8636653217243577"
      ]
     },
     "execution_count": 15,
     "metadata": {},
     "output_type": "execute_result"
    }
   ],
   "source": [
    "btc_scale = bitcoin_max_snp - bitcoin_min_snp\n",
    "SandP_scaled = (SandP_df.iloc[0]['price'] - bitcoin_min_snp) / btc_scale\n",
    "SandP_scaled"
   ]
  },
  {
   "cell_type": "code",
   "execution_count": 16,
   "id": "43dfa29a",
   "metadata": {
    "execution": {
     "iopub.execute_input": "2025-01-08T01:54:10.155749Z",
     "iopub.status.busy": "2025-01-08T01:54:10.155554Z",
     "iopub.status.idle": "2025-01-08T01:54:10.161857Z",
     "shell.execute_reply": "2025-01-08T01:54:10.160862Z"
    }
   },
   "outputs": [
    {
     "data": {
      "text/plain": [
       "91121.78"
      ]
     },
     "execution_count": 16,
     "metadata": {},
     "output_type": "execute_result"
    }
   ],
   "source": [
    "btc_scale = bitcoin_max_sp - bitcoin_min_sp\n",
    "btc_X = [btc_sentim_df['overall_sentiment_score'][0], SandP_scaled]\n",
    "btc_pred = retrieved_btc_model.predict(np.array(btc_X).reshape(1, -1)) * btc_scale + bitcoin_min_sp\n",
    "btc_pred[0]"
   ]
  },
  {
   "cell_type": "markdown",
   "id": "d20e783d",
   "metadata": {},
   "source": [
    "### Save Predictions in Feature Groups"
   ]
  },
  {
   "cell_type": "code",
   "execution_count": 17,
   "id": "431f9388",
   "metadata": {
    "execution": {
     "iopub.execute_input": "2025-01-08T01:54:10.164336Z",
     "iopub.status.busy": "2025-01-08T01:54:10.164120Z",
     "iopub.status.idle": "2025-01-08T01:54:10.773191Z",
     "shell.execute_reply": "2025-01-08T01:54:10.772516Z"
    }
   },
   "outputs": [],
   "source": [
    "spot_pred_fg = fs.get_or_create_feature_group(\n",
    "    name='spotify_pred',\n",
    "    description='Spotify Stock Price Prediction',\n",
    "    version=1,\n",
    "    primary_key=['timestamp'],\n",
    "    event_time=\"timestamp\",\n",
    ")\n",
    "\n",
    "googl_pred_fg = fs.get_or_create_feature_group(\n",
    "    name='google_pred',\n",
    "    description='Google Stock Price Prediction',\n",
    "    version=1,\n",
    "    primary_key=['timestamp'],\n",
    "    event_time=\"timestamp\",\n",
    ")\n",
    "\n",
    "btc_pred_fg = fs.get_or_create_feature_group(\n",
    "    name='bitcoin_pred',\n",
    "    description='Bitcoin Price Prediction',\n",
    "    version=1,\n",
    "    primary_key=['timestamp'],\n",
    "    event_time=\"timestamp\",\n",
    ")"
   ]
  },
  {
   "cell_type": "code",
   "execution_count": 18,
   "id": "5ff878f4",
   "metadata": {
    "execution": {
     "iopub.execute_input": "2025-01-08T01:54:10.775621Z",
     "iopub.status.busy": "2025-01-08T01:54:10.775398Z",
     "iopub.status.idle": "2025-01-08T01:54:10.780979Z",
     "shell.execute_reply": "2025-01-08T01:54:10.780457Z"
    }
   },
   "outputs": [],
   "source": [
    "spot_pred_df = pd.DataFrame({\n",
    "    'timestamp': [pd.Timestamp(pd.to_datetime(today).date())],\n",
    "    'predicted_price': [spot_pred[0]]\n",
    "})\n",
    "\n",
    "googl_pred_df = pd.DataFrame({\n",
    "    'timestamp': [pd.Timestamp(pd.to_datetime(today).date())],\n",
    "    'predicted_price': [googl_pred[0]]\n",
    "})\n",
    "\n",
    "btc_pred_df = pd.DataFrame({\n",
    "    'timestamp': [pd.Timestamp(pd.to_datetime(today).date())],\n",
    "    'predicted_price': [btc_pred[0]]\n",
    "})"
   ]
  },
  {
   "cell_type": "code",
   "execution_count": 19,
   "id": "97013a57",
   "metadata": {
    "execution": {
     "iopub.execute_input": "2025-01-08T01:54:10.782848Z",
     "iopub.status.busy": "2025-01-08T01:54:10.782652Z",
     "iopub.status.idle": "2025-01-08T01:54:45.987544Z",
     "shell.execute_reply": "2025-01-08T01:54:45.986947Z"
    }
   },
   "outputs": [
    {
     "name": "stderr",
     "output_type": "stream",
     "text": [
      "\r",
      "Uploading Dataframe: 0.00% |          | Rows 0/1 | Elapsed Time: 00:00 | Remaining Time: ?"
     ]
    },
    {
     "name": "stderr",
     "output_type": "stream",
     "text": [
      "\r",
      "Uploading Dataframe: 100.00% |██████████| Rows 1/1 | Elapsed Time: 00:01 | Remaining Time: 00:00"
     ]
    },
    {
     "name": "stderr",
     "output_type": "stream",
     "text": [
      "\r",
      "Uploading Dataframe: 100.00% |██████████| Rows 1/1 | Elapsed Time: 00:01 | Remaining Time: 00:00"
     ]
    },
    {
     "name": "stderr",
     "output_type": "stream",
     "text": [
      "\n"
     ]
    },
    {
     "name": "stdout",
     "output_type": "stream",
     "text": [
      "Launching job: spotify_pred_1_offline_fg_materialization\n"
     ]
    },
    {
     "name": "stdout",
     "output_type": "stream",
     "text": [
      "Job started successfully, you can follow the progress at \n",
      "https://c.app.hopsworks.ai:443/p/1205424/jobs/named/spotify_pred_1_offline_fg_materialization/executions\n"
     ]
    },
    {
     "name": "stderr",
     "output_type": "stream",
     "text": [
      "\r",
      "Uploading Dataframe: 0.00% |          | Rows 0/1 | Elapsed Time: 00:00 | Remaining Time: ?"
     ]
    },
    {
     "name": "stderr",
     "output_type": "stream",
     "text": [
      "\r",
      "Uploading Dataframe: 100.00% |██████████| Rows 1/1 | Elapsed Time: 00:01 | Remaining Time: 00:00"
     ]
    },
    {
     "name": "stderr",
     "output_type": "stream",
     "text": [
      "\r",
      "Uploading Dataframe: 100.00% |██████████| Rows 1/1 | Elapsed Time: 00:01 | Remaining Time: 00:00"
     ]
    },
    {
     "name": "stderr",
     "output_type": "stream",
     "text": [
      "\n"
     ]
    },
    {
     "name": "stdout",
     "output_type": "stream",
     "text": [
      "Launching job: google_pred_1_offline_fg_materialization\n"
     ]
    },
    {
     "name": "stdout",
     "output_type": "stream",
     "text": [
      "Job started successfully, you can follow the progress at \n",
      "https://c.app.hopsworks.ai:443/p/1205424/jobs/named/google_pred_1_offline_fg_materialization/executions\n"
     ]
    },
    {
     "name": "stderr",
     "output_type": "stream",
     "text": [
      "\r",
      "Uploading Dataframe: 0.00% |          | Rows 0/1 | Elapsed Time: 00:00 | Remaining Time: ?"
     ]
    },
    {
     "name": "stderr",
     "output_type": "stream",
     "text": [
      "\r",
      "Uploading Dataframe: 100.00% |██████████| Rows 1/1 | Elapsed Time: 00:00 | Remaining Time: 00:00"
     ]
    },
    {
     "name": "stderr",
     "output_type": "stream",
     "text": [
      "\n"
     ]
    },
    {
     "name": "stdout",
     "output_type": "stream",
     "text": [
      "Launching job: bitcoin_pred_1_offline_fg_materialization\n"
     ]
    },
    {
     "name": "stdout",
     "output_type": "stream",
     "text": [
      "Job started successfully, you can follow the progress at \n",
      "https://c.app.hopsworks.ai:443/p/1205424/jobs/named/bitcoin_pred_1_offline_fg_materialization/executions\n"
     ]
    },
    {
     "data": {
      "text/plain": [
       "(Job('bitcoin_pred_1_offline_fg_materialization', 'SPARK'), None)"
      ]
     },
     "execution_count": 19,
     "metadata": {},
     "output_type": "execute_result"
    }
   ],
   "source": [
    "spot_pred_fg.insert(spot_pred_df)\n",
    "googl_pred_fg.insert(googl_pred_df)\n",
    "btc_pred_fg.insert(btc_pred_df)"
   ]
  },
  {
   "cell_type": "code",
   "execution_count": 20,
   "id": "4f0b05e0",
   "metadata": {
    "execution": {
     "iopub.execute_input": "2025-01-08T01:54:45.989877Z",
     "iopub.status.busy": "2025-01-08T01:54:45.989445Z",
     "iopub.status.idle": "2025-01-08T01:54:46.673264Z",
     "shell.execute_reply": "2025-01-08T01:54:46.672588Z"
    }
   },
   "outputs": [],
   "source": [
    "SPOT_fg = fs.get_feature_group(\n",
    "    name='spot',\n",
    "    version=1,\n",
    ")\n",
    "\n",
    "GOOGL_fg = fs.get_feature_group(\n",
    "    name='googl',\n",
    "    version=1,\n",
    ")\n",
    "\n",
    "BTC_fg = fs.get_feature_group(\n",
    "    name='btc',\n",
    "    version=1,\n",
    ")"
   ]
  },
  {
   "cell_type": "code",
   "execution_count": 21,
   "id": "18b51105",
   "metadata": {
    "execution": {
     "iopub.execute_input": "2025-01-08T01:54:46.675698Z",
     "iopub.status.busy": "2025-01-08T01:54:46.675467Z",
     "iopub.status.idle": "2025-01-08T01:54:47.912355Z",
     "shell.execute_reply": "2025-01-08T01:54:47.911732Z"
    }
   },
   "outputs": [
    {
     "name": "stdout",
     "output_type": "stream",
     "text": [
      "Reading data from Hopsworks, using Hopsworks Feature Query Service.   \r"
     ]
    },
    {
     "name": "stdout",
     "output_type": "stream",
     "text": [
      "Reading data from Hopsworks, using Hopsworks Feature Query Service..   \r"
     ]
    },
    {
     "name": "stdout",
     "output_type": "stream",
     "text": [
      "\r",
      "Finished: Reading data from Hopsworks, using Hopsworks Feature Query Service (0.51s) \n"
     ]
    },
    {
     "data": {
      "text/html": [
       "<div>\n",
       "<style scoped>\n",
       "    .dataframe tbody tr th:only-of-type {\n",
       "        vertical-align: middle;\n",
       "    }\n",
       "\n",
       "    .dataframe tbody tr th {\n",
       "        vertical-align: top;\n",
       "    }\n",
       "\n",
       "    .dataframe thead th {\n",
       "        text-align: right;\n",
       "    }\n",
       "</style>\n",
       "<table border=\"1\" class=\"dataframe\">\n",
       "  <thead>\n",
       "    <tr style=\"text-align: right;\">\n",
       "      <th></th>\n",
       "      <th>predicted_price</th>\n",
       "      <th>date</th>\n",
       "    </tr>\n",
       "  </thead>\n",
       "  <tbody>\n",
       "    <tr>\n",
       "      <th>1692</th>\n",
       "      <td>412.000061</td>\n",
       "      <td>2025-01-08</td>\n",
       "    </tr>\n",
       "    <tr>\n",
       "      <th>1691</th>\n",
       "      <td>463.930000</td>\n",
       "      <td>2025-01-07</td>\n",
       "    </tr>\n",
       "    <tr>\n",
       "      <th>1690</th>\n",
       "      <td>468.930000</td>\n",
       "      <td>2025-01-06</td>\n",
       "    </tr>\n",
       "    <tr>\n",
       "      <th>1689</th>\n",
       "      <td>466.690000</td>\n",
       "      <td>2025-01-03</td>\n",
       "    </tr>\n",
       "    <tr>\n",
       "      <th>1369</th>\n",
       "      <td>484.900000</td>\n",
       "      <td>2024-12-16</td>\n",
       "    </tr>\n",
       "    <tr>\n",
       "      <th>958</th>\n",
       "      <td>483.310000</td>\n",
       "      <td>2024-12-13</td>\n",
       "    </tr>\n",
       "    <tr>\n",
       "      <th>627</th>\n",
       "      <td>480.110000</td>\n",
       "      <td>2024-12-12</td>\n",
       "    </tr>\n",
       "    <tr>\n",
       "      <th>795</th>\n",
       "      <td>476.910000</td>\n",
       "      <td>2024-12-11</td>\n",
       "    </tr>\n",
       "    <tr>\n",
       "      <th>1078</th>\n",
       "      <td>471.580000</td>\n",
       "      <td>2024-12-10</td>\n",
       "    </tr>\n",
       "    <tr>\n",
       "      <th>1598</th>\n",
       "      <td>482.520000</td>\n",
       "      <td>2024-12-09</td>\n",
       "    </tr>\n",
       "    <tr>\n",
       "      <th>738</th>\n",
       "      <td>498.630000</td>\n",
       "      <td>2024-12-06</td>\n",
       "    </tr>\n",
       "    <tr>\n",
       "      <th>868</th>\n",
       "      <td>493.510000</td>\n",
       "      <td>2024-12-05</td>\n",
       "    </tr>\n",
       "    <tr>\n",
       "      <th>1551</th>\n",
       "      <td>502.380000</td>\n",
       "      <td>2024-12-04</td>\n",
       "    </tr>\n",
       "    <tr>\n",
       "      <th>1630</th>\n",
       "      <td>493.320000</td>\n",
       "      <td>2024-12-03</td>\n",
       "    </tr>\n",
       "    <tr>\n",
       "      <th>66</th>\n",
       "      <td>480.270000</td>\n",
       "      <td>2024-12-02</td>\n",
       "    </tr>\n",
       "    <tr>\n",
       "      <th>423</th>\n",
       "      <td>476.960000</td>\n",
       "      <td>2024-11-29</td>\n",
       "    </tr>\n",
       "    <tr>\n",
       "      <th>1090</th>\n",
       "      <td>475.240000</td>\n",
       "      <td>2024-11-27</td>\n",
       "    </tr>\n",
       "    <tr>\n",
       "      <th>1508</th>\n",
       "      <td>476.610000</td>\n",
       "      <td>2024-11-26</td>\n",
       "    </tr>\n",
       "    <tr>\n",
       "      <th>32</th>\n",
       "      <td>481.380000</td>\n",
       "      <td>2024-11-25</td>\n",
       "    </tr>\n",
       "    <tr>\n",
       "      <th>796</th>\n",
       "      <td>475.040000</td>\n",
       "      <td>2024-11-22</td>\n",
       "    </tr>\n",
       "    <tr>\n",
       "      <th>1248</th>\n",
       "      <td>470.700000</td>\n",
       "      <td>2024-11-21</td>\n",
       "    </tr>\n",
       "    <tr>\n",
       "      <th>1612</th>\n",
       "      <td>470.010000</td>\n",
       "      <td>2024-11-20</td>\n",
       "    </tr>\n",
       "    <tr>\n",
       "      <th>1603</th>\n",
       "      <td>463.830000</td>\n",
       "      <td>2024-11-19</td>\n",
       "    </tr>\n",
       "    <tr>\n",
       "      <th>1358</th>\n",
       "      <td>454.360000</td>\n",
       "      <td>2024-11-18</td>\n",
       "    </tr>\n",
       "    <tr>\n",
       "      <th>925</th>\n",
       "      <td>458.320000</td>\n",
       "      <td>2024-11-15</td>\n",
       "    </tr>\n",
       "    <tr>\n",
       "      <th>1137</th>\n",
       "      <td>477.500000</td>\n",
       "      <td>2024-11-14</td>\n",
       "    </tr>\n",
       "    <tr>\n",
       "      <th>1370</th>\n",
       "      <td>467.370000</td>\n",
       "      <td>2024-11-13</td>\n",
       "    </tr>\n",
       "    <tr>\n",
       "      <th>1510</th>\n",
       "      <td>419.390000</td>\n",
       "      <td>2024-11-12</td>\n",
       "    </tr>\n",
       "    <tr>\n",
       "      <th>636</th>\n",
       "      <td>410.190000</td>\n",
       "      <td>2024-11-11</td>\n",
       "    </tr>\n",
       "    <tr>\n",
       "      <th>1256</th>\n",
       "      <td>400.680000</td>\n",
       "      <td>2024-11-08</td>\n",
       "    </tr>\n",
       "    <tr>\n",
       "      <th>917</th>\n",
       "      <td>399.840000</td>\n",
       "      <td>2024-11-07</td>\n",
       "    </tr>\n",
       "    <tr>\n",
       "      <th>1504</th>\n",
       "      <td>391.160000</td>\n",
       "      <td>2024-11-06</td>\n",
       "    </tr>\n",
       "    <tr>\n",
       "      <th>1558</th>\n",
       "      <td>382.630000</td>\n",
       "      <td>2024-11-05</td>\n",
       "    </tr>\n",
       "    <tr>\n",
       "      <th>103</th>\n",
       "      <td>377.730000</td>\n",
       "      <td>2024-11-04</td>\n",
       "    </tr>\n",
       "    <tr>\n",
       "      <th>1208</th>\n",
       "      <td>384.500000</td>\n",
       "      <td>2024-11-01</td>\n",
       "    </tr>\n",
       "    <tr>\n",
       "      <th>1374</th>\n",
       "      <td>385.100000</td>\n",
       "      <td>2024-10-31</td>\n",
       "    </tr>\n",
       "    <tr>\n",
       "      <th>290</th>\n",
       "      <td>394.020000</td>\n",
       "      <td>2024-10-30</td>\n",
       "    </tr>\n",
       "    <tr>\n",
       "      <th>464</th>\n",
       "      <td>391.230000</td>\n",
       "      <td>2024-10-29</td>\n",
       "    </tr>\n",
       "    <tr>\n",
       "      <th>586</th>\n",
       "      <td>384.360000</td>\n",
       "      <td>2024-10-28</td>\n",
       "    </tr>\n",
       "    <tr>\n",
       "      <th>1224</th>\n",
       "      <td>379.160000</td>\n",
       "      <td>2024-10-25</td>\n",
       "    </tr>\n",
       "    <tr>\n",
       "      <th>1176</th>\n",
       "      <td>376.870000</td>\n",
       "      <td>2024-10-24</td>\n",
       "    </tr>\n",
       "    <tr>\n",
       "      <th>242</th>\n",
       "      <td>379.840000</td>\n",
       "      <td>2024-10-23</td>\n",
       "    </tr>\n",
       "    <tr>\n",
       "      <th>117</th>\n",
       "      <td>387.630000</td>\n",
       "      <td>2024-10-22</td>\n",
       "    </tr>\n",
       "    <tr>\n",
       "      <th>329</th>\n",
       "      <td>381.970000</td>\n",
       "      <td>2024-10-21</td>\n",
       "    </tr>\n",
       "    <tr>\n",
       "      <th>1052</th>\n",
       "      <td>378.880000</td>\n",
       "      <td>2024-10-18</td>\n",
       "    </tr>\n",
       "    <tr>\n",
       "      <th>233</th>\n",
       "      <td>366.750000</td>\n",
       "      <td>2024-10-17</td>\n",
       "    </tr>\n",
       "    <tr>\n",
       "      <th>84</th>\n",
       "      <td>371.690000</td>\n",
       "      <td>2024-10-16</td>\n",
       "    </tr>\n",
       "    <tr>\n",
       "      <th>101</th>\n",
       "      <td>372.600000</td>\n",
       "      <td>2024-10-15</td>\n",
       "    </tr>\n",
       "    <tr>\n",
       "      <th>369</th>\n",
       "      <td>372.500000</td>\n",
       "      <td>2024-10-14</td>\n",
       "    </tr>\n",
       "    <tr>\n",
       "      <th>1319</th>\n",
       "      <td>373.700000</td>\n",
       "      <td>2024-10-11</td>\n",
       "    </tr>\n",
       "    <tr>\n",
       "      <th>1616</th>\n",
       "      <td>378.000000</td>\n",
       "      <td>2024-10-10</td>\n",
       "    </tr>\n",
       "    <tr>\n",
       "      <th>647</th>\n",
       "      <td>373.980000</td>\n",
       "      <td>2024-10-09</td>\n",
       "    </tr>\n",
       "    <tr>\n",
       "      <th>547</th>\n",
       "      <td>370.380000</td>\n",
       "      <td>2024-10-08</td>\n",
       "    </tr>\n",
       "    <tr>\n",
       "      <th>784</th>\n",
       "      <td>362.950000</td>\n",
       "      <td>2024-10-07</td>\n",
       "    </tr>\n",
       "    <tr>\n",
       "      <th>318</th>\n",
       "      <td>371.450000</td>\n",
       "      <td>2024-10-04</td>\n",
       "    </tr>\n",
       "    <tr>\n",
       "      <th>1606</th>\n",
       "      <td>372.600000</td>\n",
       "      <td>2024-10-03</td>\n",
       "    </tr>\n",
       "    <tr>\n",
       "      <th>187</th>\n",
       "      <td>374.750000</td>\n",
       "      <td>2024-10-02</td>\n",
       "    </tr>\n",
       "    <tr>\n",
       "      <th>603</th>\n",
       "      <td>375.400000</td>\n",
       "      <td>2024-10-01</td>\n",
       "    </tr>\n",
       "    <tr>\n",
       "      <th>785</th>\n",
       "      <td>368.530000</td>\n",
       "      <td>2024-09-30</td>\n",
       "    </tr>\n",
       "    <tr>\n",
       "      <th>222</th>\n",
       "      <td>369.200000</td>\n",
       "      <td>2024-09-27</td>\n",
       "    </tr>\n",
       "  </tbody>\n",
       "</table>\n",
       "</div>"
      ],
      "text/plain": [
       "      predicted_price       date\n",
       "1692       412.000061 2025-01-08\n",
       "1691       463.930000 2025-01-07\n",
       "1690       468.930000 2025-01-06\n",
       "1689       466.690000 2025-01-03\n",
       "1369       484.900000 2024-12-16\n",
       "958        483.310000 2024-12-13\n",
       "627        480.110000 2024-12-12\n",
       "795        476.910000 2024-12-11\n",
       "1078       471.580000 2024-12-10\n",
       "1598       482.520000 2024-12-09\n",
       "738        498.630000 2024-12-06\n",
       "868        493.510000 2024-12-05\n",
       "1551       502.380000 2024-12-04\n",
       "1630       493.320000 2024-12-03\n",
       "66         480.270000 2024-12-02\n",
       "423        476.960000 2024-11-29\n",
       "1090       475.240000 2024-11-27\n",
       "1508       476.610000 2024-11-26\n",
       "32         481.380000 2024-11-25\n",
       "796        475.040000 2024-11-22\n",
       "1248       470.700000 2024-11-21\n",
       "1612       470.010000 2024-11-20\n",
       "1603       463.830000 2024-11-19\n",
       "1358       454.360000 2024-11-18\n",
       "925        458.320000 2024-11-15\n",
       "1137       477.500000 2024-11-14\n",
       "1370       467.370000 2024-11-13\n",
       "1510       419.390000 2024-11-12\n",
       "636        410.190000 2024-11-11\n",
       "1256       400.680000 2024-11-08\n",
       "917        399.840000 2024-11-07\n",
       "1504       391.160000 2024-11-06\n",
       "1558       382.630000 2024-11-05\n",
       "103        377.730000 2024-11-04\n",
       "1208       384.500000 2024-11-01\n",
       "1374       385.100000 2024-10-31\n",
       "290        394.020000 2024-10-30\n",
       "464        391.230000 2024-10-29\n",
       "586        384.360000 2024-10-28\n",
       "1224       379.160000 2024-10-25\n",
       "1176       376.870000 2024-10-24\n",
       "242        379.840000 2024-10-23\n",
       "117        387.630000 2024-10-22\n",
       "329        381.970000 2024-10-21\n",
       "1052       378.880000 2024-10-18\n",
       "233        366.750000 2024-10-17\n",
       "84         371.690000 2024-10-16\n",
       "101        372.600000 2024-10-15\n",
       "369        372.500000 2024-10-14\n",
       "1319       373.700000 2024-10-11\n",
       "1616       378.000000 2024-10-10\n",
       "647        373.980000 2024-10-09\n",
       "547        370.380000 2024-10-08\n",
       "784        362.950000 2024-10-07\n",
       "318        371.450000 2024-10-04\n",
       "1606       372.600000 2024-10-03\n",
       "187        374.750000 2024-10-02\n",
       "603        375.400000 2024-10-01\n",
       "785        368.530000 2024-09-30\n",
       "222        369.200000 2024-09-27"
      ]
     },
     "execution_count": 21,
     "metadata": {},
     "output_type": "execute_result"
    }
   ],
   "source": [
    "spot_df = SPOT_fg.read()\n",
    "spot_df['timestamp'] = pd.to_datetime(spot_df['timestamp'].dt.date)\n",
    "# spot_df['timestamp'] = spot_df['timestamp'].dt.tz_localize(None)\n",
    "\n",
    "spot_plotting_df = pd.DataFrame()\n",
    "spot_plotting_df['predicted_price'] = spot_df['price']\n",
    "spot_plotting_df['timestamp'] = spot_df['timestamp']\n",
    "spot_plotting_df = pd.concat([spot_plotting_df, spot_pred_df], ignore_index=True)\n",
    "spot_plotting_df['date'] = spot_plotting_df['timestamp'].copy()\n",
    "spot_plotting_df.drop('timestamp', axis=1, inplace=True)\n",
    "spot_plotting_df = spot_plotting_df.sort_values(by=['date'], ascending=False)\n",
    "spot_plotting_df.head(60)"
   ]
  },
  {
   "cell_type": "code",
   "execution_count": 22,
   "id": "9bb0f844",
   "metadata": {
    "execution": {
     "iopub.execute_input": "2025-01-08T01:54:47.914452Z",
     "iopub.status.busy": "2025-01-08T01:54:47.914242Z",
     "iopub.status.idle": "2025-01-08T01:54:48.342375Z",
     "shell.execute_reply": "2025-01-08T01:54:48.341627Z"
    }
   },
   "outputs": [
    {
     "name": "stdout",
     "output_type": "stream",
     "text": [
      "2025-01-08 01:54:47,919 WARNING: DeprecationWarning: backend2gui is deprecated since IPython 8.24, backends are managed in matplotlib and can be externally registered.\n",
      "\n"
     ]
    },
    {
     "data": {
      "image/png": "[encoded data removed]",
      "text/plain": [
       "<Figure size 1000x600 with 1 Axes>"
      ]
     },
     "metadata": {},
     "output_type": "display_data"
    }
   ],
   "source": [
    "file_path = \"../docs/img/spot_forecast.png\"\n",
    "if os.path.exists(os.path.dirname(file_path)):\n",
    "    plt = util.plot_stock_price_forecast(df=spot_plotting_df.head(60), file_path=file_path, name=\"Spotify\", hindcast=False) \n",
    "else:\n",
    "    os.makedirs(os.path.dirname(file_path), exist_ok=True)\n",
    "    plt = util.plot_stock_price_forecast(df=spot_plotting_df.head(60), file_path=file_path, name=\"Spotify\", hindcast=False) \n",
    "\n",
    "plt.show()"
   ]
  },
  {
   "cell_type": "code",
   "execution_count": 23,
   "id": "8ef44bbc",
   "metadata": {
    "execution": {
     "iopub.execute_input": "2025-01-08T01:54:48.344667Z",
     "iopub.status.busy": "2025-01-08T01:54:48.344313Z",
     "iopub.status.idle": "2025-01-08T01:54:49.056481Z",
     "shell.execute_reply": "2025-01-08T01:54:49.055808Z"
    }
   },
   "outputs": [
    {
     "name": "stdout",
     "output_type": "stream",
     "text": [
      "Reading data from Hopsworks, using Hopsworks Feature Query Service.   \r"
     ]
    },
    {
     "name": "stdout",
     "output_type": "stream",
     "text": [
      "\r",
      "Finished: Reading data from Hopsworks, using Hopsworks Feature Query Service (0.39s) \n"
     ]
    }
   ],
   "source": [
    "googl_df = GOOGL_fg.read()\n",
    "googl_df['timestamp'] = pd.to_datetime(googl_df['timestamp'].dt.date)\n",
    "\n",
    "googl_plotting_df = pd.DataFrame()\n",
    "googl_plotting_df['predicted_price'] = googl_df['price']\n",
    "googl_plotting_df['timestamp'] = googl_df['timestamp']\n",
    "googl_plotting_df = pd.concat([googl_plotting_df, googl_pred_df], ignore_index=True)\n",
    "googl_plotting_df['date'] = googl_plotting_df['timestamp'].copy()\n",
    "googl_plotting_df.drop('timestamp', axis=1, inplace=True)\n",
    "googl_plotting_df = googl_plotting_df.sort_values(by=['date'], ascending=False)"
   ]
  },
  {
   "cell_type": "code",
   "execution_count": 24,
   "id": "6b77a5e2",
   "metadata": {
    "execution": {
     "iopub.execute_input": "2025-01-08T01:54:49.058887Z",
     "iopub.status.busy": "2025-01-08T01:54:49.058460Z",
     "iopub.status.idle": "2025-01-08T01:54:49.450233Z",
     "shell.execute_reply": "2025-01-08T01:54:49.449589Z"
    }
   },
   "outputs": [
    {
     "data": {
      "image/png": "[encoded data removed]",
      "text/plain": [
       "<Figure size 1000x600 with 1 Axes>"
      ]
     },
     "metadata": {},
     "output_type": "display_data"
    }
   ],
   "source": [
    "file_path = \"../docs/img/googl_forecast.png\"\n",
    "if os.path.exists(os.path.dirname(file_path)):\n",
    "    plt = util.plot_stock_price_forecast(df=googl_plotting_df.head(60), file_path=file_path, name=\"Google\", hindcast=False) \n",
    "else:\n",
    "    os.makedirs(os.path.dirname(file_path), exist_ok=True)\n",
    "    plt = util.plot_stock_price_forecast(df=googl_plotting_df.head(60), file_path=file_path, name=\"Google\", hindcast=False) \n",
    "\n",
    "plt.show()"
   ]
  },
  {
   "cell_type": "code",
   "execution_count": 25,
   "id": "4cc89601",
   "metadata": {
    "execution": {
     "iopub.execute_input": "2025-01-08T01:54:49.452579Z",
     "iopub.status.busy": "2025-01-08T01:54:49.452184Z",
     "iopub.status.idle": "2025-01-08T01:54:50.682978Z",
     "shell.execute_reply": "2025-01-08T01:54:50.682311Z"
    }
   },
   "outputs": [
    {
     "name": "stdout",
     "output_type": "stream",
     "text": [
      "Reading data from Hopsworks, using Hopsworks Feature Query Service.   \r"
     ]
    },
    {
     "name": "stdout",
     "output_type": "stream",
     "text": [
      "Reading data from Hopsworks, using Hopsworks Feature Query Service..   \r"
     ]
    },
    {
     "name": "stdout",
     "output_type": "stream",
     "text": [
      "\r",
      "Finished: Reading data from Hopsworks, using Hopsworks Feature Query Service (0.54s) \n"
     ]
    }
   ],
   "source": [
    "btc_df = BTC_fg.read()\n",
    "btc_df['timestamp'] = pd.to_datetime(btc_df['timestamp'].dt.date)\n",
    "\n",
    "btc_plotting_df = pd.DataFrame()\n",
    "btc_plotting_df['predicted_price'] = btc_df['price']\n",
    "btc_plotting_df['timestamp'] = btc_df['timestamp']\n",
    "btc_plotting_df = pd.concat([btc_plotting_df, btc_pred_df], ignore_index=True)\n",
    "btc_plotting_df['date'] = btc_plotting_df['timestamp'].copy()\n",
    "btc_plotting_df.drop('timestamp', axis=1, inplace=True)\n",
    "btc_plotting_df = btc_plotting_df.sort_values(by=['date'], ascending=False)"
   ]
  },
  {
   "cell_type": "code",
   "execution_count": 26,
   "id": "86d05229",
   "metadata": {
    "execution": {
     "iopub.execute_input": "2025-01-08T01:54:50.685318Z",
     "iopub.status.busy": "2025-01-08T01:54:50.684932Z",
     "iopub.status.idle": "2025-01-08T01:54:51.019620Z",
     "shell.execute_reply": "2025-01-08T01:54:51.018923Z"
    }
   },
   "outputs": [
    {
     "data": {
      "image/png": "[encoded data removed]",
      "text/plain": [
       "<Figure size 1000x600 with 1 Axes>"
      ]
     },
     "metadata": {},
     "output_type": "display_data"
    }
   ],
   "source": [
    "file_path = \"../docs/img/btc_forecast.png\"\n",
    "if os.path.exists(os.path.dirname(file_path)):\n",
    "    plt = util.plot_stock_price_forecast(df=btc_plotting_df.head(60), file_path=file_path, name=\"Bitcoin\", hindcast=False) \n",
    "else:\n",
    "    os.makedirs(os.path.dirname(file_path), exist_ok=True)\n",
    "    plt = util.plot_stock_price_forecast(df=btc_plotting_df.head(60), file_path=file_path, name=\"Bitcoin\", hindcast=False) \n",
    "\n",
    "plt.show()"
   ]
  },
  {
   "cell_type": "markdown",
   "id": "9edb1552",
   "metadata": {},
   "source": [
    "### Plot the Hindcast comparing predicted with forecasted values (1-day prior forecast)\n",
    "\n",
    "__This graph will be empty to begin with - this is normal.__\n",
    "\n",
    "After a few days of predictions and observations, you will get data points in this graph."
   ]
  },
  {
   "cell_type": "code",
   "execution_count": 27,
   "id": "d3e08e43",
   "metadata": {
    "execution": {
     "iopub.execute_input": "2025-01-08T01:54:51.021970Z",
     "iopub.status.busy": "2025-01-08T01:54:51.021569Z",
     "iopub.status.idle": "2025-01-08T01:54:51.739114Z",
     "shell.execute_reply": "2025-01-08T01:54:51.738399Z"
    }
   },
   "outputs": [
    {
     "name": "stdout",
     "output_type": "stream",
     "text": [
      "Reading data from Hopsworks, using Hopsworks Feature Query Service.   \r"
     ]
    },
    {
     "name": "stdout",
     "output_type": "stream",
     "text": [
      "\r",
      "Finished: Reading data from Hopsworks, using Hopsworks Feature Query Service (0.44s) \n"
     ]
    },
    {
     "data": {
      "text/html": [
       "<div>\n",
       "<style scoped>\n",
       "    .dataframe tbody tr th:only-of-type {\n",
       "        vertical-align: middle;\n",
       "    }\n",
       "\n",
       "    .dataframe tbody tr th {\n",
       "        vertical-align: top;\n",
       "    }\n",
       "\n",
       "    .dataframe thead th {\n",
       "        text-align: right;\n",
       "    }\n",
       "</style>\n",
       "<table border=\"1\" class=\"dataframe\">\n",
       "  <thead>\n",
       "    <tr style=\"text-align: right;\">\n",
       "      <th></th>\n",
       "      <th>predicted_price</th>\n",
       "      <th>price</th>\n",
       "      <th>date</th>\n",
       "    </tr>\n",
       "  </thead>\n",
       "  <tbody>\n",
       "    <tr>\n",
       "      <th>0</th>\n",
       "      <td>423.199097</td>\n",
       "      <td>468.93</td>\n",
       "      <td>2025-01-06</td>\n",
       "    </tr>\n",
       "    <tr>\n",
       "      <th>1</th>\n",
       "      <td>423.199097</td>\n",
       "      <td>463.93</td>\n",
       "      <td>2025-01-07</td>\n",
       "    </tr>\n",
       "  </tbody>\n",
       "</table>\n",
       "</div>"
      ],
      "text/plain": [
       "   predicted_price   price       date\n",
       "0       423.199097  468.93 2025-01-06\n",
       "1       423.199097  463.93 2025-01-07"
      ]
     },
     "execution_count": 27,
     "metadata": {},
     "output_type": "execute_result"
    }
   ],
   "source": [
    "SPOT_pred_df = spot_pred_fg.read()\n",
    "# Convert timestamps to datetime and set timezone to UTC\n",
    "SPOT_pred_df['timestamp'] = SPOT_pred_df['timestamp'].dt.tz_localize(None)\n",
    "spot_df['timestamp'] = spot_df['timestamp'].dt.tz_localize(None)\n",
    "merged_SPOT_df = pd.merge(SPOT_pred_df, spot_df, on='timestamp', how='inner')\n",
    "merged_SPOT_df['date'] = merged_SPOT_df['timestamp'].copy()\n",
    "merged_SPOT_df.drop('timestamp', axis=1, inplace=True)\n",
    "merged_SPOT_df"
   ]
  },
  {
   "cell_type": "code",
   "execution_count": 28,
   "id": "31e62393",
   "metadata": {
    "execution": {
     "iopub.execute_input": "2025-01-08T01:54:51.741504Z",
     "iopub.status.busy": "2025-01-08T01:54:51.741040Z",
     "iopub.status.idle": "2025-01-08T01:54:52.104279Z",
     "shell.execute_reply": "2025-01-08T01:54:52.103561Z"
    }
   },
   "outputs": [
    {
     "data": {
      "image/png": "[encoded data removed]",
      "text/plain": [
       "<Figure size 1000x600 with 1 Axes>"
      ]
     },
     "metadata": {},
     "output_type": "display_data"
    }
   ],
   "source": [
    "file_path = \"../docs/img/spot_hindcast.png\"\n",
    "if os.path.exists(os.path.dirname(file_path)):\n",
    "    plt = util.plot_stock_price_forecast(df=merged_SPOT_df, file_path=file_path, name=\"Spotify\", hindcast=True)\n",
    "else:\n",
    "    os.makedirs(os.path.dirname(file_path), exist_ok=True)\n",
    "    plt = util.plot_stock_price_forecast(df=merged_SPOT_df, file_path=file_path, name=\"Spotify\", hindcast=True)\n",
    "\n",
    "plt.show()"
   ]
  },
  {
   "cell_type": "code",
   "execution_count": 29,
   "id": "bfea5734",
   "metadata": {
    "execution": {
     "iopub.execute_input": "2025-01-08T01:54:52.106524Z",
     "iopub.status.busy": "2025-01-08T01:54:52.106150Z",
     "iopub.status.idle": "2025-01-08T01:54:52.813161Z",
     "shell.execute_reply": "2025-01-08T01:54:52.812552Z"
    }
   },
   "outputs": [
    {
     "name": "stdout",
     "output_type": "stream",
     "text": [
      "Reading data from Hopsworks, using Hopsworks Feature Query Service.   \r"
     ]
    },
    {
     "name": "stdout",
     "output_type": "stream",
     "text": [
      "\r",
      "Finished: Reading data from Hopsworks, using Hopsworks Feature Query Service (0.47s) \n"
     ]
    },
    {
     "data": {
      "text/html": [
       "<div>\n",
       "<style scoped>\n",
       "    .dataframe tbody tr th:only-of-type {\n",
       "        vertical-align: middle;\n",
       "    }\n",
       "\n",
       "    .dataframe tbody tr th {\n",
       "        vertical-align: top;\n",
       "    }\n",
       "\n",
       "    .dataframe thead th {\n",
       "        text-align: right;\n",
       "    }\n",
       "</style>\n",
       "<table border=\"1\" class=\"dataframe\">\n",
       "  <thead>\n",
       "    <tr style=\"text-align: right;\">\n",
       "      <th></th>\n",
       "      <th>predicted_price</th>\n",
       "      <th>price</th>\n",
       "      <th>date</th>\n",
       "    </tr>\n",
       "  </thead>\n",
       "  <tbody>\n",
       "    <tr>\n",
       "      <th>0</th>\n",
       "      <td>171.627686</td>\n",
       "      <td>196.87</td>\n",
       "      <td>2025-01-06</td>\n",
       "    </tr>\n",
       "    <tr>\n",
       "      <th>1</th>\n",
       "      <td>171.627686</td>\n",
       "      <td>195.49</td>\n",
       "      <td>2025-01-07</td>\n",
       "    </tr>\n",
       "  </tbody>\n",
       "</table>\n",
       "</div>"
      ],
      "text/plain": [
       "   predicted_price   price       date\n",
       "0       171.627686  196.87 2025-01-06\n",
       "1       171.627686  195.49 2025-01-07"
      ]
     },
     "execution_count": 29,
     "metadata": {},
     "output_type": "execute_result"
    }
   ],
   "source": [
    "GOOGL_pred_df = googl_pred_fg.read()\n",
    "# Convert timestamps to datetime and set timezone to UTC\n",
    "GOOGL_pred_df['timestamp'] = GOOGL_pred_df['timestamp'].dt.tz_localize(None)\n",
    "googl_df['timestamp'] = googl_df['timestamp'].dt.tz_localize(None)\n",
    "merged_GOOGL_df = pd.merge(GOOGL_pred_df, googl_df, on='timestamp', how='inner')\n",
    "merged_GOOGL_df['date'] = merged_GOOGL_df['timestamp'].copy()\n",
    "merged_GOOGL_df.drop('timestamp', axis=1, inplace=True)\n",
    "merged_GOOGL_df"
   ]
  },
  {
   "cell_type": "code",
   "execution_count": 30,
   "id": "5d8d3166",
   "metadata": {
    "execution": {
     "iopub.execute_input": "2025-01-08T01:54:52.815156Z",
     "iopub.status.busy": "2025-01-08T01:54:52.814955Z",
     "iopub.status.idle": "2025-01-08T01:54:53.175038Z",
     "shell.execute_reply": "2025-01-08T01:54:53.174422Z"
    }
   },
   "outputs": [
    {
     "data": {
      "image/png": "[encoded data removed]",
      "text/plain": [
       "<Figure size 1000x600 with 1 Axes>"
      ]
     },
     "metadata": {},
     "output_type": "display_data"
    }
   ],
   "source": [
    "file_path = \"../docs/img/googl_hindcast.png\"\n",
    "if os.path.exists(os.path.dirname(file_path)):\n",
    "    plt = util.plot_stock_price_forecast(df=merged_GOOGL_df, file_path=file_path, name=\"Google\", hindcast=True)\n",
    "else:\n",
    "    os.makedirs(os.path.dirname(file_path), exist_ok=True)\n",
    "    plt = util.plot_stock_price_forecast(df=merged_GOOGL_df, file_path=file_path, name=\"Google\", hindcast=True)\n",
    "\n",
    "plt.show()"
   ]
  },
  {
   "cell_type": "code",
   "execution_count": 31,
   "id": "f6604613",
   "metadata": {
    "execution": {
     "iopub.execute_input": "2025-01-08T01:54:53.177335Z",
     "iopub.status.busy": "2025-01-08T01:54:53.176858Z",
     "iopub.status.idle": "2025-01-08T01:54:54.393384Z",
     "shell.execute_reply": "2025-01-08T01:54:54.392824Z"
    }
   },
   "outputs": [
    {
     "name": "stdout",
     "output_type": "stream",
     "text": [
      "Reading data from Hopsworks, using Hopsworks Feature Query Service.   \r"
     ]
    },
    {
     "name": "stdout",
     "output_type": "stream",
     "text": [
      "Reading data from Hopsworks, using Hopsworks Feature Query Service..   \r"
     ]
    },
    {
     "name": "stdout",
     "output_type": "stream",
     "text": [
      "\r",
      "Finished: Reading data from Hopsworks, using Hopsworks Feature Query Service (0.56s) \n"
     ]
    },
    {
     "data": {
      "text/html": [
       "<div>\n",
       "<style scoped>\n",
       "    .dataframe tbody tr th:only-of-type {\n",
       "        vertical-align: middle;\n",
       "    }\n",
       "\n",
       "    .dataframe tbody tr th {\n",
       "        vertical-align: top;\n",
       "    }\n",
       "\n",
       "    .dataframe thead th {\n",
       "        text-align: right;\n",
       "    }\n",
       "</style>\n",
       "<table border=\"1\" class=\"dataframe\">\n",
       "  <thead>\n",
       "    <tr style=\"text-align: right;\">\n",
       "      <th></th>\n",
       "      <th>predicted_price</th>\n",
       "      <th>price</th>\n",
       "      <th>date</th>\n",
       "    </tr>\n",
       "  </thead>\n",
       "  <tbody>\n",
       "    <tr>\n",
       "      <th>0</th>\n",
       "      <td>93871.054688</td>\n",
       "      <td>98130.00</td>\n",
       "      <td>2025-01-06</td>\n",
       "    </tr>\n",
       "    <tr>\n",
       "      <th>1</th>\n",
       "      <td>98411.734375</td>\n",
       "      <td>101784.17</td>\n",
       "      <td>2025-01-07</td>\n",
       "    </tr>\n",
       "  </tbody>\n",
       "</table>\n",
       "</div>"
      ],
      "text/plain": [
       "   predicted_price      price       date\n",
       "0     93871.054688   98130.00 2025-01-06\n",
       "1     98411.734375  101784.17 2025-01-07"
      ]
     },
     "execution_count": 31,
     "metadata": {},
     "output_type": "execute_result"
    }
   ],
   "source": [
    "BTC_pred_df =btc_pred_fg.read()\n",
    "# Convert timestamps to datetime and set timezone to UTC\n",
    "BTC_pred_df['timestamp'] = BTC_pred_df['timestamp'].dt.tz_localize(None)\n",
    "btc_df['timestamp'] = btc_df['timestamp'].dt.tz_localize(None)\n",
    "merged_BTC_df = pd.merge(BTC_pred_df, btc_df, on='timestamp', how='inner')\n",
    "merged_BTC_df['date'] = merged_BTC_df['timestamp'].copy()\n",
    "merged_BTC_df.drop('timestamp', axis=1, inplace=True)\n",
    "merged_BTC_df"
   ]
  },
  {
   "cell_type": "code",
   "execution_count": 32,
   "id": "92e49cfa",
   "metadata": {
    "execution": {
     "iopub.execute_input": "2025-01-08T01:54:54.395581Z",
     "iopub.status.busy": "2025-01-08T01:54:54.395166Z",
     "iopub.status.idle": "2025-01-08T01:54:54.760629Z",
     "shell.execute_reply": "2025-01-08T01:54:54.759906Z"
    }
   },
   "outputs": [
    {
     "data": {
      "image/png": "[encoded data removed]",
      "text/plain": [
       "<Figure size 1000x600 with 1 Axes>"
      ]
     },
     "metadata": {},
     "output_type": "display_data"
    }
   ],
   "source": [
    "file_path = \"../docs/img/btc_hindcast.png\"\n",
    "if os.path.exists(os.path.dirname(file_path)):\n",
    "    plt = util.plot_stock_price_forecast(df=merged_BTC_df, file_path=file_path, name=\"BTC\", hindcast=True)\n",
    "else:\n",
    "    os.makedirs(os.path.dirname(file_path), exist_ok=True)\n",
    "    plt = util.plot_stock_price_forecast(df=merged_BTC_df, file_path=file_path, name=\"BTC\", hindcast=True)\n",
    "\n",
    "plt.show()"
   ]
  }
 ],
 "metadata": {
  "kernelspec": {
   "display_name": "airquality",
   "language": "python",
   "name": "python3"
  },
  "language_info": {
   "codemirror_mode": {
    "name": "ipython",
    "version": 3
   },
   "file_extension": ".py",
   "mimetype": "text/x-python",
   "name": "python",
   "nbconvert_exporter": "python",
   "pygments_lexer": "ipython3",
   "version": "3.10.15"
  }
 },
 "nbformat": 4,
 "nbformat_minor": 5
}
