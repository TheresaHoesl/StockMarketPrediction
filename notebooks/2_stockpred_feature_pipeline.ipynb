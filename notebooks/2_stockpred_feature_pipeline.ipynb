{
 "cells": [
  {
   "cell_type": "markdown",
   "id": "a9e46aad",
   "metadata": {},
   "source": [
    "# Tradable Price Feature Pipeline Notebook"
   ]
  },
  {
   "cell_type": "markdown",
   "id": "cfe638c6",
   "metadata": {},
   "source": [
    "### Imports"
   ]
  },
  {
   "cell_type": "code",
   "execution_count": 1,
   "id": "7de2e93a",
   "metadata": {},
   "outputs": [],
   "source": [
    "import requests\n",
    "import pandas as pd\n",
    "import datetime\n",
    "import time\n",
    "import requests\n",
    "import pandas as pd\n",
    "import hopsworks\n",
    "from functions import util\n",
    "import json\n",
    "import os\n",
    "import warnings\n",
    "import pytz\n",
    "import numpy as np\n",
    "warnings.filterwarnings(\"ignore\")"
   ]
  },
  {
   "cell_type": "markdown",
   "id": "da6081d1",
   "metadata": {},
   "source": [
    "### Login to Hopsworks \n"
   ]
  },
  {
   "cell_type": "code",
   "execution_count": 2,
   "id": "b70cd57d",
   "metadata": {
    "tags": []
   },
   "outputs": [
    {
     "name": "stdout",
     "output_type": "stream",
     "text": [
      "2025-01-07 07:49:16,560 INFO: Initializing external client\n",
      "2025-01-07 07:49:16,561 INFO: Base URL: https://c.app.hopsworks.ai:443\n",
      "2025-01-07 07:49:18,049 INFO: Python Engine initialized.\n",
      "\n",
      "Logged in to project, explore it here https://c.app.hopsworks.ai:443/p/1205424\n"
     ]
    }
   ],
   "source": [
    "# If you haven't set the env variable 'HOPSWORKS_API_KEY', then uncomment the next line and enter your API key\n",
    "# with open('../data/hopsworks-api-key.txt', 'r') as file:\n",
    "#     os.environ[\"HOPSWORKS_API_KEY\"] = file.read().rstrip()\n",
    "\n",
    "project = hopsworks.login(project = 'StockPrediction', api_key_value=os.environ[\"HOPSWORKS_API_KEY\"])\n",
    "fs = project.get_feature_store()\n",
    "\n",
    "# api_key_file = '../data/alphavantage-api-key.txt'\n",
    "# util.check_file_path(api_key_file)\n",
    "\n",
    "# with open(api_key_file, 'r') as file:\n",
    "#     ALPHAVANTAGE_API_KEY = file.read().rstrip()\n",
    "\n",
    "secrets_api = hopsworks.get_secrets_api()\n",
    "ALPHAVANTAGE_API_KEY = secrets_api.get_secret(\"AV_API_KEY\").value\n"
   ]
  },
  {
   "cell_type": "markdown",
   "id": "2caf9289",
   "metadata": {},
   "source": [
    "### Get references to the Feature Groups"
   ]
  },
  {
   "cell_type": "code",
   "execution_count": 3,
   "id": "66f5d7d5",
   "metadata": {},
   "outputs": [],
   "source": [
    "# Retrieve feature groups\n",
    "SPOT_fg = fs.get_feature_group(\n",
    "    name='spot',\n",
    "    version=1,\n",
    ")\n",
    "\n",
    "GOOGL_fg = fs.get_feature_group(\n",
    "    name='googl',\n",
    "    version=1,\n",
    ")\n",
    "\n",
    "BTC_fg = fs.get_feature_group(\n",
    "    name='btc',\n",
    "    version=1,\n",
    ")\n",
    "\n",
    "SandP_fg = fs.get_feature_group(\n",
    "    name='sandp',\n",
    "    version=1,\n",
    ")\n",
    "\n",
    "Sent_SPOT_fg = fs.get_feature_group(\n",
    "    name='spotify_sentiment',\n",
    "    version=1,\n",
    ")\n",
    "\n",
    "Sent_GOOGL_fg = fs.get_feature_group(\n",
    "    name='google_sentiment',\n",
    "    version=1,\n",
    ")\n",
    "\n",
    "Sent_BTC_fg = fs.get_feature_group(\n",
    "    name='bitcoin_sentiment',\n",
    "    version=1,\n",
    ")"
   ]
  },
  {
   "cell_type": "markdown",
   "id": "1a7ffa41",
   "metadata": {},
   "source": [
    "### Retrieve Today's Tradable Price data from AV API\n"
   ]
  },
  {
   "cell_type": "code",
   "execution_count": 14,
   "id": "6f681af6",
   "metadata": {},
   "outputs": [],
   "source": [
    "spot_today = util.get_stock_price(\"SPOT\", ALPHAVANTAGE_API_KEY)\n",
    "googl_today = util.get_stock_price(\"GOOGL\", ALPHAVANTAGE_API_KEY)\n",
    "btc_today = util.get_crypto_price(\"BTC\", ALPHAVANTAGE_API_KEY)\n",
    "sandp_today = util.get_stock_price(\"IVV\", ALPHAVANTAGE_API_KEY)\n",
    "sent_spot_today = util.get_sentiment_score(\"SPOT\", ALPHAVANTAGE_API_KEY)\n",
    "sent_googl_today = util.get_sentiment_score(\"GOOG\", ALPHAVANTAGE_API_KEY)\n",
    "sent_btc_today = util.get_sentiment_score(\"CRYPTO:BTC\", ALPHAVANTAGE_API_KEY)"
   ]
  },
  {
   "cell_type": "code",
   "execution_count": 17,
   "id": "26854064",
   "metadata": {},
   "outputs": [],
   "source": [
    "sent_spot_today['timestamp'][0] = pd.Timestamp(sent_spot_today['timestamp'][0])\n",
    "sent_googl_today['timestamp'][0] = pd.Timestamp(sent_googl_today['timestamp'][0])\n",
    "sent_btc_today['timestamp'][0] = pd.Timestamp(sent_btc_today['timestamp'][0])"
   ]
  },
  {
   "cell_type": "markdown",
   "id": "4e1f5008",
   "metadata": {
    "tags": []
   },
   "source": [
    "### Uploading new data to the Feature Store"
   ]
  },
  {
   "cell_type": "code",
   "execution_count": 20,
   "id": "1eee28f6",
   "metadata": {},
   "outputs": [
    {
     "name": "stdout",
     "output_type": "stream",
     "text": [
      "2025-01-07 07:58:56,215 INFO: \t1 expectation(s) included in expectation_suite.\n",
      "Validation succeeded.\n",
      "Validation Report saved successfully, explore a summary at https://c.app.hopsworks.ai:443/p/1205424/fs/1194062/fg/1393607\n"
     ]
    },
    {
     "name": "stderr",
     "output_type": "stream",
     "text": [
      "Uploading Dataframe: 100.00% |██████████| Rows 1/1 | Elapsed Time: 00:01 | Remaining Time: 00:00\n"
     ]
    },
    {
     "name": "stdout",
     "output_type": "stream",
     "text": [
      "Launching job: google_sentiment_1_offline_fg_materialization\n",
      "Job started successfully, you can follow the progress at \n",
      "https://c.app.hopsworks.ai:443/p/1205424/jobs/named/google_sentiment_1_offline_fg_materialization/executions\n",
      "2025-01-07 07:59:09,280 INFO: \t1 expectation(s) included in expectation_suite.\n",
      "Validation succeeded.\n",
      "Validation Report saved successfully, explore a summary at https://c.app.hopsworks.ai:443/p/1205424/fs/1194062/fg/1393608\n"
     ]
    },
    {
     "name": "stderr",
     "output_type": "stream",
     "text": [
      "Uploading Dataframe: 100.00% |██████████| Rows 1/1 | Elapsed Time: 00:00 | Remaining Time: 00:00\n"
     ]
    },
    {
     "name": "stdout",
     "output_type": "stream",
     "text": [
      "Launching job: bitcoin_sentiment_1_offline_fg_materialization\n",
      "Job started successfully, you can follow the progress at \n",
      "https://c.app.hopsworks.ai:443/p/1205424/jobs/named/bitcoin_sentiment_1_offline_fg_materialization/executions\n"
     ]
    },
    {
     "data": {
      "text/plain": [
       "(Job('bitcoin_sentiment_1_offline_fg_materialization', 'SPARK'),\n",
       " {\n",
       "   \"success\": true,\n",
       "   \"results\": [\n",
       "     {\n",
       "       \"success\": true,\n",
       "       \"expectation_config\": {\n",
       "         \"expectation_type\": \"expect_column_values_to_be_between\",\n",
       "         \"kwargs\": {\n",
       "           \"column\": \"overall_sentiment_score\",\n",
       "           \"min_value\": -3.5,\n",
       "           \"max_value\": 3.5\n",
       "         },\n",
       "         \"meta\": {\n",
       "           \"expectationId\": 696082\n",
       "         }\n",
       "       },\n",
       "       \"result\": {\n",
       "         \"element_count\": 1,\n",
       "         \"missing_count\": 0,\n",
       "         \"missing_percent\": 0.0,\n",
       "         \"unexpected_count\": 0,\n",
       "         \"unexpected_percent\": 0.0,\n",
       "         \"unexpected_percent_total\": 0.0,\n",
       "         \"unexpected_percent_nonmissing\": 0.0,\n",
       "         \"partial_unexpected_list\": []\n",
       "       },\n",
       "       \"meta\": {\n",
       "         \"ingestionResult\": \"INGESTED\",\n",
       "         \"validationTime\": \"2025-01-07T06:59:09.000280Z\"\n",
       "       },\n",
       "       \"exception_info\": {\n",
       "         \"raised_exception\": false,\n",
       "         \"exception_message\": null,\n",
       "         \"exception_traceback\": null\n",
       "       }\n",
       "     }\n",
       "   ],\n",
       "   \"evaluation_parameters\": {},\n",
       "   \"statistics\": {\n",
       "     \"evaluated_expectations\": 1,\n",
       "     \"successful_expectations\": 1,\n",
       "     \"unsuccessful_expectations\": 0,\n",
       "     \"success_percent\": 100.0\n",
       "   },\n",
       "   \"meta\": {\n",
       "     \"great_expectations_version\": \"0.18.12\",\n",
       "     \"expectation_suite_name\": \"sentim_expectation_suite\",\n",
       "     \"run_id\": {\n",
       "       \"run_name\": null,\n",
       "       \"run_time\": \"2025-01-07T07:59:09.280285+01:00\"\n",
       "     },\n",
       "     \"batch_kwargs\": {\n",
       "       \"ge_batch_id\": \"e49ae0c3-ccc4-11ef-8590-f446376431c8\"\n",
       "     },\n",
       "     \"batch_markers\": {},\n",
       "     \"batch_parameters\": {},\n",
       "     \"validation_time\": \"20250107T065909.280285Z\",\n",
       "     \"expectation_suite_meta\": {\n",
       "       \"great_expectations_version\": \"0.18.12\"\n",
       "     }\n",
       "   }\n",
       " })"
      ]
     },
     "execution_count": 20,
     "metadata": {},
     "output_type": "execute_result"
    }
   ],
   "source": [
    "# Insert new data\n",
    "\n",
    "SPOT_fg.insert(spot_today)\n",
    "GOOGL_fg.insert(googl_today)\n",
    "BTC_fg.insert(btc_today)\n",
    "SandP_fg.insert(sandp_today)\n",
    "Sent_SPOT_fg.insert(sent_spot_today)\n",
    "Sent_GOOGL_fg.insert(sent_googl_today)\n",
    "Sent_BTC_fg.insert(sent_btc_today)"
   ]
  }
 ],
 "metadata": {
  "kernelspec": {
   "display_name": "airquality",
   "language": "python",
   "name": "python3"
  },
  "language_info": {
   "codemirror_mode": {
    "name": "ipython",
    "version": 3
   },
   "file_extension": ".py",
   "mimetype": "text/x-python",
   "name": "python",
   "nbconvert_exporter": "python",
   "pygments_lexer": "ipython3",
   "version": "3.8.20"
  }
 },
 "nbformat": 4,
 "nbformat_minor": 5
}
